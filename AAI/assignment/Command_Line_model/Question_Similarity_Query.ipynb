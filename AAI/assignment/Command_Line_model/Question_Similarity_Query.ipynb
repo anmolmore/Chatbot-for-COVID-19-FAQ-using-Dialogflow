{
 "cells": [
  {
   "cell_type": "code",
   "execution_count": 1,
   "metadata": {},
   "outputs": [],
   "source": [
    "import pickle\n",
    "import warnings\n",
    "warnings.filterwarnings(\"ignore\")\n",
    "import pandas as pd\n",
    "import numpy as np\n",
    "from sklearn.metrics.pairwise import cosine_similarity\n",
    "from scipy import sparse\n",
    "\n",
    "with open('covid_tf_idf_vect.pkl', 'rb') as f:\n",
    "    tf_idf_vect = pickle.load(f)\n",
    "with open('covid_final_xtr_std.pkl', 'rb') as f:\n",
    "    final_xtr_std = pickle.load(f)\n",
    "with open('covid_standardized_tfidf_train.pkl', 'rb') as f:\n",
    "    train_embed = pickle.load(f)       \n",
    "    \n"
   ]
  },
  {
   "cell_type": "code",
   "execution_count": null,
   "metadata": {},
   "outputs": [
    {
     "name": "stdout",
     "output_type": "stream",
     "text": [
      "What is coronavirus?\n",
      "Answer => Coronaviruses are a large family of viruses which may cause illness in animals or humans.\n",
      "\n",
      "is there vaccine for this virus?\n",
      "Answer => There are currently no vaccines against human coronaviruses, including the virus that causes COVID-19. This is why it is very important to prevent infection and to take measures to contain further spread of the virus.\n",
      "\n",
      "how many are infected with this virus ?\n",
      "Answer => The virus enters your body via your eyes, nose and/or mouth, so it is important to avoid touching your face with unwashed hands.\n",
      "\n",
      "Washing of hands with soap and water for at least 20 seconds, or cleaning hands thoroughly with alcohol-based solutions, gels or tissues is recommended in all settings. It is also recommended to stay one metre or more away from people infected with COVID-19 who are showing symptoms, to reduce the risk of infection through respiratory droplets.\n",
      "\n",
      "how long will it take to develop vaccine?\n",
      "Answer => The development of vaccines take time. Several pharmaceutical companies and research laboratories are working on vaccine candidates. It will, however, take months or years before any vaccine can be widely used, as it needs to undergo extensive testing in clinical trials to determine its safety and efficacy.  These clinical trials are an essential precursor to regulatory approval and usually take place in three phases. The first, involving a few dozen healthy volunteers, tests the vaccine for safety, monitoring for adverse effects. The second, involving several hundred people, usually in a part of the world badly affected by the disease, looks at how effective the vaccine is in the field, and the third does the same in several thousand people.\n",
      "\n"
     ]
    }
   ],
   "source": [
    "while(True):\n",
    "    #query = \"What type of virus is coronavirus?\"\n",
    "    query = input()\n",
    "    #print(query)\n",
    "    test_x = tf_idf_vect.transform(pd.Series(query))\n",
    "    final_query = final_xtr_std.transform(test_x)\n",
    "    final_mat = sparse.vstack((final_query,train_embed))\n",
    "    similarities_sparse = cosine_similarity(final_mat)\n",
    "    kb = pd.read_csv('knowledge_base.csv')\n",
    "    print('Answer => ' + kb.iloc[np.argmax(similarities_sparse[0][1:])][1]    )\n",
    "    print()"
   ]
  },
  {
   "cell_type": "code",
   "execution_count": null,
   "metadata": {},
   "outputs": [],
   "source": []
  },
  {
   "cell_type": "code",
   "execution_count": null,
   "metadata": {},
   "outputs": [],
   "source": []
  },
  {
   "cell_type": "code",
   "execution_count": null,
   "metadata": {},
   "outputs": [],
   "source": []
  }
 ],
 "metadata": {
  "kernelspec": {
   "display_name": "Python 3",
   "language": "python",
   "name": "python3"
  },
  "language_info": {
   "codemirror_mode": {
    "name": "ipython",
    "version": 3
   },
   "file_extension": ".py",
   "mimetype": "text/x-python",
   "name": "python",
   "nbconvert_exporter": "python",
   "pygments_lexer": "ipython3",
   "version": "3.7.3"
  },
  "toc": {
   "base_numbering": 1,
   "nav_menu": {},
   "number_sections": true,
   "sideBar": true,
   "skip_h1_title": false,
   "title_cell": "Table of Contents",
   "title_sidebar": "Table of Contents",
   "toc_cell": true,
   "toc_position": {
    "height": "calc(100% - 180px)",
    "left": "10px",
    "top": "150px",
    "width": "316px"
   },
   "toc_section_display": true,
   "toc_window_display": true
  }
 },
 "nbformat": 4,
 "nbformat_minor": 2
}
