{
 "cells": [
  {
   "cell_type": "markdown",
   "metadata": {},
   "source": [
    "<h3>Sriganesh Balamurugan – 11915001 <br> <br>\n",
    "Raghu Punnamraju – 11915010 <br> <br>\n",
    "Anmol More – 11915043 <br> <br>\n",
    "    ____________________________________________\n"
   ]
  },
  {
   "cell_type": "code",
   "execution_count": 1,
   "metadata": {},
   "outputs": [],
   "source": [
    "#import necessary libraries\n",
    "import pandas as pd\n",
    "import numpy as np\n",
    "import matplotlib.pyplot as plt\n",
    "import seaborn as sns\n",
    "\n",
    "from sklearn.cluster import KMeans\n",
    "from sklearn.model_selection import train_test_split\n",
    "from sklearn.preprocessing import MinMaxScaler\n",
    "\n",
    "from sklearn.metrics import confusion_matrix\n",
    "from sklearn.linear_model import LogisticRegression"
   ]
  },
  {
   "cell_type": "code",
   "execution_count": 2,
   "metadata": {},
   "outputs": [
    {
     "data": {
      "text/plain": [
       "'/Users/anmol/OneDrive - Indian School of Business/Github/ISB-Term3/RCSA/Case assignment/QWE'"
      ]
     },
     "execution_count": 2,
     "metadata": {},
     "output_type": "execute_result"
    }
   ],
   "source": [
    "import os\n",
    "os.getcwd()"
   ]
  },
  {
   "cell_type": "markdown",
   "metadata": {},
   "source": [
    "### Loading the excel data"
   ]
  },
  {
   "cell_type": "code",
   "execution_count": 3,
   "metadata": {},
   "outputs": [],
   "source": [
    "df = pd.read_excel( 'QWE-Excel.xlsx', na_values=[\"-\"],\n",
    "                   sheet_name='Case Data')\n",
    "df.drop(df.columns[len(df.columns)-3:], axis=1, inplace=True)"
   ]
  },
  {
   "cell_type": "code",
   "execution_count": 4,
   "metadata": {},
   "outputs": [
    {
     "data": {
      "text/plain": [
       "(6347, 13)"
      ]
     },
     "execution_count": 4,
     "metadata": {},
     "output_type": "execute_result"
    }
   ],
   "source": [
    "df.shape"
   ]
  },
  {
   "cell_type": "code",
   "execution_count": 5,
   "metadata": {},
   "outputs": [
    {
     "data": {
      "text/html": [
       "<div>\n",
       "<style scoped>\n",
       "    .dataframe tbody tr th:only-of-type {\n",
       "        vertical-align: middle;\n",
       "    }\n",
       "\n",
       "    .dataframe tbody tr th {\n",
       "        vertical-align: top;\n",
       "    }\n",
       "\n",
       "    .dataframe thead th {\n",
       "        text-align: right;\n",
       "    }\n",
       "</style>\n",
       "<table border=\"1\" class=\"dataframe\">\n",
       "  <thead>\n",
       "    <tr style=\"text-align: right;\">\n",
       "      <th></th>\n",
       "      <th>ID</th>\n",
       "      <th>Customer Age (in months)</th>\n",
       "      <th>Churn (1 = Yes, 0 = No)</th>\n",
       "      <th>CHI Score Month 0</th>\n",
       "      <th>CHI Score 0-1</th>\n",
       "      <th>Support Cases Month 0</th>\n",
       "      <th>Support Cases 0-1</th>\n",
       "      <th>SP Month 0</th>\n",
       "      <th>SP 0-1</th>\n",
       "      <th>Logins 0-1</th>\n",
       "      <th>Blog Articles 0-1</th>\n",
       "      <th>Views 0-1</th>\n",
       "      <th>Days Since Last Login 0-1</th>\n",
       "    </tr>\n",
       "  </thead>\n",
       "  <tbody>\n",
       "    <tr>\n",
       "      <td>0</td>\n",
       "      <td>6240</td>\n",
       "      <td>0</td>\n",
       "      <td>0</td>\n",
       "      <td>0</td>\n",
       "      <td>0</td>\n",
       "      <td>0</td>\n",
       "      <td>0</td>\n",
       "      <td>0.0</td>\n",
       "      <td>0.0</td>\n",
       "      <td>0</td>\n",
       "      <td>0</td>\n",
       "      <td>0</td>\n",
       "      <td>0</td>\n",
       "    </tr>\n",
       "    <tr>\n",
       "      <td>1</td>\n",
       "      <td>6347</td>\n",
       "      <td>1</td>\n",
       "      <td>0</td>\n",
       "      <td>0</td>\n",
       "      <td>0</td>\n",
       "      <td>0</td>\n",
       "      <td>0</td>\n",
       "      <td>0.0</td>\n",
       "      <td>0.0</td>\n",
       "      <td>0</td>\n",
       "      <td>0</td>\n",
       "      <td>0</td>\n",
       "      <td>0</td>\n",
       "    </tr>\n",
       "    <tr>\n",
       "      <td>2</td>\n",
       "      <td>6346</td>\n",
       "      <td>1</td>\n",
       "      <td>0</td>\n",
       "      <td>0</td>\n",
       "      <td>0</td>\n",
       "      <td>0</td>\n",
       "      <td>0</td>\n",
       "      <td>0.0</td>\n",
       "      <td>0.0</td>\n",
       "      <td>0</td>\n",
       "      <td>0</td>\n",
       "      <td>0</td>\n",
       "      <td>0</td>\n",
       "    </tr>\n",
       "    <tr>\n",
       "      <td>3</td>\n",
       "      <td>6345</td>\n",
       "      <td>1</td>\n",
       "      <td>0</td>\n",
       "      <td>0</td>\n",
       "      <td>0</td>\n",
       "      <td>0</td>\n",
       "      <td>0</td>\n",
       "      <td>0.0</td>\n",
       "      <td>0.0</td>\n",
       "      <td>0</td>\n",
       "      <td>0</td>\n",
       "      <td>0</td>\n",
       "      <td>0</td>\n",
       "    </tr>\n",
       "    <tr>\n",
       "      <td>4</td>\n",
       "      <td>6344</td>\n",
       "      <td>1</td>\n",
       "      <td>0</td>\n",
       "      <td>0</td>\n",
       "      <td>0</td>\n",
       "      <td>0</td>\n",
       "      <td>0</td>\n",
       "      <td>0.0</td>\n",
       "      <td>0.0</td>\n",
       "      <td>0</td>\n",
       "      <td>0</td>\n",
       "      <td>0</td>\n",
       "      <td>0</td>\n",
       "    </tr>\n",
       "  </tbody>\n",
       "</table>\n",
       "</div>"
      ],
      "text/plain": [
       "     ID  Customer Age (in months)  Churn (1 = Yes, 0 = No)  CHI Score Month 0  \\\n",
       "0  6240                         0                        0                  0   \n",
       "1  6347                         1                        0                  0   \n",
       "2  6346                         1                        0                  0   \n",
       "3  6345                         1                        0                  0   \n",
       "4  6344                         1                        0                  0   \n",
       "\n",
       "   CHI Score 0-1  Support Cases Month 0  Support Cases 0-1  SP Month 0  \\\n",
       "0              0                      0                  0         0.0   \n",
       "1              0                      0                  0         0.0   \n",
       "2              0                      0                  0         0.0   \n",
       "3              0                      0                  0         0.0   \n",
       "4              0                      0                  0         0.0   \n",
       "\n",
       "   SP 0-1  Logins 0-1  Blog Articles 0-1  Views 0-1  \\\n",
       "0     0.0           0                  0          0   \n",
       "1     0.0           0                  0          0   \n",
       "2     0.0           0                  0          0   \n",
       "3     0.0           0                  0          0   \n",
       "4     0.0           0                  0          0   \n",
       "\n",
       "    Days Since Last Login 0-1  \n",
       "0                           0  \n",
       "1                           0  \n",
       "2                           0  \n",
       "3                           0  \n",
       "4                           0  "
      ]
     },
     "execution_count": 5,
     "metadata": {},
     "output_type": "execute_result"
    }
   ],
   "source": [
    "df.head()"
   ]
  },
  {
   "cell_type": "code",
   "execution_count": 6,
   "metadata": {},
   "outputs": [
    {
     "name": "stdout",
     "output_type": "stream",
     "text": [
      "(5583, 13)\n",
      "(5582, 13)\n"
     ]
    },
    {
     "data": {
      "text/html": [
       "<div>\n",
       "<style scoped>\n",
       "    .dataframe tbody tr th:only-of-type {\n",
       "        vertical-align: middle;\n",
       "    }\n",
       "\n",
       "    .dataframe tbody tr th {\n",
       "        vertical-align: top;\n",
       "    }\n",
       "\n",
       "    .dataframe thead th {\n",
       "        text-align: right;\n",
       "    }\n",
       "</style>\n",
       "<table border=\"1\" class=\"dataframe\">\n",
       "  <thead>\n",
       "    <tr style=\"text-align: right;\">\n",
       "      <th></th>\n",
       "      <th>ID</th>\n",
       "      <th>Customer Age (in months)</th>\n",
       "      <th>Churn (1 = Yes, 0 = No)</th>\n",
       "      <th>CHI Score Month 0</th>\n",
       "      <th>CHI Score 0-1</th>\n",
       "      <th>Support Cases Month 0</th>\n",
       "      <th>Support Cases 0-1</th>\n",
       "      <th>SP Month 0</th>\n",
       "      <th>SP 0-1</th>\n",
       "      <th>Logins 0-1</th>\n",
       "      <th>Blog Articles 0-1</th>\n",
       "      <th>Views 0-1</th>\n",
       "      <th>Days Since Last Login 0-1</th>\n",
       "    </tr>\n",
       "  </thead>\n",
       "  <tbody>\n",
       "    <tr>\n",
       "      <td>374</td>\n",
       "      <td>6158</td>\n",
       "      <td>2</td>\n",
       "      <td>0</td>\n",
       "      <td>21</td>\n",
       "      <td>21</td>\n",
       "      <td>0</td>\n",
       "      <td>0</td>\n",
       "      <td>0.0</td>\n",
       "      <td>0.0</td>\n",
       "      <td>0</td>\n",
       "      <td>1</td>\n",
       "      <td>0</td>\n",
       "      <td>0</td>\n",
       "    </tr>\n",
       "    <tr>\n",
       "      <td>389</td>\n",
       "      <td>6127</td>\n",
       "      <td>2</td>\n",
       "      <td>1</td>\n",
       "      <td>0</td>\n",
       "      <td>0</td>\n",
       "      <td>0</td>\n",
       "      <td>0</td>\n",
       "      <td>0.0</td>\n",
       "      <td>0.0</td>\n",
       "      <td>0</td>\n",
       "      <td>0</td>\n",
       "      <td>0</td>\n",
       "      <td>0</td>\n",
       "    </tr>\n",
       "    <tr>\n",
       "      <td>391</td>\n",
       "      <td>6125</td>\n",
       "      <td>2</td>\n",
       "      <td>0</td>\n",
       "      <td>41</td>\n",
       "      <td>41</td>\n",
       "      <td>0</td>\n",
       "      <td>0</td>\n",
       "      <td>0.0</td>\n",
       "      <td>0.0</td>\n",
       "      <td>0</td>\n",
       "      <td>1</td>\n",
       "      <td>0</td>\n",
       "      <td>0</td>\n",
       "    </tr>\n",
       "    <tr>\n",
       "      <td>405</td>\n",
       "      <td>6107</td>\n",
       "      <td>2</td>\n",
       "      <td>0</td>\n",
       "      <td>0</td>\n",
       "      <td>0</td>\n",
       "      <td>0</td>\n",
       "      <td>0</td>\n",
       "      <td>0.0</td>\n",
       "      <td>0.0</td>\n",
       "      <td>0</td>\n",
       "      <td>1</td>\n",
       "      <td>0</td>\n",
       "      <td>0</td>\n",
       "    </tr>\n",
       "    <tr>\n",
       "      <td>406</td>\n",
       "      <td>6106</td>\n",
       "      <td>2</td>\n",
       "      <td>0</td>\n",
       "      <td>0</td>\n",
       "      <td>0</td>\n",
       "      <td>0</td>\n",
       "      <td>0</td>\n",
       "      <td>0.0</td>\n",
       "      <td>0.0</td>\n",
       "      <td>0</td>\n",
       "      <td>1</td>\n",
       "      <td>0</td>\n",
       "      <td>0</td>\n",
       "    </tr>\n",
       "  </tbody>\n",
       "</table>\n",
       "</div>"
      ],
      "text/plain": [
       "       ID  Customer Age (in months)  Churn (1 = Yes, 0 = No)  \\\n",
       "374  6158                         2                        0   \n",
       "389  6127                         2                        1   \n",
       "391  6125                         2                        0   \n",
       "405  6107                         2                        0   \n",
       "406  6106                         2                        0   \n",
       "\n",
       "     CHI Score Month 0  CHI Score 0-1  Support Cases Month 0  \\\n",
       "374                 21             21                      0   \n",
       "389                  0              0                      0   \n",
       "391                 41             41                      0   \n",
       "405                  0              0                      0   \n",
       "406                  0              0                      0   \n",
       "\n",
       "     Support Cases 0-1  SP Month 0  SP 0-1  Logins 0-1  Blog Articles 0-1  \\\n",
       "374                  0         0.0     0.0           0                  1   \n",
       "389                  0         0.0     0.0           0                  0   \n",
       "391                  0         0.0     0.0           0                  1   \n",
       "405                  0         0.0     0.0           0                  1   \n",
       "406                  0         0.0     0.0           0                  1   \n",
       "\n",
       "     Views 0-1   Days Since Last Login 0-1  \n",
       "374          0                           0  \n",
       "389          0                           0  \n",
       "391          0                           0  \n",
       "405          0                           0  \n",
       "406          0                           0  "
      ]
     },
     "execution_count": 6,
     "metadata": {},
     "output_type": "execute_result"
    }
   ],
   "source": [
    "#since data is not MCAR (Missing completely at random), we can drop where we don't know anything about customer\n",
    "df = df.loc[(df[df.columns[2:]]!=0).any(axis=1)]\n",
    "\n",
    "#remove 1 customer which was 1 month old and just left, we don't know anything about him.\n",
    "print(df.shape)\n",
    "df = df[df['Customer Age (in months)'] > 1]\n",
    "print(df.shape)\n",
    "df.head()"
   ]
  },
  {
   "cell_type": "markdown",
   "metadata": {},
   "source": [
    "### bucket customers in suggested age categories"
   ]
  },
  {
   "cell_type": "code",
   "execution_count": 7,
   "metadata": {},
   "outputs": [
    {
     "data": {
      "text/html": [
       "<div>\n",
       "<style scoped>\n",
       "    .dataframe tbody tr th:only-of-type {\n",
       "        vertical-align: middle;\n",
       "    }\n",
       "\n",
       "    .dataframe tbody tr th {\n",
       "        vertical-align: top;\n",
       "    }\n",
       "\n",
       "    .dataframe thead th {\n",
       "        text-align: right;\n",
       "    }\n",
       "</style>\n",
       "<table border=\"1\" class=\"dataframe\">\n",
       "  <thead>\n",
       "    <tr style=\"text-align: right;\">\n",
       "      <th></th>\n",
       "      <th>ID</th>\n",
       "      <th>Customer Age (in months)</th>\n",
       "      <th>Churn (1 = Yes, 0 = No)</th>\n",
       "      <th>CHI Score Month 0</th>\n",
       "      <th>CHI Score 0-1</th>\n",
       "      <th>Support Cases Month 0</th>\n",
       "      <th>Support Cases 0-1</th>\n",
       "      <th>SP Month 0</th>\n",
       "      <th>SP 0-1</th>\n",
       "      <th>Logins 0-1</th>\n",
       "      <th>Blog Articles 0-1</th>\n",
       "      <th>Views 0-1</th>\n",
       "      <th>Days Since Last Login 0-1</th>\n",
       "      <th>Age Group</th>\n",
       "    </tr>\n",
       "  </thead>\n",
       "  <tbody>\n",
       "    <tr>\n",
       "      <td>5418</td>\n",
       "      <td>2074</td>\n",
       "      <td>26</td>\n",
       "      <td>0</td>\n",
       "      <td>6</td>\n",
       "      <td>6</td>\n",
       "      <td>0</td>\n",
       "      <td>0</td>\n",
       "      <td>0.0</td>\n",
       "      <td>0.0</td>\n",
       "      <td>0</td>\n",
       "      <td>0</td>\n",
       "      <td>15</td>\n",
       "      <td>31</td>\n",
       "      <td>14-67</td>\n",
       "    </tr>\n",
       "    <tr>\n",
       "      <td>4833</td>\n",
       "      <td>2984</td>\n",
       "      <td>21</td>\n",
       "      <td>0</td>\n",
       "      <td>104</td>\n",
       "      <td>-29</td>\n",
       "      <td>2</td>\n",
       "      <td>-1</td>\n",
       "      <td>3.0</td>\n",
       "      <td>0.0</td>\n",
       "      <td>-9</td>\n",
       "      <td>-2</td>\n",
       "      <td>18</td>\n",
       "      <td>1</td>\n",
       "      <td>14-67</td>\n",
       "    </tr>\n",
       "    <tr>\n",
       "      <td>2430</td>\n",
       "      <td>4069</td>\n",
       "      <td>8</td>\n",
       "      <td>0</td>\n",
       "      <td>79</td>\n",
       "      <td>37</td>\n",
       "      <td>1</td>\n",
       "      <td>1</td>\n",
       "      <td>0.0</td>\n",
       "      <td>0.0</td>\n",
       "      <td>12</td>\n",
       "      <td>1</td>\n",
       "      <td>0</td>\n",
       "      <td>10</td>\n",
       "      <td>6-14</td>\n",
       "    </tr>\n",
       "    <tr>\n",
       "      <td>5743</td>\n",
       "      <td>1888</td>\n",
       "      <td>31</td>\n",
       "      <td>0</td>\n",
       "      <td>139</td>\n",
       "      <td>14</td>\n",
       "      <td>0</td>\n",
       "      <td>0</td>\n",
       "      <td>0.0</td>\n",
       "      <td>0.0</td>\n",
       "      <td>8</td>\n",
       "      <td>1</td>\n",
       "      <td>9</td>\n",
       "      <td>3</td>\n",
       "      <td>14-67</td>\n",
       "    </tr>\n",
       "    <tr>\n",
       "      <td>3936</td>\n",
       "      <td>234</td>\n",
       "      <td>14</td>\n",
       "      <td>0</td>\n",
       "      <td>167</td>\n",
       "      <td>-7</td>\n",
       "      <td>1</td>\n",
       "      <td>1</td>\n",
       "      <td>3.0</td>\n",
       "      <td>3.0</td>\n",
       "      <td>39</td>\n",
       "      <td>-7</td>\n",
       "      <td>-436</td>\n",
       "      <td>0</td>\n",
       "      <td>6-14</td>\n",
       "    </tr>\n",
       "  </tbody>\n",
       "</table>\n",
       "</div>"
      ],
      "text/plain": [
       "        ID  Customer Age (in months)  Churn (1 = Yes, 0 = No)  \\\n",
       "5418  2074                        26                        0   \n",
       "4833  2984                        21                        0   \n",
       "2430  4069                         8                        0   \n",
       "5743  1888                        31                        0   \n",
       "3936   234                        14                        0   \n",
       "\n",
       "      CHI Score Month 0  CHI Score 0-1  Support Cases Month 0  \\\n",
       "5418                  6              6                      0   \n",
       "4833                104            -29                      2   \n",
       "2430                 79             37                      1   \n",
       "5743                139             14                      0   \n",
       "3936                167             -7                      1   \n",
       "\n",
       "      Support Cases 0-1  SP Month 0  SP 0-1  Logins 0-1  Blog Articles 0-1  \\\n",
       "5418                  0         0.0     0.0           0                  0   \n",
       "4833                 -1         3.0     0.0          -9                 -2   \n",
       "2430                  1         0.0     0.0          12                  1   \n",
       "5743                  0         0.0     0.0           8                  1   \n",
       "3936                  1         3.0     3.0          39                 -7   \n",
       "\n",
       "      Views 0-1   Days Since Last Login 0-1 Age Group  \n",
       "5418         15                          31     14-67  \n",
       "4833         18                           1     14-67  \n",
       "2430          0                          10      6-14  \n",
       "5743          9                           3     14-67  \n",
       "3936       -436                           0      6-14  "
      ]
     },
     "execution_count": 7,
     "metadata": {},
     "output_type": "execute_result"
    }
   ],
   "source": [
    "#bucket customers in suggested age categories\n",
    "def age_group(x):\n",
    "    if x < 6:\n",
    "        return \"2-6\"\n",
    "    elif x < 15:\n",
    "        return \"6-14\"\n",
    "    else:\n",
    "        return \"14-67\"\n",
    "df['Age Group'] = df['Customer Age (in months)'].apply(lambda x: age_group(x))\n",
    "df.sample(5)"
   ]
  },
  {
   "cell_type": "markdown",
   "metadata": {},
   "source": [
    "### Count of the data per Age Group - Churn: Yes-No"
   ]
  },
  {
   "cell_type": "code",
   "execution_count": 8,
   "metadata": {},
   "outputs": [
    {
     "data": {
      "text/plain": [
       "Age Group  Churn (1 = Yes, 0 = No)\n",
       "14-67      0                          2262\n",
       "           1                           132\n",
       "2-6        0                           881\n",
       "           1                            25\n",
       "6-14       0                          2117\n",
       "           1                           165\n",
       "Name: Churn (1 = Yes, 0 = No), dtype: int64"
      ]
     },
     "execution_count": 8,
     "metadata": {},
     "output_type": "execute_result"
    }
   ],
   "source": [
    "#Check whether claim is true\n",
    "df_group = df.groupby('Age Group')['Churn (1 = Yes, 0 = No)']\n",
    "df_group.value_counts()"
   ]
  },
  {
   "cell_type": "markdown",
   "metadata": {},
   "source": [
    "### Count of the data per Age Group - Churn: Yes-No along with Percentage"
   ]
  },
  {
   "cell_type": "code",
   "execution_count": 9,
   "metadata": {},
   "outputs": [
    {
     "name": "stdout",
     "output_type": "stream",
     "text": [
      "                                   counts  percentage\n",
      "Age Group Churn (1 = Yes, 0 = No)                    \n",
      "14-67     0                          2262   94.486216\n",
      "          1                           132    5.513784\n",
      "2-6       0                           881   97.240618\n",
      "          1                            25    2.759382\n",
      "6-14      0                          2117   92.769500\n",
      "          1                           165    7.230500\n"
     ]
    }
   ],
   "source": [
    "g = df_group\n",
    "df_group_per = pd.concat([g.value_counts(), \n",
    "                g.value_counts(normalize=True).mul(100)],axis=1, keys=('counts','percentage'))\n",
    "print (df_group_per)"
   ]
  },
  {
   "cell_type": "code",
   "execution_count": 10,
   "metadata": {},
   "outputs": [
    {
     "data": {
      "text/html": [
       "<div>\n",
       "<style scoped>\n",
       "    .dataframe tbody tr th:only-of-type {\n",
       "        vertical-align: middle;\n",
       "    }\n",
       "\n",
       "    .dataframe tbody tr th {\n",
       "        vertical-align: top;\n",
       "    }\n",
       "\n",
       "    .dataframe thead th {\n",
       "        text-align: right;\n",
       "    }\n",
       "</style>\n",
       "<table border=\"1\" class=\"dataframe\">\n",
       "  <thead>\n",
       "    <tr style=\"text-align: right;\">\n",
       "      <th></th>\n",
       "      <th>ID</th>\n",
       "      <th>Customer Age (in months)</th>\n",
       "      <th>Churn (1 = Yes, 0 = No)</th>\n",
       "      <th>CHI Score Month 0</th>\n",
       "      <th>CHI Score 0-1</th>\n",
       "      <th>Support Cases Month 0</th>\n",
       "      <th>Support Cases 0-1</th>\n",
       "      <th>SP Month 0</th>\n",
       "      <th>SP 0-1</th>\n",
       "      <th>Logins 0-1</th>\n",
       "      <th>Blog Articles 0-1</th>\n",
       "      <th>Views 0-1</th>\n",
       "      <th>Days Since Last Login 0-1</th>\n",
       "    </tr>\n",
       "  </thead>\n",
       "  <tbody>\n",
       "    <tr>\n",
       "      <td>count</td>\n",
       "      <td>5582.000000</td>\n",
       "      <td>5582.000000</td>\n",
       "      <td>5582.000000</td>\n",
       "      <td>5582.000000</td>\n",
       "      <td>5582.000000</td>\n",
       "      <td>5582.000000</td>\n",
       "      <td>5582.000000</td>\n",
       "      <td>5582.000000</td>\n",
       "      <td>5582.000000</td>\n",
       "      <td>5582.000000</td>\n",
       "      <td>5582.000000</td>\n",
       "      <td>5582.000000</td>\n",
       "      <td>5582.000000</td>\n",
       "    </tr>\n",
       "    <tr>\n",
       "      <td>mean</td>\n",
       "      <td>2833.651559</td>\n",
       "      <td>15.585632</td>\n",
       "      <td>0.057685</td>\n",
       "      <td>99.283232</td>\n",
       "      <td>5.751881</td>\n",
       "      <td>0.803117</td>\n",
       "      <td>-0.007882</td>\n",
       "      <td>0.924171</td>\n",
       "      <td>0.034304</td>\n",
       "      <td>17.883375</td>\n",
       "      <td>0.178789</td>\n",
       "      <td>109.509674</td>\n",
       "      <td>2.006449</td>\n",
       "    </tr>\n",
       "    <tr>\n",
       "      <td>std</td>\n",
       "      <td>1648.110504</td>\n",
       "      <td>10.857704</td>\n",
       "      <td>0.233169</td>\n",
       "      <td>61.703581</td>\n",
       "      <td>32.813103</td>\n",
       "      <td>1.817050</td>\n",
       "      <td>1.995051</td>\n",
       "      <td>1.371082</td>\n",
       "      <td>1.557163</td>\n",
       "      <td>44.481788</td>\n",
       "      <td>4.969384</td>\n",
       "      <td>3361.314634</td>\n",
       "      <td>19.145141</td>\n",
       "    </tr>\n",
       "    <tr>\n",
       "      <td>min</td>\n",
       "      <td>1.000000</td>\n",
       "      <td>2.000000</td>\n",
       "      <td>0.000000</td>\n",
       "      <td>0.000000</td>\n",
       "      <td>-125.000000</td>\n",
       "      <td>0.000000</td>\n",
       "      <td>-29.000000</td>\n",
       "      <td>0.000000</td>\n",
       "      <td>-4.000000</td>\n",
       "      <td>-293.000000</td>\n",
       "      <td>-75.000000</td>\n",
       "      <td>-28322.000000</td>\n",
       "      <td>-648.000000</td>\n",
       "    </tr>\n",
       "    <tr>\n",
       "      <td>25%</td>\n",
       "      <td>1413.250000</td>\n",
       "      <td>7.000000</td>\n",
       "      <td>0.000000</td>\n",
       "      <td>50.000000</td>\n",
       "      <td>-10.000000</td>\n",
       "      <td>0.000000</td>\n",
       "      <td>0.000000</td>\n",
       "      <td>0.000000</td>\n",
       "      <td>0.000000</td>\n",
       "      <td>-2.000000</td>\n",
       "      <td>0.000000</td>\n",
       "      <td>-22.000000</td>\n",
       "      <td>-1.000000</td>\n",
       "    </tr>\n",
       "    <tr>\n",
       "      <td>50%</td>\n",
       "      <td>2818.500000</td>\n",
       "      <td>12.000000</td>\n",
       "      <td>0.000000</td>\n",
       "      <td>100.000000</td>\n",
       "      <td>0.000000</td>\n",
       "      <td>0.000000</td>\n",
       "      <td>0.000000</td>\n",
       "      <td>0.000000</td>\n",
       "      <td>0.000000</td>\n",
       "      <td>6.000000</td>\n",
       "      <td>0.000000</td>\n",
       "      <td>0.000000</td>\n",
       "      <td>0.000000</td>\n",
       "    </tr>\n",
       "    <tr>\n",
       "      <td>75%</td>\n",
       "      <td>4237.750000</td>\n",
       "      <td>22.000000</td>\n",
       "      <td>0.000000</td>\n",
       "      <td>145.000000</td>\n",
       "      <td>19.000000</td>\n",
       "      <td>1.000000</td>\n",
       "      <td>0.000000</td>\n",
       "      <td>3.000000</td>\n",
       "      <td>0.000000</td>\n",
       "      <td>28.000000</td>\n",
       "      <td>1.000000</td>\n",
       "      <td>41.000000</td>\n",
       "      <td>4.000000</td>\n",
       "    </tr>\n",
       "    <tr>\n",
       "      <td>max</td>\n",
       "      <td>6158.000000</td>\n",
       "      <td>67.000000</td>\n",
       "      <td>1.000000</td>\n",
       "      <td>298.000000</td>\n",
       "      <td>208.000000</td>\n",
       "      <td>32.000000</td>\n",
       "      <td>31.000000</td>\n",
       "      <td>4.000000</td>\n",
       "      <td>4.000000</td>\n",
       "      <td>865.000000</td>\n",
       "      <td>217.000000</td>\n",
       "      <td>230414.000000</td>\n",
       "      <td>61.000000</td>\n",
       "    </tr>\n",
       "  </tbody>\n",
       "</table>\n",
       "</div>"
      ],
      "text/plain": [
       "                ID  Customer Age (in months)  Churn (1 = Yes, 0 = No)  \\\n",
       "count  5582.000000               5582.000000              5582.000000   \n",
       "mean   2833.651559                 15.585632                 0.057685   \n",
       "std    1648.110504                 10.857704                 0.233169   \n",
       "min       1.000000                  2.000000                 0.000000   \n",
       "25%    1413.250000                  7.000000                 0.000000   \n",
       "50%    2818.500000                 12.000000                 0.000000   \n",
       "75%    4237.750000                 22.000000                 0.000000   \n",
       "max    6158.000000                 67.000000                 1.000000   \n",
       "\n",
       "       CHI Score Month 0  CHI Score 0-1  Support Cases Month 0  \\\n",
       "count        5582.000000    5582.000000            5582.000000   \n",
       "mean           99.283232       5.751881               0.803117   \n",
       "std            61.703581      32.813103               1.817050   \n",
       "min             0.000000    -125.000000               0.000000   \n",
       "25%            50.000000     -10.000000               0.000000   \n",
       "50%           100.000000       0.000000               0.000000   \n",
       "75%           145.000000      19.000000               1.000000   \n",
       "max           298.000000     208.000000              32.000000   \n",
       "\n",
       "       Support Cases 0-1   SP Month 0       SP 0-1   Logins 0-1  \\\n",
       "count        5582.000000  5582.000000  5582.000000  5582.000000   \n",
       "mean           -0.007882     0.924171     0.034304    17.883375   \n",
       "std             1.995051     1.371082     1.557163    44.481788   \n",
       "min           -29.000000     0.000000    -4.000000  -293.000000   \n",
       "25%             0.000000     0.000000     0.000000    -2.000000   \n",
       "50%             0.000000     0.000000     0.000000     6.000000   \n",
       "75%             0.000000     3.000000     0.000000    28.000000   \n",
       "max            31.000000     4.000000     4.000000   865.000000   \n",
       "\n",
       "       Blog Articles 0-1      Views 0-1   Days Since Last Login 0-1  \n",
       "count        5582.000000    5582.000000                 5582.000000  \n",
       "mean            0.178789     109.509674                    2.006449  \n",
       "std             4.969384    3361.314634                   19.145141  \n",
       "min           -75.000000  -28322.000000                 -648.000000  \n",
       "25%             0.000000     -22.000000                   -1.000000  \n",
       "50%             0.000000       0.000000                    0.000000  \n",
       "75%             1.000000      41.000000                    4.000000  \n",
       "max           217.000000  230414.000000                   61.000000  "
      ]
     },
     "execution_count": 10,
     "metadata": {},
     "output_type": "execute_result"
    }
   ],
   "source": [
    "df.describe()"
   ]
  },
  {
   "cell_type": "code",
   "execution_count": 11,
   "metadata": {},
   "outputs": [
    {
     "data": {
      "text/plain": [
       "<matplotlib.axes._subplots.AxesSubplot at 0x1a257bced0>"
      ]
     },
     "execution_count": 11,
     "metadata": {},
     "output_type": "execute_result"
    },
    {
     "data": {
      "image/png": "[encoded data removed]",
      "text/plain": [
       "<Figure size 1440x576 with 2 Axes>"
      ]
     },
     "metadata": {
      "needs_background": "light"
     },
     "output_type": "display_data"
    }
   ],
   "source": [
    "#Ref : https://stackoverflow.com/questions/29432629/plot-correlation-matrix-using-pandas\n",
    "f, ax = plt.subplots(figsize=(20, 8))\n",
    "corr = df.corr()\n",
    "sns.heatmap(corr, \n",
    "            mask=np.zeros_like(corr, dtype=np.bool), \n",
    "            cmap=sns.diverging_palette(220, 10, as_cmap=True),\n",
    "            ax=ax)"
   ]
  },
  {
   "cell_type": "code",
   "execution_count": 12,
   "metadata": {},
   "outputs": [
    {
     "data": {
      "text/html": [
       "<div>\n",
       "<style scoped>\n",
       "    .dataframe tbody tr th:only-of-type {\n",
       "        vertical-align: middle;\n",
       "    }\n",
       "\n",
       "    .dataframe tbody tr th {\n",
       "        vertical-align: top;\n",
       "    }\n",
       "\n",
       "    .dataframe thead th {\n",
       "        text-align: right;\n",
       "    }\n",
       "</style>\n",
       "<table border=\"1\" class=\"dataframe\">\n",
       "  <thead>\n",
       "    <tr style=\"text-align: right;\">\n",
       "      <th></th>\n",
       "      <th>ID</th>\n",
       "      <th>Customer Age (in months)</th>\n",
       "      <th>Churn (1 = Yes, 0 = No)</th>\n",
       "      <th>CHI Score Month 0</th>\n",
       "      <th>CHI Score 0-1</th>\n",
       "      <th>Support Cases Month 0</th>\n",
       "      <th>Support Cases 0-1</th>\n",
       "      <th>SP Month 0</th>\n",
       "      <th>SP 0-1</th>\n",
       "      <th>Logins 0-1</th>\n",
       "      <th>Blog Articles 0-1</th>\n",
       "      <th>Views 0-1</th>\n",
       "      <th>Days Since Last Login 0-1</th>\n",
       "    </tr>\n",
       "  </thead>\n",
       "  <tbody>\n",
       "    <tr>\n",
       "      <td>count</td>\n",
       "      <td>5582.000000</td>\n",
       "      <td>5582.000000</td>\n",
       "      <td>5582.000000</td>\n",
       "      <td>5582.000000</td>\n",
       "      <td>5582.000000</td>\n",
       "      <td>5582.000000</td>\n",
       "      <td>5582.000000</td>\n",
       "      <td>5582.000000</td>\n",
       "      <td>5582.000000</td>\n",
       "      <td>5582.000000</td>\n",
       "      <td>5582.000000</td>\n",
       "      <td>5582.000000</td>\n",
       "      <td>5582.000000</td>\n",
       "    </tr>\n",
       "    <tr>\n",
       "      <td>mean</td>\n",
       "      <td>2833.651559</td>\n",
       "      <td>15.585632</td>\n",
       "      <td>0.057685</td>\n",
       "      <td>99.283232</td>\n",
       "      <td>5.751881</td>\n",
       "      <td>0.803117</td>\n",
       "      <td>-0.007882</td>\n",
       "      <td>0.924171</td>\n",
       "      <td>0.034304</td>\n",
       "      <td>17.883375</td>\n",
       "      <td>0.178789</td>\n",
       "      <td>109.509674</td>\n",
       "      <td>2.006449</td>\n",
       "    </tr>\n",
       "    <tr>\n",
       "      <td>std</td>\n",
       "      <td>1648.110504</td>\n",
       "      <td>10.857704</td>\n",
       "      <td>0.233169</td>\n",
       "      <td>61.703581</td>\n",
       "      <td>32.813103</td>\n",
       "      <td>1.817050</td>\n",
       "      <td>1.995051</td>\n",
       "      <td>1.371082</td>\n",
       "      <td>1.557163</td>\n",
       "      <td>44.481788</td>\n",
       "      <td>4.969384</td>\n",
       "      <td>3361.314634</td>\n",
       "      <td>19.145141</td>\n",
       "    </tr>\n",
       "    <tr>\n",
       "      <td>min</td>\n",
       "      <td>1.000000</td>\n",
       "      <td>2.000000</td>\n",
       "      <td>0.000000</td>\n",
       "      <td>0.000000</td>\n",
       "      <td>-125.000000</td>\n",
       "      <td>0.000000</td>\n",
       "      <td>-29.000000</td>\n",
       "      <td>0.000000</td>\n",
       "      <td>-4.000000</td>\n",
       "      <td>-293.000000</td>\n",
       "      <td>-75.000000</td>\n",
       "      <td>-28322.000000</td>\n",
       "      <td>-648.000000</td>\n",
       "    </tr>\n",
       "    <tr>\n",
       "      <td>25%</td>\n",
       "      <td>1413.250000</td>\n",
       "      <td>7.000000</td>\n",
       "      <td>0.000000</td>\n",
       "      <td>50.000000</td>\n",
       "      <td>-10.000000</td>\n",
       "      <td>0.000000</td>\n",
       "      <td>0.000000</td>\n",
       "      <td>0.000000</td>\n",
       "      <td>0.000000</td>\n",
       "      <td>-2.000000</td>\n",
       "      <td>0.000000</td>\n",
       "      <td>-22.000000</td>\n",
       "      <td>-1.000000</td>\n",
       "    </tr>\n",
       "    <tr>\n",
       "      <td>50%</td>\n",
       "      <td>2818.500000</td>\n",
       "      <td>12.000000</td>\n",
       "      <td>0.000000</td>\n",
       "      <td>100.000000</td>\n",
       "      <td>0.000000</td>\n",
       "      <td>0.000000</td>\n",
       "      <td>0.000000</td>\n",
       "      <td>0.000000</td>\n",
       "      <td>0.000000</td>\n",
       "      <td>6.000000</td>\n",
       "      <td>0.000000</td>\n",
       "      <td>0.000000</td>\n",
       "      <td>0.000000</td>\n",
       "    </tr>\n",
       "    <tr>\n",
       "      <td>75%</td>\n",
       "      <td>4237.750000</td>\n",
       "      <td>22.000000</td>\n",
       "      <td>0.000000</td>\n",
       "      <td>145.000000</td>\n",
       "      <td>19.000000</td>\n",
       "      <td>1.000000</td>\n",
       "      <td>0.000000</td>\n",
       "      <td>3.000000</td>\n",
       "      <td>0.000000</td>\n",
       "      <td>28.000000</td>\n",
       "      <td>1.000000</td>\n",
       "      <td>41.000000</td>\n",
       "      <td>4.000000</td>\n",
       "    </tr>\n",
       "    <tr>\n",
       "      <td>max</td>\n",
       "      <td>6158.000000</td>\n",
       "      <td>67.000000</td>\n",
       "      <td>1.000000</td>\n",
       "      <td>298.000000</td>\n",
       "      <td>208.000000</td>\n",
       "      <td>32.000000</td>\n",
       "      <td>31.000000</td>\n",
       "      <td>4.000000</td>\n",
       "      <td>4.000000</td>\n",
       "      <td>865.000000</td>\n",
       "      <td>217.000000</td>\n",
       "      <td>230414.000000</td>\n",
       "      <td>61.000000</td>\n",
       "    </tr>\n",
       "  </tbody>\n",
       "</table>\n",
       "</div>"
      ],
      "text/plain": [
       "                ID  Customer Age (in months)  Churn (1 = Yes, 0 = No)  \\\n",
       "count  5582.000000               5582.000000              5582.000000   \n",
       "mean   2833.651559                 15.585632                 0.057685   \n",
       "std    1648.110504                 10.857704                 0.233169   \n",
       "min       1.000000                  2.000000                 0.000000   \n",
       "25%    1413.250000                  7.000000                 0.000000   \n",
       "50%    2818.500000                 12.000000                 0.000000   \n",
       "75%    4237.750000                 22.000000                 0.000000   \n",
       "max    6158.000000                 67.000000                 1.000000   \n",
       "\n",
       "       CHI Score Month 0  CHI Score 0-1  Support Cases Month 0  \\\n",
       "count        5582.000000    5582.000000            5582.000000   \n",
       "mean           99.283232       5.751881               0.803117   \n",
       "std            61.703581      32.813103               1.817050   \n",
       "min             0.000000    -125.000000               0.000000   \n",
       "25%            50.000000     -10.000000               0.000000   \n",
       "50%           100.000000       0.000000               0.000000   \n",
       "75%           145.000000      19.000000               1.000000   \n",
       "max           298.000000     208.000000              32.000000   \n",
       "\n",
       "       Support Cases 0-1   SP Month 0       SP 0-1   Logins 0-1  \\\n",
       "count        5582.000000  5582.000000  5582.000000  5582.000000   \n",
       "mean           -0.007882     0.924171     0.034304    17.883375   \n",
       "std             1.995051     1.371082     1.557163    44.481788   \n",
       "min           -29.000000     0.000000    -4.000000  -293.000000   \n",
       "25%             0.000000     0.000000     0.000000    -2.000000   \n",
       "50%             0.000000     0.000000     0.000000     6.000000   \n",
       "75%             0.000000     3.000000     0.000000    28.000000   \n",
       "max            31.000000     4.000000     4.000000   865.000000   \n",
       "\n",
       "       Blog Articles 0-1      Views 0-1   Days Since Last Login 0-1  \n",
       "count        5582.000000    5582.000000                 5582.000000  \n",
       "mean            0.178789     109.509674                    2.006449  \n",
       "std             4.969384    3361.314634                   19.145141  \n",
       "min           -75.000000  -28322.000000                 -648.000000  \n",
       "25%             0.000000     -22.000000                   -1.000000  \n",
       "50%             0.000000       0.000000                    0.000000  \n",
       "75%             1.000000      41.000000                    4.000000  \n",
       "max           217.000000  230414.000000                   61.000000  "
      ]
     },
     "execution_count": 12,
     "metadata": {},
     "output_type": "execute_result"
    }
   ],
   "source": [
    "df.describe()"
   ]
  },
  {
   "cell_type": "code",
   "execution_count": 13,
   "metadata": {},
   "outputs": [
    {
     "data": {
      "text/plain": [
       "<matplotlib.collections.PathCollection at 0x1a26bf3350>"
      ]
     },
     "execution_count": 13,
     "metadata": {},
     "output_type": "execute_result"
    },
    {
     "data": {
      "image/png": "[encoded data removed]",
      "text/plain": [
       "<Figure size 432x288 with 1 Axes>"
      ]
     },
     "metadata": {
      "needs_background": "light"
     },
     "output_type": "display_data"
    }
   ],
   "source": [
    "#Ref  : https://datatofish.com/k-means-clustering-python/\n",
    "\n",
    "kmeans = KMeans(n_clusters=3).fit(df[['Customer Age (in months)','Churn (1 = Yes, 0 = No)']])\n",
    "\n",
    "centroids = kmeans.cluster_centers_\n",
    "plt.scatter(df['Customer Age (in months)'], df['Churn (1 = Yes, 0 = No)'], c= kmeans.labels_.astype(float), s=50, alpha=0.5)\n",
    "plt.scatter(centroids[:, 0], centroids[:, 1], c='red', s=50)\n",
    "\n",
    "#print(df.head())"
   ]
  },
  {
   "cell_type": "markdown",
   "metadata": {},
   "source": [
    "### Plot of different age groups vs Customer Churn "
   ]
  },
  {
   "cell_type": "code",
   "execution_count": 14,
   "metadata": {},
   "outputs": [
    {
     "data": {
      "image/png": "[encoded data removed]",
      "text/plain": [
       "<Figure size 427.975x360 with 1 Axes>"
      ]
     },
     "metadata": {},
     "output_type": "display_data"
    }
   ],
   "source": [
    "import seaborn as sns\n",
    "sns.set(style=\"ticks\")\n",
    "exercise = df[['Customer Age (in months)','Churn (1 = Yes, 0 = No)',\"Age Group\"]]\n",
    "g = sns.catplot(x=\"Churn (1 = Yes, 0 = No)\", y=\"Customer Age (in months)\",hue = \"Age Group\",data=exercise)"
   ]
  },
  {
   "cell_type": "code",
   "execution_count": 15,
   "metadata": {},
   "outputs": [],
   "source": [
    "df_churn_yes = df.loc[df['Churn (1 = Yes, 0 = No)'] == 1, ['Customer Age (in months)']]\n",
    "df_churn_no = df.loc[df['Churn (1 = Yes, 0 = No)'] == 0, ['Customer Age (in months)']]"
   ]
  },
  {
   "cell_type": "markdown",
   "metadata": {},
   "source": [
    "### Distribution of Cusotmer Age for Churn = Yes"
   ]
  },
  {
   "cell_type": "code",
   "execution_count": 16,
   "metadata": {},
   "outputs": [
    {
     "data": {
      "image/png": "[encoded data removed]",
      "text/plain": [
       "<Figure size 432x288 with 1 Axes>"
      ]
     },
     "metadata": {},
     "output_type": "display_data"
    }
   ],
   "source": [
    "import seaborn as sns\n",
    "sns.set(style=\"whitegrid\")\n",
    "ax = sns.violinplot(x=df_churn_yes) ### Plot of different age groups vs Customer Churn "
   ]
  },
  {
   "cell_type": "markdown",
   "metadata": {},
   "source": [
    "### Distribution of Cusotmer Age for Churn = No"
   ]
  },
  {
   "cell_type": "code",
   "execution_count": 17,
   "metadata": {},
   "outputs": [
    {
     "data": {
      "image/png": "[encoded data removed]",
      "text/plain": [
       "<Figure size 432x288 with 1 Axes>"
      ]
     },
     "metadata": {},
     "output_type": "display_data"
    }
   ],
   "source": [
    "import seaborn as sns\n",
    "sns.set(style=\"whitegrid\")\n",
    "### Distribution of Cusotmer Age for Churn = Yes\n",
    "ax = sns.violinplot(x=df_churn_no)"
   ]
  },
  {
   "cell_type": "code",
   "execution_count": 18,
   "metadata": {},
   "outputs": [
    {
     "data": {
      "text/html": [
       "<div>\n",
       "<style scoped>\n",
       "    .dataframe tbody tr th:only-of-type {\n",
       "        vertical-align: middle;\n",
       "    }\n",
       "\n",
       "    .dataframe tbody tr th {\n",
       "        vertical-align: top;\n",
       "    }\n",
       "\n",
       "    .dataframe thead th {\n",
       "        text-align: right;\n",
       "    }\n",
       "</style>\n",
       "<table border=\"1\" class=\"dataframe\">\n",
       "  <thead>\n",
       "    <tr style=\"text-align: right;\">\n",
       "      <th></th>\n",
       "      <th>Customer Age (in months)</th>\n",
       "    </tr>\n",
       "  </thead>\n",
       "  <tbody>\n",
       "    <tr>\n",
       "      <td>count</td>\n",
       "      <td>5260.000000</td>\n",
       "    </tr>\n",
       "    <tr>\n",
       "      <td>mean</td>\n",
       "      <td>15.597148</td>\n",
       "    </tr>\n",
       "    <tr>\n",
       "      <td>std</td>\n",
       "      <td>10.969208</td>\n",
       "    </tr>\n",
       "    <tr>\n",
       "      <td>min</td>\n",
       "      <td>2.000000</td>\n",
       "    </tr>\n",
       "    <tr>\n",
       "      <td>25%</td>\n",
       "      <td>7.000000</td>\n",
       "    </tr>\n",
       "    <tr>\n",
       "      <td>50%</td>\n",
       "      <td>12.000000</td>\n",
       "    </tr>\n",
       "    <tr>\n",
       "      <td>75%</td>\n",
       "      <td>22.000000</td>\n",
       "    </tr>\n",
       "    <tr>\n",
       "      <td>max</td>\n",
       "      <td>67.000000</td>\n",
       "    </tr>\n",
       "  </tbody>\n",
       "</table>\n",
       "</div>"
      ],
      "text/plain": [
       "       Customer Age (in months)\n",
       "count               5260.000000\n",
       "mean                  15.597148\n",
       "std                   10.969208\n",
       "min                    2.000000\n",
       "25%                    7.000000\n",
       "50%                   12.000000\n",
       "75%                   22.000000\n",
       "max                   67.000000"
      ]
     },
     "execution_count": 18,
     "metadata": {},
     "output_type": "execute_result"
    }
   ],
   "source": [
    "df_churn_no.describe()"
   ]
  },
  {
   "cell_type": "code",
   "execution_count": 19,
   "metadata": {},
   "outputs": [
    {
     "data": {
      "text/html": [
       "<div>\n",
       "<style scoped>\n",
       "    .dataframe tbody tr th:only-of-type {\n",
       "        vertical-align: middle;\n",
       "    }\n",
       "\n",
       "    .dataframe tbody tr th {\n",
       "        vertical-align: top;\n",
       "    }\n",
       "\n",
       "    .dataframe thead th {\n",
       "        text-align: right;\n",
       "    }\n",
       "</style>\n",
       "<table border=\"1\" class=\"dataframe\">\n",
       "  <thead>\n",
       "    <tr style=\"text-align: right;\">\n",
       "      <th></th>\n",
       "      <th>Customer Age (in months)</th>\n",
       "    </tr>\n",
       "  </thead>\n",
       "  <tbody>\n",
       "    <tr>\n",
       "      <td>count</td>\n",
       "      <td>322.000000</td>\n",
       "    </tr>\n",
       "    <tr>\n",
       "      <td>mean</td>\n",
       "      <td>15.397516</td>\n",
       "    </tr>\n",
       "    <tr>\n",
       "      <td>std</td>\n",
       "      <td>8.851337</td>\n",
       "    </tr>\n",
       "    <tr>\n",
       "      <td>min</td>\n",
       "      <td>2.000000</td>\n",
       "    </tr>\n",
       "    <tr>\n",
       "      <td>25%</td>\n",
       "      <td>10.000000</td>\n",
       "    </tr>\n",
       "    <tr>\n",
       "      <td>50%</td>\n",
       "      <td>13.000000</td>\n",
       "    </tr>\n",
       "    <tr>\n",
       "      <td>75%</td>\n",
       "      <td>18.750000</td>\n",
       "    </tr>\n",
       "    <tr>\n",
       "      <td>max</td>\n",
       "      <td>47.000000</td>\n",
       "    </tr>\n",
       "  </tbody>\n",
       "</table>\n",
       "</div>"
      ],
      "text/plain": [
       "       Customer Age (in months)\n",
       "count                322.000000\n",
       "mean                  15.397516\n",
       "std                    8.851337\n",
       "min                    2.000000\n",
       "25%                   10.000000\n",
       "50%                   13.000000\n",
       "75%                   18.750000\n",
       "max                   47.000000"
      ]
     },
     "execution_count": 19,
     "metadata": {},
     "output_type": "execute_result"
    }
   ],
   "source": [
    "df_churn_yes.describe()"
   ]
  },
  {
   "cell_type": "code",
   "execution_count": 20,
   "metadata": {},
   "outputs": [
    {
     "data": {
      "text/html": [
       "<div>\n",
       "<style scoped>\n",
       "    .dataframe tbody tr th:only-of-type {\n",
       "        vertical-align: middle;\n",
       "    }\n",
       "\n",
       "    .dataframe tbody tr th {\n",
       "        vertical-align: top;\n",
       "    }\n",
       "\n",
       "    .dataframe thead th {\n",
       "        text-align: right;\n",
       "    }\n",
       "</style>\n",
       "<table border=\"1\" class=\"dataframe\">\n",
       "  <thead>\n",
       "    <tr style=\"text-align: right;\">\n",
       "      <th></th>\n",
       "      <th>ID</th>\n",
       "      <th>Customer Age (in months)</th>\n",
       "      <th>Churn (1 = Yes, 0 = No)</th>\n",
       "      <th>CHI Score Month 0</th>\n",
       "      <th>CHI Score 0-1</th>\n",
       "      <th>Support Cases Month 0</th>\n",
       "      <th>Support Cases 0-1</th>\n",
       "      <th>SP Month 0</th>\n",
       "      <th>SP 0-1</th>\n",
       "      <th>Logins 0-1</th>\n",
       "      <th>Blog Articles 0-1</th>\n",
       "      <th>Views 0-1</th>\n",
       "      <th>Days Since Last Login 0-1</th>\n",
       "      <th>Group_14-67</th>\n",
       "      <th>Group_2-6</th>\n",
       "      <th>Group_6-14</th>\n",
       "    </tr>\n",
       "  </thead>\n",
       "  <tbody>\n",
       "    <tr>\n",
       "      <td>4855</td>\n",
       "      <td>2155</td>\n",
       "      <td>21</td>\n",
       "      <td>0</td>\n",
       "      <td>7</td>\n",
       "      <td>-3</td>\n",
       "      <td>0</td>\n",
       "      <td>0</td>\n",
       "      <td>0.0</td>\n",
       "      <td>0.0</td>\n",
       "      <td>0</td>\n",
       "      <td>0</td>\n",
       "      <td>1</td>\n",
       "      <td>-33</td>\n",
       "      <td>1</td>\n",
       "      <td>0</td>\n",
       "      <td>0</td>\n",
       "    </tr>\n",
       "    <tr>\n",
       "      <td>4856</td>\n",
       "      <td>2154</td>\n",
       "      <td>21</td>\n",
       "      <td>0</td>\n",
       "      <td>90</td>\n",
       "      <td>16</td>\n",
       "      <td>0</td>\n",
       "      <td>0</td>\n",
       "      <td>0.0</td>\n",
       "      <td>0.0</td>\n",
       "      <td>5</td>\n",
       "      <td>2</td>\n",
       "      <td>0</td>\n",
       "      <td>5</td>\n",
       "      <td>1</td>\n",
       "      <td>0</td>\n",
       "      <td>0</td>\n",
       "    </tr>\n",
       "    <tr>\n",
       "      <td>5917</td>\n",
       "      <td>2301</td>\n",
       "      <td>34</td>\n",
       "      <td>0</td>\n",
       "      <td>56</td>\n",
       "      <td>-38</td>\n",
       "      <td>0</td>\n",
       "      <td>0</td>\n",
       "      <td>0.0</td>\n",
       "      <td>0.0</td>\n",
       "      <td>-8</td>\n",
       "      <td>0</td>\n",
       "      <td>-412</td>\n",
       "      <td>-53</td>\n",
       "      <td>1</td>\n",
       "      <td>0</td>\n",
       "      <td>0</td>\n",
       "    </tr>\n",
       "    <tr>\n",
       "      <td>2087</td>\n",
       "      <td>4558</td>\n",
       "      <td>7</td>\n",
       "      <td>0</td>\n",
       "      <td>140</td>\n",
       "      <td>53</td>\n",
       "      <td>0</td>\n",
       "      <td>-1</td>\n",
       "      <td>0.0</td>\n",
       "      <td>-3.0</td>\n",
       "      <td>-4</td>\n",
       "      <td>15</td>\n",
       "      <td>13</td>\n",
       "      <td>0</td>\n",
       "      <td>0</td>\n",
       "      <td>0</td>\n",
       "      <td>1</td>\n",
       "    </tr>\n",
       "    <tr>\n",
       "      <td>5019</td>\n",
       "      <td>1210</td>\n",
       "      <td>22</td>\n",
       "      <td>0</td>\n",
       "      <td>0</td>\n",
       "      <td>0</td>\n",
       "      <td>0</td>\n",
       "      <td>0</td>\n",
       "      <td>0.0</td>\n",
       "      <td>0.0</td>\n",
       "      <td>0</td>\n",
       "      <td>0</td>\n",
       "      <td>0</td>\n",
       "      <td>31</td>\n",
       "      <td>1</td>\n",
       "      <td>0</td>\n",
       "      <td>0</td>\n",
       "    </tr>\n",
       "  </tbody>\n",
       "</table>\n",
       "</div>"
      ],
      "text/plain": [
       "        ID  Customer Age (in months)  Churn (1 = Yes, 0 = No)  \\\n",
       "4855  2155                        21                        0   \n",
       "4856  2154                        21                        0   \n",
       "5917  2301                        34                        0   \n",
       "2087  4558                         7                        0   \n",
       "5019  1210                        22                        0   \n",
       "\n",
       "      CHI Score Month 0  CHI Score 0-1  Support Cases Month 0  \\\n",
       "4855                  7             -3                      0   \n",
       "4856                 90             16                      0   \n",
       "5917                 56            -38                      0   \n",
       "2087                140             53                      0   \n",
       "5019                  0              0                      0   \n",
       "\n",
       "      Support Cases 0-1  SP Month 0  SP 0-1  Logins 0-1  Blog Articles 0-1  \\\n",
       "4855                  0         0.0     0.0           0                  0   \n",
       "4856                  0         0.0     0.0           5                  2   \n",
       "5917                  0         0.0     0.0          -8                  0   \n",
       "2087                 -1         0.0    -3.0          -4                 15   \n",
       "5019                  0         0.0     0.0           0                  0   \n",
       "\n",
       "      Views 0-1   Days Since Last Login 0-1  Group_14-67  Group_2-6  \\\n",
       "4855          1                         -33            1          0   \n",
       "4856          0                           5            1          0   \n",
       "5917       -412                         -53            1          0   \n",
       "2087         13                           0            0          0   \n",
       "5019          0                          31            1          0   \n",
       "\n",
       "      Group_6-14  \n",
       "4855           0  \n",
       "4856           0  \n",
       "5917           0  \n",
       "2087           1  \n",
       "5019           0  "
      ]
     },
     "execution_count": 20,
     "metadata": {},
     "output_type": "execute_result"
    }
   ],
   "source": [
    "dummy_cols = pd.get_dummies(df['Age Group']).rename(columns=lambda x: 'Group_' + str(x))\n",
    "df = pd.concat([df, dummy_cols], axis=1)\n",
    "df.drop(['Age Group'], inplace=True, axis=1)\n",
    "df.sample(5)"
   ]
  },
  {
   "cell_type": "code",
   "execution_count": 21,
   "metadata": {},
   "outputs": [
    {
     "data": {
      "text/html": [
       "<div>\n",
       "<style scoped>\n",
       "    .dataframe tbody tr th:only-of-type {\n",
       "        vertical-align: middle;\n",
       "    }\n",
       "\n",
       "    .dataframe tbody tr th {\n",
       "        vertical-align: top;\n",
       "    }\n",
       "\n",
       "    .dataframe thead th {\n",
       "        text-align: right;\n",
       "    }\n",
       "</style>\n",
       "<table border=\"1\" class=\"dataframe\">\n",
       "  <thead>\n",
       "    <tr style=\"text-align: right;\">\n",
       "      <th></th>\n",
       "      <th>Customer Age (in months)</th>\n",
       "    </tr>\n",
       "  </thead>\n",
       "  <tbody>\n",
       "    <tr>\n",
       "      <td>389</td>\n",
       "      <td>2</td>\n",
       "    </tr>\n",
       "    <tr>\n",
       "      <td>608</td>\n",
       "      <td>2</td>\n",
       "    </tr>\n",
       "    <tr>\n",
       "      <td>658</td>\n",
       "      <td>2</td>\n",
       "    </tr>\n",
       "    <tr>\n",
       "      <td>665</td>\n",
       "      <td>2</td>\n",
       "    </tr>\n",
       "    <tr>\n",
       "      <td>978</td>\n",
       "      <td>3</td>\n",
       "    </tr>\n",
       "    <tr>\n",
       "      <td>...</td>\n",
       "      <td>...</td>\n",
       "    </tr>\n",
       "    <tr>\n",
       "      <td>6163</td>\n",
       "      <td>41</td>\n",
       "    </tr>\n",
       "    <tr>\n",
       "      <td>6196</td>\n",
       "      <td>42</td>\n",
       "    </tr>\n",
       "    <tr>\n",
       "      <td>6238</td>\n",
       "      <td>44</td>\n",
       "    </tr>\n",
       "    <tr>\n",
       "      <td>6288</td>\n",
       "      <td>47</td>\n",
       "    </tr>\n",
       "    <tr>\n",
       "      <td>6289</td>\n",
       "      <td>47</td>\n",
       "    </tr>\n",
       "  </tbody>\n",
       "</table>\n",
       "<p>322 rows × 1 columns</p>\n",
       "</div>"
      ],
      "text/plain": [
       "      Customer Age (in months)\n",
       "389                          2\n",
       "608                          2\n",
       "658                          2\n",
       "665                          2\n",
       "978                          3\n",
       "...                        ...\n",
       "6163                        41\n",
       "6196                        42\n",
       "6238                        44\n",
       "6288                        47\n",
       "6289                        47\n",
       "\n",
       "[322 rows x 1 columns]"
      ]
     },
     "execution_count": 21,
     "metadata": {},
     "output_type": "execute_result"
    }
   ],
   "source": [
    "df.loc[df['Churn (1 = Yes, 0 = No)'] == 1, ['Customer Age (in months)']]"
   ]
  },
  {
   "cell_type": "code",
   "execution_count": 22,
   "metadata": {},
   "outputs": [
    {
     "data": {
      "text/plain": [
       "Index(['ID', 'Customer Age (in months)', 'Churn (1 = Yes, 0 = No)',\n",
       "       'CHI Score Month 0', 'CHI Score 0-1', 'Support Cases Month 0',\n",
       "       'Support Cases 0-1', 'SP Month 0', 'SP 0-1', 'Logins 0-1',\n",
       "       'Blog Articles 0-1', 'Views 0-1', ' Days Since Last Login 0-1',\n",
       "       'Group_14-67', 'Group_2-6', 'Group_6-14'],\n",
       "      dtype='object')"
      ]
     },
     "execution_count": 22,
     "metadata": {},
     "output_type": "execute_result"
    }
   ],
   "source": [
    "df.columns"
   ]
  },
  {
   "cell_type": "markdown",
   "metadata": {},
   "source": [
    "### Logistic regression without splitting or subsampling"
   ]
  },
  {
   "cell_type": "code",
   "execution_count": 23,
   "metadata": {},
   "outputs": [],
   "source": [
    "### Distribution of Cusotmer Age for Churn = Yes\n",
    "features = ['CHI Score Month 0', 'CHI Score 0-1', 'Support Cases Month 0',\n",
    "       'Support Cases 0-1', 'SP Month 0', 'SP 0-1', 'Logins 0-1',\n",
    "       'Blog Articles 0-1', 'Views 0-1', ' Days Since Last Login 0-1',\n",
    "       'Group_14-67', 'Group_2-6', 'Group_6-14']\n",
    "X = df[features]\n",
    "y = df['Churn (1 = Yes, 0 = No)']\n",
    "scaler = MinMaxScaler()\n",
    "X = scaler.fit_transform(X)"
   ]
  },
  {
   "cell_type": "markdown",
   "metadata": {},
   "source": [
    "### Applying Logistic Regression"
   ]
  },
  {
   "cell_type": "code",
   "execution_count": 24,
   "metadata": {},
   "outputs": [
    {
     "name": "stdout",
     "output_type": "stream",
     "text": [
      "Accuracy of Logistic regression classifier : 0.94\n"
     ]
    },
    {
     "data": {
      "text/plain": [
       "array([[5260,    0],\n",
       "       [ 322,    0]])"
      ]
     },
     "execution_count": 24,
     "metadata": {},
     "output_type": "execute_result"
    }
   ],
   "source": [
    "### Run regression on full dataset, without splitting or sub sampling\n",
    "logreg = LogisticRegression()\n",
    "logreg.fit(X, y)\n",
    "y_pred = logreg.predict(X)\n",
    "\n",
    "print('Accuracy of Logistic regression classifier : {:.2f}'\n",
    "     .format(logreg.score(X, y)))\n",
    "\n",
    "confusion_matrix(y, y_pred)"
   ]
  },
  {
   "cell_type": "code",
   "execution_count": 25,
   "metadata": {},
   "outputs": [],
   "source": [
    "def predict_customer(df, scaler, customer_id, model) : \n",
    "    x_temp = df[df['ID'] == customer_id]\n",
    "    actual = x_temp['Churn (1 = Yes, 0 = No)'].values[0]\n",
    "    x_temp = x_temp[features]\n",
    "    return model.predict_proba(scaler.transform(x_temp))[0], actual"
   ]
  },
  {
   "cell_type": "code",
   "execution_count": 26,
   "metadata": {},
   "outputs": [
    {
     "name": "stdout",
     "output_type": "stream",
     "text": [
      "(array([0.96498574, 0.03501426]), 0)\n",
      "(array([0.94666218, 0.05333782]), 0)\n",
      "(array([0.962816, 0.037184]), 0)\n"
     ]
    }
   ],
   "source": [
    "print(predict_customer(df, scaler, 672, logreg))\n",
    "print(predict_customer(df, scaler, 354, logreg))\n",
    "print(predict_customer(df, scaler, 5203, logreg))"
   ]
  },
  {
   "cell_type": "markdown",
   "metadata": {},
   "source": [
    "### Data Upsampling using SMOTE"
   ]
  },
  {
   "cell_type": "code",
   "execution_count": 27,
   "metadata": {},
   "outputs": [
    {
     "name": "stderr",
     "output_type": "stream",
     "text": [
      "Using TensorFlow backend.\n"
     ]
    }
   ],
   "source": [
    "### Applying Logistic Regressionfrom collections import Counter\n",
    "from sklearn.datasets import make_classification\n",
    "from imblearn.over_sampling import SMOTE\n",
    "sm = SMOTE(random_state=42)\n",
    "X_res, y_res = sm.fit_resample(X, y)\n",
    "X_train, X_test, y_train, y_test = train_test_split(X_res, y_res, random_state=0)\n",
    "scaler = MinMaxScaler()\n",
    "X_train = scaler.fit_transform(X_train)\n",
    "X_test = scaler.transform(X_test)"
   ]
  },
  {
   "cell_type": "code",
   "execution_count": 28,
   "metadata": {},
   "outputs": [
    {
     "name": "stdout",
     "output_type": "stream",
     "text": [
      "Accuracy of Logistic regression classifier on training set: 0.65\n",
      "Accuracy of Logistic regression classifier on test set: 0.64\n"
     ]
    },
    {
     "data": {
      "text/plain": [
       "array([[830, 459],\n",
       "       [489, 852]])"
      ]
     },
     "execution_count": 28,
     "metadata": {},
     "output_type": "execute_result"
    }
   ],
   "source": [
    "logreg = LogisticRegression()\n",
    "logreg.fit(X_train, y_train)\n",
    "y_pred = logreg.predict(X_test)\n",
    "\n",
    "print('Accuracy of Logistic regression classifier on training set: {:.2f}'\n",
    "     .format(logreg.score(X_train, y_train)))\n",
    "print('Accuracy of Logistic regression classifier on test set: {:.2f}'\n",
    "     .format(logreg.score(X_test, y_test)))\n",
    "\n",
    "confusion_matrix(y_test, y_pred)"
   ]
  },
  {
   "cell_type": "code",
   "execution_count": 29,
   "metadata": {},
   "outputs": [
    {
     "name": "stdout",
     "output_type": "stream",
     "text": [
      "(array([1., 0.]), 0)\n",
      "(array([1., 0.]), 0)\n",
      "(array([1.00000000e+00, 8.30452706e-67]), 0)\n"
     ]
    }
   ],
   "source": [
    "print(predict_customer(df, scaler, 672, logreg))\n",
    "print(predict_customer(df, scaler, 354, logreg))\n",
    "print(predict_customer(df, scaler, 5203, logreg))"
   ]
  },
  {
   "cell_type": "markdown",
   "metadata": {},
   "source": [
    "### Applying Random Forest"
   ]
  },
  {
   "cell_type": "code",
   "execution_count": 30,
   "metadata": {},
   "outputs": [
    {
     "data": {
      "text/plain": [
       "array([[1211,   78],\n",
       "       [  47, 1294]])"
      ]
     },
     "execution_count": 30,
     "metadata": {},
     "output_type": "execute_result"
    }
   ],
   "source": [
    "### Data Upsampling using SMOTEfrom sklearn.model_selection import GridSearchCV\n",
    "from sklearn.datasets import make_classification\n",
    "from sklearn.ensemble import RandomForestClassifier\n",
    "\n",
    "clf = RandomForestClassifier(n_jobs=2, random_state=0)\n",
    "clf.fit(X_train, y_train)\n",
    "y_pred = clf.predict(X_test)\n",
    "confusion_matrix(y_test, y_pred)"
   ]
  },
  {
   "cell_type": "code",
   "execution_count": 31,
   "metadata": {},
   "outputs": [
    {
     "data": {
      "text/plain": [
       " Days Since Last Login 0-1    0.174212\n",
       "CHI Score Month 0             0.172156\n",
       "CHI Score 0-1                 0.127135\n",
       "Views 0-1                     0.125404\n",
       "Logins 0-1                    0.121551\n",
       "Blog Articles 0-1             0.106423\n",
       "Support Cases 0-1             0.049683\n",
       "Support Cases Month 0         0.037506\n",
       "SP 0-1                        0.026668\n",
       "Group_6-14                    0.016764\n",
       "Group_2-6                     0.014517\n",
       "Group_14-67                   0.014142\n",
       "SP Month 0                    0.013839\n",
       "dtype: float64"
      ]
     },
     "execution_count": 31,
     "metadata": {},
     "output_type": "execute_result"
    }
   ],
   "source": [
    "important_features = pd.Series(data=clf.feature_importances_,index=features)\n",
    "important_features.sort_values(ascending=False,inplace=True)\n",
    "important_features"
   ]
  },
  {
   "cell_type": "code",
   "execution_count": 32,
   "metadata": {},
   "outputs": [
    {
     "name": "stdout",
     "output_type": "stream",
     "text": [
      "(array([0.76, 0.24]), 0)\n",
      "(array([0.8, 0.2]), 0)\n",
      "(array([0.76, 0.24]), 0)\n",
      "(array([0.81, 0.19]), 1)\n",
      "(array([0.75, 0.25]), 0)\n",
      "(array([0.84, 0.16]), 1)\n",
      "(array([0.72, 0.28]), 1)\n",
      "(array([0.65, 0.35]), 1)\n",
      "(array([0.79, 0.21]), 1)\n"
     ]
    }
   ],
   "source": [
    "#Random forest is very good compared to normal logistic regression\n",
    "\n",
    "print(predict_customer(df, scaler, 672, clf))\n",
    "print(predict_customer(df, scaler, 354, clf))\n",
    "print(predict_customer(df, scaler, 5203, clf))\n",
    "print(predict_customer(df, scaler, 54, clf))\n",
    "print(predict_customer(df, scaler, 63, clf))\n",
    "\n",
    "print(predict_customer(df, scaler, 200, clf))\n",
    "print(predict_customer(df, scaler, 267, clf))\n",
    "print(predict_customer(df, scaler, 549, clf))\n",
    "print(predict_customer(df, scaler, 564, clf))"
   ]
  },
  {
   "cell_type": "code",
   "execution_count": null,
   "metadata": {},
   "outputs": [],
   "source": []
  }
 ],
 "metadata": {
  "kernelspec": {
   "display_name": "Python 3",
   "language": "python",
   "name": "python3"
  },
  "language_info": {
   "codemirror_mode": {
    "name": "ipython",
    "version": 3
   },
   "file_extension": ".py",
   "mimetype": "text/x-python",
   "name": "python",
   "nbconvert_exporter": "python",
   "pygments_lexer": "ipython3",
   "version": "3.7.4"
  }
 },
 "nbformat": 4,
 "nbformat_minor": 2
}
