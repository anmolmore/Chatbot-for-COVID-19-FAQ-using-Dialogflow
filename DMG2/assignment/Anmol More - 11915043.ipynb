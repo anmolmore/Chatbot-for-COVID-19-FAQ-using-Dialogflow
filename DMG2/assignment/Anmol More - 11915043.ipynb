{
 "cells": [
  {
   "cell_type": "code",
   "execution_count": 1,
   "metadata": {},
   "outputs": [],
   "source": [
    "import random\n",
    "import math\n",
    "import decimal\n",
    "import re\n",
    "import pandas as pd\n",
    "import numpy as np\n",
    "\n",
    "from sklearn import decomposition\n",
    "\n",
    "from sklearn.model_selection import train_test_split\n",
    "from sklearn.discriminant_analysis import LinearDiscriminantAnalysis\n",
    "from sklearn.mixture import BayesianGaussianMixture\n",
    "from sklearn.naive_bayes import GaussianNB\n",
    "from sklearn.naive_bayes import BernoulliNB\n",
    "from sklearn.tree import DecisionTreeClassifier\n",
    "from sklearn.neighbors import KNeighborsClassifier\n",
    "from sklearn.neighbors import KernelDensity\n",
    "from sklearn.metrics import accuracy_score\n",
    "from sklearn.metrics import classification_report\n",
    "from sklearn import metrics\n",
    "\n",
    "import matplotlib.pyplot as plt\n",
    "import seaborn as sns"
   ]
  },
  {
   "cell_type": "markdown",
   "metadata": {},
   "source": [
    "set random seed"
   ]
  },
  {
   "cell_type": "code",
   "execution_count": 2,
   "metadata": {},
   "outputs": [
    {
     "data": {
      "text/plain": [
       "5"
      ]
     },
     "execution_count": 2,
     "metadata": {},
     "output_type": "execute_result"
    }
   ],
   "source": [
    "random.seed(11915043)\n",
    "np.random.randint(5,10)"
   ]
  },
  {
   "cell_type": "markdown",
   "metadata": {},
   "source": [
    "<H2> P1 : IRIS – HIERARCHICAL FISHER </H2>"
   ]
  },
  {
   "cell_type": "code",
   "execution_count": 3,
   "metadata": {},
   "outputs": [
    {
     "data": {
      "text/html": [
       "<div>\n",
       "<style scoped>\n",
       "    .dataframe tbody tr th:only-of-type {\n",
       "        vertical-align: middle;\n",
       "    }\n",
       "\n",
       "    .dataframe tbody tr th {\n",
       "        vertical-align: top;\n",
       "    }\n",
       "\n",
       "    .dataframe thead th {\n",
       "        text-align: right;\n",
       "    }\n",
       "</style>\n",
       "<table border=\"1\" class=\"dataframe\">\n",
       "  <thead>\n",
       "    <tr style=\"text-align: right;\">\n",
       "      <th></th>\n",
       "      <th>sepal length</th>\n",
       "      <th>sepal width</th>\n",
       "      <th>petal length</th>\n",
       "      <th>petal width</th>\n",
       "      <th>class</th>\n",
       "    </tr>\n",
       "  </thead>\n",
       "  <tbody>\n",
       "    <tr>\n",
       "      <td>146</td>\n",
       "      <td>6.3</td>\n",
       "      <td>2.5</td>\n",
       "      <td>5.0</td>\n",
       "      <td>1.9</td>\n",
       "      <td>Iris-virginica</td>\n",
       "    </tr>\n",
       "    <tr>\n",
       "      <td>18</td>\n",
       "      <td>5.7</td>\n",
       "      <td>3.8</td>\n",
       "      <td>1.7</td>\n",
       "      <td>0.3</td>\n",
       "      <td>Iris-setosa</td>\n",
       "    </tr>\n",
       "    <tr>\n",
       "      <td>137</td>\n",
       "      <td>6.4</td>\n",
       "      <td>3.1</td>\n",
       "      <td>5.5</td>\n",
       "      <td>1.8</td>\n",
       "      <td>Iris-virginica</td>\n",
       "    </tr>\n",
       "    <tr>\n",
       "      <td>26</td>\n",
       "      <td>5.0</td>\n",
       "      <td>3.4</td>\n",
       "      <td>1.6</td>\n",
       "      <td>0.4</td>\n",
       "      <td>Iris-setosa</td>\n",
       "    </tr>\n",
       "    <tr>\n",
       "      <td>132</td>\n",
       "      <td>6.4</td>\n",
       "      <td>2.8</td>\n",
       "      <td>5.6</td>\n",
       "      <td>2.2</td>\n",
       "      <td>Iris-virginica</td>\n",
       "    </tr>\n",
       "  </tbody>\n",
       "</table>\n",
       "</div>"
      ],
      "text/plain": [
       "     sepal length  sepal width  petal length  petal width           class\n",
       "146           6.3          2.5           5.0          1.9  Iris-virginica\n",
       "18            5.7          3.8           1.7          0.3     Iris-setosa\n",
       "137           6.4          3.1           5.5          1.8  Iris-virginica\n",
       "26            5.0          3.4           1.6          0.4     Iris-setosa\n",
       "132           6.4          2.8           5.6          2.2  Iris-virginica"
      ]
     },
     "execution_count": 3,
     "metadata": {},
     "output_type": "execute_result"
    }
   ],
   "source": [
    "iris = pd.read_csv('DMG-2 Assignment Data Files/iris/iris.data', header=None, names =\n",
    "                   ['sepal length', 'sepal width', 'petal length', 'petal width', 'class'])\n",
    "iris.sample(5)"
   ]
  },
  {
   "cell_type": "markdown",
   "metadata": {},
   "source": [
    "### Two classes in IRIS are more “similar” to each other. Find which ones using scatter plots. Lets say class 1 and class 2.\n",
    "\n",
    "As seen in plots below 'Iris-versicolor' and 'Iris-virginica' are more similar to each other"
   ]
  },
  {
   "cell_type": "code",
   "execution_count": 4,
   "metadata": {},
   "outputs": [
    {
     "data": {
      "text/plain": [
       "<seaborn.axisgrid.PairGrid at 0x1a25e27490>"
      ]
     },
     "execution_count": 4,
     "metadata": {},
     "output_type": "execute_result"
    },
    {
     "data": {
      "image/png": "[encoded data removed]",
      "text/plain": [
       "<Figure size 823.5x720 with 20 Axes>"
      ]
     },
     "metadata": {
      "needs_background": "light"
     },
     "output_type": "display_data"
    }
   ],
   "source": [
    "sns.pairplot(iris, hue = 'class')"
   ]
  },
  {
   "cell_type": "markdown",
   "metadata": {},
   "source": [
    "### Lets create a “meta class” combining class 1 and class 2 (or whichever are the two most similar classes). Lets call it class 4."
   ]
  },
  {
   "cell_type": "code",
   "execution_count": 5,
   "metadata": {},
   "outputs": [
    {
     "data": {
      "text/html": [
       "<div>\n",
       "<style scoped>\n",
       "    .dataframe tbody tr th:only-of-type {\n",
       "        vertical-align: middle;\n",
       "    }\n",
       "\n",
       "    .dataframe tbody tr th {\n",
       "        vertical-align: top;\n",
       "    }\n",
       "\n",
       "    .dataframe thead th {\n",
       "        text-align: right;\n",
       "    }\n",
       "</style>\n",
       "<table border=\"1\" class=\"dataframe\">\n",
       "  <thead>\n",
       "    <tr style=\"text-align: right;\">\n",
       "      <th></th>\n",
       "      <th>sepal length</th>\n",
       "      <th>sepal width</th>\n",
       "      <th>petal length</th>\n",
       "      <th>petal width</th>\n",
       "      <th>class</th>\n",
       "      <th>versi-virgi</th>\n",
       "    </tr>\n",
       "  </thead>\n",
       "  <tbody>\n",
       "    <tr>\n",
       "      <td>140</td>\n",
       "      <td>6.7</td>\n",
       "      <td>3.1</td>\n",
       "      <td>5.6</td>\n",
       "      <td>2.4</td>\n",
       "      <td>Iris-virginica</td>\n",
       "      <td>1</td>\n",
       "    </tr>\n",
       "    <tr>\n",
       "      <td>67</td>\n",
       "      <td>5.8</td>\n",
       "      <td>2.7</td>\n",
       "      <td>4.1</td>\n",
       "      <td>1.0</td>\n",
       "      <td>Iris-versicolor</td>\n",
       "      <td>1</td>\n",
       "    </tr>\n",
       "    <tr>\n",
       "      <td>133</td>\n",
       "      <td>6.3</td>\n",
       "      <td>2.8</td>\n",
       "      <td>5.1</td>\n",
       "      <td>1.5</td>\n",
       "      <td>Iris-virginica</td>\n",
       "      <td>1</td>\n",
       "    </tr>\n",
       "    <tr>\n",
       "      <td>4</td>\n",
       "      <td>5.0</td>\n",
       "      <td>3.6</td>\n",
       "      <td>1.4</td>\n",
       "      <td>0.2</td>\n",
       "      <td>Iris-setosa</td>\n",
       "      <td>0</td>\n",
       "    </tr>\n",
       "    <tr>\n",
       "      <td>21</td>\n",
       "      <td>5.1</td>\n",
       "      <td>3.7</td>\n",
       "      <td>1.5</td>\n",
       "      <td>0.4</td>\n",
       "      <td>Iris-setosa</td>\n",
       "      <td>0</td>\n",
       "    </tr>\n",
       "  </tbody>\n",
       "</table>\n",
       "</div>"
      ],
      "text/plain": [
       "     sepal length  sepal width  petal length  petal width            class  \\\n",
       "140           6.7          3.1           5.6          2.4   Iris-virginica   \n",
       "67            5.8          2.7           4.1          1.0  Iris-versicolor   \n",
       "133           6.3          2.8           5.1          1.5   Iris-virginica   \n",
       "4             5.0          3.6           1.4          0.2      Iris-setosa   \n",
       "21            5.1          3.7           1.5          0.4      Iris-setosa   \n",
       "\n",
       "     versi-virgi  \n",
       "140            1  \n",
       "67             1  \n",
       "133            1  \n",
       "4              0  \n",
       "21             0  "
      ]
     },
     "execution_count": 5,
     "metadata": {},
     "output_type": "execute_result"
    }
   ],
   "source": [
    "iris['versi-virgi'] = np.where((iris['class'] == 'Iris-versicolor') | (iris['class'] == 'Iris-virginica'), 1, 0)\n",
    "iris.sample(5)"
   ]
  },
  {
   "cell_type": "code",
   "execution_count": 6,
   "metadata": {},
   "outputs": [],
   "source": [
    "train, test = train_test_split(iris, test_size=0.3)"
   ]
  },
  {
   "cell_type": "code",
   "execution_count": 7,
   "metadata": {},
   "outputs": [
    {
     "name": "stderr",
     "output_type": "stream",
     "text": [
      "/Users/anmol/opt/anaconda3/lib/python3.7/site-packages/ipykernel_launcher.py:9: SettingWithCopyWarning: \n",
      "A value is trying to be set on a copy of a slice from a DataFrame.\n",
      "Try using .loc[row_indexer,col_indexer] = value instead\n",
      "\n",
      "See the caveats in the documentation: http://pandas.pydata.org/pandas-docs/stable/user_guide/indexing.html#returning-a-view-versus-a-copy\n",
      "  if __name__ == '__main__':\n"
     ]
    },
    {
     "data": {
      "image/png": "[encoded data removed]",
      "text/plain": [
       "<Figure size 432x288 with 1 Axes>"
      ]
     },
     "metadata": {
      "needs_background": "light"
     },
     "output_type": "display_data"
    }
   ],
   "source": [
    "#Ref https://scikit-learn.org/stable/auto_examples/decomposition/plot_pca_vs_lda.html\n",
    "\n",
    "lda = LinearDiscriminantAnalysis()\n",
    "features = ['sepal length', 'sepal width', 'petal length', 'petal width']\n",
    "target = 'versi-virgi'\n",
    "\n",
    "lda1 = lda.fit(train[features], train[target])\n",
    "lda1_dis = lda1.transform(train[features])\n",
    "train['lda1'] = lda1_dis\n",
    "\n",
    "ax = sns.scatterplot(x=\"lda1\", y=\"versi-virgi\", hue=\"class\", data=train)\n"
   ]
  },
  {
   "cell_type": "markdown",
   "metadata": {},
   "source": [
    "### Create the second Fisher projection by trying to discriminate class 1 from class 2 (the original two similar classes)"
   ]
  },
  {
   "cell_type": "code",
   "execution_count": 8,
   "metadata": {},
   "outputs": [
    {
     "data": {
      "image/png": "[encoded data removed]",
      "text/plain": [
       "<Figure size 432x288 with 1 Axes>"
      ]
     },
     "metadata": {
      "needs_background": "light"
     },
     "output_type": "display_data"
    }
   ],
   "source": [
    "features = ['sepal length', 'sepal width', 'petal length', 'petal width']\n",
    "target = 'class'\n",
    "\n",
    "train = train[(train['class'] == 'Iris-versicolor') | (train['class'] == 'Iris-virginica')]\n",
    "lda = LinearDiscriminantAnalysis(n_components=1)\n",
    "lda2 = lda.fit(train[features], train[target])\n",
    "lda2_dis = lda2.transform(train[features])\n",
    "train['lda2'] = lda2_dis\n",
    "\n",
    "ax = sns.scatterplot(x=\"lda2\", y=\"class\", hue=\"class\", data=train)"
   ]
  },
  {
   "cell_type": "markdown",
   "metadata": {},
   "source": [
    "### Now project the entire data in these two projections and color code the class points."
   ]
  },
  {
   "cell_type": "code",
   "execution_count": 9,
   "metadata": {},
   "outputs": [
    {
     "name": "stderr",
     "output_type": "stream",
     "text": [
      "/Users/anmol/opt/anaconda3/lib/python3.7/site-packages/ipykernel_launcher.py:1: SettingWithCopyWarning: \n",
      "A value is trying to be set on a copy of a slice from a DataFrame.\n",
      "Try using .loc[row_indexer,col_indexer] = value instead\n",
      "\n",
      "See the caveats in the documentation: http://pandas.pydata.org/pandas-docs/stable/user_guide/indexing.html#returning-a-view-versus-a-copy\n",
      "  \"\"\"Entry point for launching an IPython kernel.\n",
      "/Users/anmol/opt/anaconda3/lib/python3.7/site-packages/ipykernel_launcher.py:2: SettingWithCopyWarning: \n",
      "A value is trying to be set on a copy of a slice from a DataFrame.\n",
      "Try using .loc[row_indexer,col_indexer] = value instead\n",
      "\n",
      "See the caveats in the documentation: http://pandas.pydata.org/pandas-docs/stable/user_guide/indexing.html#returning-a-view-versus-a-copy\n",
      "  \n"
     ]
    }
   ],
   "source": [
    "test['lda1'] = lda1.transform(test[['sepal length', 'sepal width', 'petal length', 'petal width']])\n",
    "test['lda2'] = lda2.transform(test[['sepal length', 'sepal width', 'petal length', 'petal width']])"
   ]
  },
  {
   "cell_type": "markdown",
   "metadata": {},
   "source": [
    "### Comment on what you observed and did.\n",
    "\n",
    "Plot how the original four features were classifying the data"
   ]
  },
  {
   "cell_type": "code",
   "execution_count": 10,
   "metadata": {},
   "outputs": [
    {
     "data": {
      "text/plain": [
       "<seaborn.axisgrid.PairGrid at 0x1a278f3610>"
      ]
     },
     "execution_count": 10,
     "metadata": {},
     "output_type": "execute_result"
    },
    {
     "data": {
      "image/png": "[encoded data removed]",
      "text/plain": [
       "<Figure size 823.5x720 with 20 Axes>"
      ]
     },
     "metadata": {
      "needs_background": "light"
     },
     "output_type": "display_data"
    }
   ],
   "source": [
    "sns.pairplot(hue='class', data=test[['sepal length', 'sepal width', 'petal length', 'petal width', 'class']])"
   ]
  },
  {
   "cell_type": "markdown",
   "metadata": {},
   "source": [
    "We can clearly see the difference between all three classes ie. setosa, versicolor and vigginica using lda projections. Which was not clear earlier using original feature. Hence it's useful projection"
   ]
  },
  {
   "cell_type": "code",
   "execution_count": 11,
   "metadata": {},
   "outputs": [
    {
     "data": {
      "image/png": "[encoded data removed]",
      "text/plain": [
       "<Figure size 432x288 with 1 Axes>"
      ]
     },
     "metadata": {
      "needs_background": "light"
     },
     "output_type": "display_data"
    }
   ],
   "source": [
    "ax = sns.scatterplot(x=\"lda1\", y=\"lda2\", hue=\"class\", data=test)"
   ]
  },
  {
   "cell_type": "markdown",
   "metadata": {},
   "source": [
    "<H2> P2 : MUSHROOM information gain </H2>"
   ]
  },
  {
   "cell_type": "markdown",
   "metadata": {},
   "source": [
    "### Take the MUSHROOM training data. There are 20+ features and 2 classes. We want to find the BEST feature using the three purity measures: Accuracy, Gini Index, and Entropy."
   ]
  },
  {
   "cell_type": "code",
   "execution_count": 12,
   "metadata": {},
   "outputs": [
    {
     "data": {
      "text/html": [
       "<div>\n",
       "<style scoped>\n",
       "    .dataframe tbody tr th:only-of-type {\n",
       "        vertical-align: middle;\n",
       "    }\n",
       "\n",
       "    .dataframe tbody tr th {\n",
       "        vertical-align: top;\n",
       "    }\n",
       "\n",
       "    .dataframe thead th {\n",
       "        text-align: right;\n",
       "    }\n",
       "</style>\n",
       "<table border=\"1\" class=\"dataframe\">\n",
       "  <thead>\n",
       "    <tr style=\"text-align: right;\">\n",
       "      <th></th>\n",
       "      <th>class</th>\n",
       "      <th>cap-shape</th>\n",
       "      <th>cap-surface</th>\n",
       "      <th>cap-color</th>\n",
       "      <th>bruises</th>\n",
       "      <th>odor</th>\n",
       "      <th>gill-attachment</th>\n",
       "      <th>gill-spacing</th>\n",
       "      <th>gill-size</th>\n",
       "      <th>gill-color</th>\n",
       "      <th>...</th>\n",
       "      <th>stalk-surface-below-ring</th>\n",
       "      <th>stalk-color-above-ring</th>\n",
       "      <th>stalk-color-below-ring</th>\n",
       "      <th>veil-type</th>\n",
       "      <th>veil-color</th>\n",
       "      <th>ring-number</th>\n",
       "      <th>ring-type</th>\n",
       "      <th>spore-print-color</th>\n",
       "      <th>population</th>\n",
       "      <th>habitat</th>\n",
       "    </tr>\n",
       "  </thead>\n",
       "  <tbody>\n",
       "    <tr>\n",
       "      <td>0</td>\n",
       "      <td>p</td>\n",
       "      <td>x</td>\n",
       "      <td>s</td>\n",
       "      <td>n</td>\n",
       "      <td>t</td>\n",
       "      <td>p</td>\n",
       "      <td>f</td>\n",
       "      <td>c</td>\n",
       "      <td>n</td>\n",
       "      <td>k</td>\n",
       "      <td>...</td>\n",
       "      <td>s</td>\n",
       "      <td>w</td>\n",
       "      <td>w</td>\n",
       "      <td>p</td>\n",
       "      <td>w</td>\n",
       "      <td>o</td>\n",
       "      <td>p</td>\n",
       "      <td>k</td>\n",
       "      <td>s</td>\n",
       "      <td>u</td>\n",
       "    </tr>\n",
       "    <tr>\n",
       "      <td>1</td>\n",
       "      <td>e</td>\n",
       "      <td>x</td>\n",
       "      <td>s</td>\n",
       "      <td>y</td>\n",
       "      <td>t</td>\n",
       "      <td>a</td>\n",
       "      <td>f</td>\n",
       "      <td>c</td>\n",
       "      <td>b</td>\n",
       "      <td>k</td>\n",
       "      <td>...</td>\n",
       "      <td>s</td>\n",
       "      <td>w</td>\n",
       "      <td>w</td>\n",
       "      <td>p</td>\n",
       "      <td>w</td>\n",
       "      <td>o</td>\n",
       "      <td>p</td>\n",
       "      <td>n</td>\n",
       "      <td>n</td>\n",
       "      <td>g</td>\n",
       "    </tr>\n",
       "    <tr>\n",
       "      <td>2</td>\n",
       "      <td>e</td>\n",
       "      <td>b</td>\n",
       "      <td>s</td>\n",
       "      <td>w</td>\n",
       "      <td>t</td>\n",
       "      <td>l</td>\n",
       "      <td>f</td>\n",
       "      <td>c</td>\n",
       "      <td>b</td>\n",
       "      <td>n</td>\n",
       "      <td>...</td>\n",
       "      <td>s</td>\n",
       "      <td>w</td>\n",
       "      <td>w</td>\n",
       "      <td>p</td>\n",
       "      <td>w</td>\n",
       "      <td>o</td>\n",
       "      <td>p</td>\n",
       "      <td>n</td>\n",
       "      <td>n</td>\n",
       "      <td>m</td>\n",
       "    </tr>\n",
       "    <tr>\n",
       "      <td>3</td>\n",
       "      <td>p</td>\n",
       "      <td>x</td>\n",
       "      <td>y</td>\n",
       "      <td>w</td>\n",
       "      <td>t</td>\n",
       "      <td>p</td>\n",
       "      <td>f</td>\n",
       "      <td>c</td>\n",
       "      <td>n</td>\n",
       "      <td>n</td>\n",
       "      <td>...</td>\n",
       "      <td>s</td>\n",
       "      <td>w</td>\n",
       "      <td>w</td>\n",
       "      <td>p</td>\n",
       "      <td>w</td>\n",
       "      <td>o</td>\n",
       "      <td>p</td>\n",
       "      <td>k</td>\n",
       "      <td>s</td>\n",
       "      <td>u</td>\n",
       "    </tr>\n",
       "    <tr>\n",
       "      <td>4</td>\n",
       "      <td>e</td>\n",
       "      <td>x</td>\n",
       "      <td>s</td>\n",
       "      <td>g</td>\n",
       "      <td>f</td>\n",
       "      <td>n</td>\n",
       "      <td>f</td>\n",
       "      <td>w</td>\n",
       "      <td>b</td>\n",
       "      <td>k</td>\n",
       "      <td>...</td>\n",
       "      <td>s</td>\n",
       "      <td>w</td>\n",
       "      <td>w</td>\n",
       "      <td>p</td>\n",
       "      <td>w</td>\n",
       "      <td>o</td>\n",
       "      <td>e</td>\n",
       "      <td>n</td>\n",
       "      <td>a</td>\n",
       "      <td>g</td>\n",
       "    </tr>\n",
       "  </tbody>\n",
       "</table>\n",
       "<p>5 rows × 23 columns</p>\n",
       "</div>"
      ],
      "text/plain": [
       "  class cap-shape cap-surface cap-color bruises odor gill-attachment  \\\n",
       "0     p         x           s         n       t    p               f   \n",
       "1     e         x           s         y       t    a               f   \n",
       "2     e         b           s         w       t    l               f   \n",
       "3     p         x           y         w       t    p               f   \n",
       "4     e         x           s         g       f    n               f   \n",
       "\n",
       "  gill-spacing gill-size gill-color  ... stalk-surface-below-ring  \\\n",
       "0            c         n          k  ...                        s   \n",
       "1            c         b          k  ...                        s   \n",
       "2            c         b          n  ...                        s   \n",
       "3            c         n          n  ...                        s   \n",
       "4            w         b          k  ...                        s   \n",
       "\n",
       "  stalk-color-above-ring stalk-color-below-ring veil-type veil-color  \\\n",
       "0                      w                      w         p          w   \n",
       "1                      w                      w         p          w   \n",
       "2                      w                      w         p          w   \n",
       "3                      w                      w         p          w   \n",
       "4                      w                      w         p          w   \n",
       "\n",
       "  ring-number ring-type spore-print-color population habitat  \n",
       "0           o         p                 k          s       u  \n",
       "1           o         p                 n          n       g  \n",
       "2           o         p                 n          n       m  \n",
       "3           o         p                 k          s       u  \n",
       "4           o         e                 n          a       g  \n",
       "\n",
       "[5 rows x 23 columns]"
      ]
     },
     "execution_count": 12,
     "metadata": {},
     "output_type": "execute_result"
    }
   ],
   "source": [
    "col_names = ['class',\n",
    "             'cap-shape',\n",
    "             'cap-surface',\n",
    "             'cap-color',\n",
    "             'bruises',\n",
    "             'odor',\n",
    "             'gill-attachment',\n",
    "             'gill-spacing',\n",
    "             'gill-size',\n",
    "             'gill-color',\n",
    "             'stalk-shape',\n",
    "             'stalk-root',\n",
    "             'stalk-surface-above-ring',\n",
    "             'stalk-surface-below-ring',\n",
    "             'stalk-color-above-ring',\n",
    "             'stalk-color-below-ring',\n",
    "             'veil-type',\n",
    "             'veil-color',\n",
    "             'ring-number',\n",
    "             'ring-type',\n",
    "             'spore-print-color',\n",
    "             'population',\n",
    "             'habitat']\n",
    "mushroom = pd.read_csv('DMG-2 Assignment Data Files/Mushroom/agaricus-lepiota.data',\n",
    "                       index_col=None,\n",
    "                       header=None,\n",
    "                       names=col_names)\n",
    "mushroom.head()"
   ]
  },
  {
   "cell_type": "markdown",
   "metadata": {},
   "source": [
    "### Logic below : For each feature, partition the data into k regions where k is the number of values the feature can take.\n",
    "\n",
    "- Take one feature at a time from dataframe\n",
    "- create a subset of data with that feature and class labels\n",
    "- Groupby count to partition data into K features where k is no of values feature can take\n",
    "\n",
    "### Measure the Information gain due to each feature. Generate a table with the following columns:\n",
    "- Feature_name\n",
    "- Accuracy\n",
    "- GINI index\n",
    "- Entropy (NOTE: Use log_k for a feature with k values)"
   ]
  },
  {
   "cell_type": "code",
   "execution_count": 13,
   "metadata": {},
   "outputs": [
    {
     "data": {
      "text/html": [
       "<div>\n",
       "<style scoped>\n",
       "    .dataframe tbody tr th:only-of-type {\n",
       "        vertical-align: middle;\n",
       "    }\n",
       "\n",
       "    .dataframe tbody tr th {\n",
       "        vertical-align: top;\n",
       "    }\n",
       "\n",
       "    .dataframe thead th {\n",
       "        text-align: right;\n",
       "    }\n",
       "</style>\n",
       "<table border=\"1\" class=\"dataframe\">\n",
       "  <thead>\n",
       "    <tr style=\"text-align: right;\">\n",
       "      <th></th>\n",
       "      <th>Feature</th>\n",
       "      <th>Accuracy</th>\n",
       "      <th>Gini</th>\n",
       "      <th>1-Entropy</th>\n",
       "    </tr>\n",
       "  </thead>\n",
       "  <tbody>\n",
       "  </tbody>\n",
       "</table>\n",
       "</div>"
      ],
      "text/plain": [
       "Empty DataFrame\n",
       "Columns: [Feature, Accuracy, Gini, 1-Entropy]\n",
       "Index: []"
      ]
     },
     "execution_count": 13,
     "metadata": {},
     "output_type": "execute_result"
    }
   ],
   "source": [
    "#define a empty dataframe for result set\n",
    "result_set = pd.DataFrame(columns = ['Feature', 'Accuracy', 'Gini', '1-Entropy'])\n",
    "result_set"
   ]
  },
  {
   "cell_type": "code",
   "execution_count": 14,
   "metadata": {},
   "outputs": [
    {
     "name": "stdout",
     "output_type": "stream",
     "text": [
      "6\n",
      "6\n",
      "6\n",
      "6\n",
      "6\n",
      "6\n",
      "class         e     p  Parition Accuracy  Weighted Accuracy  Gini Index  \\\n",
      "cap-shape                                                                 \n",
      "b           404    48           0.893805           0.049729    0.810165   \n",
      "c             0     4           1.000000           0.000492    1.000000   \n",
      "f          1596  1556           0.506345           0.196455    0.500081   \n",
      "k           228   600           0.724638           0.073855    0.600924   \n",
      "s            32     0           1.000000           0.003939    1.000000   \n",
      "x          1948  1708           0.532823           0.239783    0.502155   \n",
      "\n",
      "class      Weighted Gini Index   Entropy  Weighted Entropy  \n",
      "cap-shape                                                   \n",
      "b                     0.045076  0.188912          0.010511  \n",
      "c                     0.000492 -0.000000         -0.000000  \n",
      "f                     0.194024  0.386808          0.150076  \n",
      "k                     0.061246  0.328459          0.033477  \n",
      "s                     0.003939 -0.000000         -0.000000  \n",
      "x                     0.225982  0.385649          0.173552  \n",
      "\n",
      "4\n",
      "4\n",
      "4\n",
      "4\n",
      "class           e     p  Parition Accuracy  Weighted Accuracy  Gini Index  \\\n",
      "cap-surface                                                                 \n",
      "f            1560   760           0.672414           0.192024    0.559453   \n",
      "g               0     4           1.000000           0.000492    1.000000   \n",
      "s            1144  1412           0.552426           0.173806    0.505497   \n",
      "y            1504  1740           0.536375           0.214180    0.502646   \n",
      "\n",
      "class        Weighted Gini Index   Entropy  Weighted Entropy  \n",
      "cap-surface                                                   \n",
      "f                       0.159765  0.456221          0.130285  \n",
      "g                       0.000492 -0.000000         -0.000000  \n",
      "s                       0.159041  0.496028          0.156062  \n",
      "y                       0.200712  0.498089          0.198892  \n",
      "\n",
      "10\n",
      "10\n",
      "10\n",
      "10\n",
      "10\n",
      "10\n",
      "10\n",
      "10\n",
      "10\n",
      "10\n",
      "class         e     p  Parition Accuracy  Weighted Accuracy  Gini Index  \\\n",
      "cap-color                                                                 \n",
      "b            48   120           0.714286           0.014771    0.591837   \n",
      "c            32    12           0.727273           0.003939    0.603306   \n",
      "e           624   876           0.584000           0.107829    0.514112   \n",
      "g          1032   808           0.560870           0.127031    0.507410   \n",
      "n          1264  1020           0.553415           0.155588    0.505706   \n",
      "p            56    88           0.611111           0.010832    0.524691   \n",
      "r            16     0           1.000000           0.001969    1.000000   \n",
      "u            16     0           1.000000           0.001969    1.000000   \n",
      "w           720   320           0.692308           0.088626    0.573964   \n",
      "y           400   672           0.626866           0.082718    0.532190   \n",
      "\n",
      "class      Weighted Gini Index   Entropy  Weighted Entropy  \n",
      "cap-color                                                   \n",
      "b                     0.012239  0.259825          0.005373  \n",
      "c                     0.003268  0.254476          0.001378  \n",
      "e                     0.094925  0.294872          0.054445  \n",
      "g                     0.114923  0.297804          0.067449  \n",
      "n                     0.142175  0.298547          0.083934  \n",
      "p                     0.009300  0.290217          0.005144  \n",
      "r                     0.001969 -0.000000         -0.000000  \n",
      "u                     0.001969 -0.000000         -0.000000  \n",
      "w                     0.073476  0.268065          0.034317  \n",
      "y                     0.070225  0.286896          0.037857  \n",
      "\n",
      "2\n",
      "2\n",
      "class       e     p  Parition Accuracy  Weighted Accuracy  Gini Index  \\\n",
      "bruises                                                                 \n",
      "f        1456  3292           0.693345           0.405219    0.574764   \n",
      "t        2752   624           0.815166           0.338749    0.698659   \n",
      "\n",
      "class    Weighted Gini Index   Entropy  Weighted Entropy  \n",
      "bruises                                                   \n",
      "f                   0.335916  0.889275          0.519729  \n",
      "t                   0.290334  0.690539          0.286960  \n",
      "\n",
      "9\n",
      "9\n",
      "9\n",
      "9\n",
      "9\n",
      "9\n",
      "9\n",
      "9\n",
      "9\n",
      "class     e     p  Parition Accuracy  Weighted Accuracy  Gini Index  \\\n",
      "odor                                                                  \n",
      "a       400     0           1.000000           0.049237    1.000000   \n",
      "c         0   192           1.000000           0.023634    1.000000   \n",
      "f         0  2160           1.000000           0.265879    1.000000   \n",
      "l       400     0           1.000000           0.049237    1.000000   \n",
      "m         0    36           1.000000           0.004431    1.000000   \n",
      "n      3408   120           0.965986           0.419498    0.934287   \n",
      "p         0   256           1.000000           0.031512    1.000000   \n",
      "s         0   576           1.000000           0.070901    1.000000   \n",
      "y         0   576           1.000000           0.070901    1.000000   \n",
      "\n",
      "class  Weighted Gini Index   Entropy  Weighted Entropy  \n",
      "odor                                                    \n",
      "a                 0.049237 -0.000000         -0.000000  \n",
      "c                 0.023634 -0.000000         -0.000000  \n",
      "f                 0.265879 -0.000000         -0.000000  \n",
      "l                 0.049237 -0.000000         -0.000000  \n",
      "m                 0.004431 -0.000000         -0.000000  \n",
      "n                 0.405732  0.067553          0.029336  \n",
      "p                 0.031512 -0.000000         -0.000000  \n",
      "s                 0.070901 -0.000000         -0.000000  \n",
      "y                 0.070901 -0.000000         -0.000000  \n",
      "\n",
      "2\n",
      "2\n",
      "class               e     p  Parition Accuracy  Weighted Accuracy  Gini Index  \\\n",
      "gill-attachment                                                                 \n",
      "a                 192    18           0.914286           0.023634    0.843265   \n",
      "f                4016  3898           0.507455           0.494338    0.500111   \n",
      "\n",
      "class            Weighted Gini Index   Entropy  Weighted Entropy  \n",
      "gill-attachment                                                   \n",
      "a                           0.021798  0.422001          0.010908  \n",
      "f                           0.487184  0.999840          0.973994  \n",
      "\n",
      "2\n",
      "2\n",
      "class            e     p  Parition Accuracy  Weighted Accuracy  Gini Index  \\\n",
      "gill-spacing                                                                 \n",
      "c             3008  3804           0.558426           0.468242    0.506827   \n",
      "w             1200   112           0.914634           0.147710    0.843843   \n",
      "\n",
      "class         Weighted Gini Index   Entropy  Weighted Entropy  \n",
      "gill-spacing                                                   \n",
      "c                        0.424976  0.990128          0.830225  \n",
      "w                        0.136278  0.420809          0.067959  \n",
      "\n",
      "2\n",
      "2\n",
      "class         e     p  Parition Accuracy  Weighted Accuracy  Gini Index  \\\n",
      "gill-size                                                                 \n",
      "b          3920  1692           0.698503           0.482521    0.578807   \n",
      "n           288  2224           0.885350           0.273757    0.796990   \n",
      "\n",
      "class      Weighted Gini Index   Entropy  Weighted Entropy  \n",
      "gill-size                                                   \n",
      "b                     0.399836  0.883113          0.610048  \n",
      "n                     0.246435  0.513783          0.158866  \n",
      "\n",
      "12\n",
      "12\n",
      "12\n",
      "12\n",
      "12\n",
      "12\n",
      "12\n",
      "12\n",
      "12\n",
      "12\n",
      "12\n",
      "12\n",
      "class         e     p  Parition Accuracy  Weighted Accuracy  Gini Index  \\\n",
      "gill-color                                                                \n",
      "b             0  1728           1.000000           0.212703    1.000000   \n",
      "e            96     0           1.000000           0.011817    1.000000   \n",
      "g           248   504           0.670213           0.062038    0.557945   \n",
      "h           204   528           0.721311           0.064993    0.597958   \n",
      "k           344    64           0.843137           0.042344    0.735486   \n",
      "n           936   112           0.893130           0.115214    0.809102   \n",
      "o            64     0           1.000000           0.007878    1.000000   \n",
      "p           852   640           0.571046           0.104874    0.510095   \n",
      "r             0    24           1.000000           0.002954    1.000000   \n",
      "u           444    48           0.902439           0.054653    0.823914   \n",
      "w           956   246           0.795341           0.117676    0.674453   \n",
      "y            64    22           0.744186           0.007878    0.619254   \n",
      "\n",
      "class       Weighted Gini Index   Entropy  Weighted Entropy  \n",
      "gill-color                                                   \n",
      "b                      0.212703 -0.000000         -0.000000  \n",
      "e                      0.011817 -0.000000         -0.000000  \n",
      "g                      0.051646  0.255152          0.023618  \n",
      "h                      0.053878  0.238122          0.021456  \n",
      "k                      0.036937  0.174828          0.008780  \n",
      "n                      0.104375  0.136794          0.017647  \n",
      "o                      0.007878 -0.000000         -0.000000  \n",
      "p                      0.093681  0.274867          0.050480  \n",
      "r                      0.002954 -0.000000         -0.000000  \n",
      "u                      0.049897  0.128653          0.007791  \n",
      "w                      0.099790  0.203949          0.030176  \n",
      "y                      0.006555  0.228835          0.002422  \n",
      "\n"
     ]
    },
    {
     "name": "stdout",
     "output_type": "stream",
     "text": [
      "2\n",
      "2\n",
      "class           e     p  Parition Accuracy  Weighted Accuracy  Gini Index  \\\n",
      "stalk-shape                                                                 \n",
      "e            1616  1900           0.540387           0.233875    0.503262   \n",
      "t            2592  2016           0.562500           0.319055    0.507812   \n",
      "\n",
      "class        Weighted Gini Index   Entropy  Weighted Entropy  \n",
      "stalk-shape                                                   \n",
      "e                       0.217808  0.995289          0.430753  \n",
      "t                       0.288035  0.988699          0.560798  \n",
      "\n",
      "5\n",
      "5\n",
      "5\n",
      "5\n",
      "5\n",
      "class          e     p  Parition Accuracy  Weighted Accuracy  Gini Index  \\\n",
      "stalk-root                                                                 \n",
      "?            720  1760           0.709677           0.216642    0.587929   \n",
      "b           1920  1856           0.508475           0.236337    0.500144   \n",
      "c            512    44           0.920863           0.063023    0.854252   \n",
      "e            864   256           0.771429           0.106352    0.647347   \n",
      "r            192     0           1.000000           0.023634    1.000000   \n",
      "\n",
      "class       Weighted Gini Index   Entropy  Weighted Entropy  \n",
      "stalk-root                                                   \n",
      "?                      0.179476  0.374317          0.114267  \n",
      "b                      0.232465  0.430587          0.200135  \n",
      "c                      0.058464  0.171896          0.011764  \n",
      "e                      0.089245  0.333995          0.046046  \n",
      "r                      0.023634 -0.000000         -0.000000  \n",
      "\n",
      "4\n",
      "4\n",
      "4\n",
      "4\n",
      "class                        e     p  Parition Accuracy  Weighted Accuracy  \\\n",
      "stalk-surface-above-ring                                                     \n",
      "f                          408   144           0.739130           0.050222   \n",
      "k                          144  2228           0.939292           0.274249   \n",
      "s                         3640  1536           0.703246           0.448055   \n",
      "y                           16     8           0.666667           0.001969   \n",
      "\n",
      "class                     Gini Index  Weighted Gini Index   Entropy  \\\n",
      "stalk-surface-above-ring                                              \n",
      "f                           0.614367             0.041744  0.414028   \n",
      "k                           0.885954             0.258676  0.165125   \n",
      "s                           0.582618             0.371200  0.438644   \n",
      "y                           0.555556             0.001641  0.459148   \n",
      "\n",
      "class                     Weighted Entropy  \n",
      "stalk-surface-above-ring                    \n",
      "f                                 0.028132  \n",
      "k                                 0.048212  \n",
      "s                                 0.279471  \n",
      "y                                 0.001356  \n",
      "\n",
      "4\n",
      "4\n",
      "4\n",
      "4\n",
      "class                        e     p  Parition Accuracy  Weighted Accuracy  \\\n",
      "stalk-surface-below-ring                                                     \n",
      "f                          456   144           0.760000           0.056130   \n",
      "k                          144  2160           0.937500           0.265879   \n",
      "s                         3400  1536           0.688817           0.418513   \n",
      "y                          208    76           0.732394           0.025603   \n",
      "\n",
      "class                     Gini Index  Weighted Gini Index   Entropy  \\\n",
      "stalk-surface-below-ring                                              \n",
      "f                           0.635200             0.046913  0.397520   \n",
      "k                           0.882812             0.250369  0.168645   \n",
      "s                           0.571304             0.347114  0.447267   \n",
      "y                           0.608014             0.021255  0.419004   \n",
      "\n",
      "class                     Weighted Entropy  \n",
      "stalk-surface-below-ring                    \n",
      "f                                 0.029359  \n",
      "k                                 0.047828  \n",
      "s                                 0.271752  \n",
      "y                                 0.014648  \n",
      "\n",
      "9\n",
      "9\n",
      "9\n",
      "9\n",
      "9\n",
      "9\n",
      "9\n",
      "9\n",
      "9\n",
      "class                      e     p  Parition Accuracy  Weighted Accuracy  \\\n",
      "stalk-color-above-ring                                                     \n",
      "b                          0   432           1.000000           0.053176   \n",
      "c                          0    36           1.000000           0.004431   \n",
      "e                         96     0           1.000000           0.011817   \n",
      "g                        576     0           1.000000           0.070901   \n",
      "n                         16   432           0.964286           0.053176   \n",
      "o                        192     0           1.000000           0.023634   \n",
      "p                        576  1296           0.692308           0.159527   \n",
      "w                       2752  1712           0.616487           0.338749   \n",
      "y                          0     8           1.000000           0.000985   \n",
      "\n",
      "class                   Gini Index  Weighted Gini Index   Entropy  \\\n",
      "stalk-color-above-ring                                              \n",
      "b                         1.000000             0.053176 -0.000000   \n",
      "c                         1.000000             0.004431 -0.000000   \n",
      "e                         1.000000             0.011817 -0.000000   \n",
      "g                         1.000000             0.070901 -0.000000   \n",
      "n                         0.931122             0.051347  0.070123   \n",
      "o                         1.000000             0.023634 -0.000000   \n",
      "p                         0.573964             0.132258  0.280919   \n",
      "w                         0.527139             0.289654  0.302999   \n",
      "y                         1.000000             0.000985 -0.000000   \n",
      "\n",
      "class                   Weighted Entropy  \n",
      "stalk-color-above-ring                    \n",
      "b                              -0.000000  \n",
      "c                              -0.000000  \n",
      "e                              -0.000000  \n",
      "g                              -0.000000  \n",
      "n                               0.003867  \n",
      "o                              -0.000000  \n",
      "p                               0.064732  \n",
      "w                               0.166493  \n",
      "y                              -0.000000  \n",
      "\n",
      "9\n",
      "9\n",
      "9\n",
      "9\n",
      "9\n",
      "9\n",
      "9\n",
      "9\n",
      "9\n",
      "class                      e     p  Parition Accuracy  Weighted Accuracy  \\\n",
      "stalk-color-below-ring                                                     \n",
      "b                          0   432           1.000000           0.053176   \n",
      "c                          0    36           1.000000           0.004431   \n",
      "e                         96     0           1.000000           0.011817   \n",
      "g                        576     0           1.000000           0.070901   \n",
      "n                         64   448           0.875000           0.055145   \n",
      "o                        192     0           1.000000           0.023634   \n",
      "p                        576  1296           0.692308           0.159527   \n",
      "w                       2704  1680           0.616788           0.332841   \n",
      "y                          0    24           1.000000           0.002954   \n",
      "\n",
      "class                   Gini Index  Weighted Gini Index   Entropy  \\\n",
      "stalk-color-below-ring                                              \n",
      "b                         1.000000             0.053176 -0.000000   \n",
      "c                         1.000000             0.004431 -0.000000   \n",
      "e                         1.000000             0.011817 -0.000000   \n",
      "g                         1.000000             0.070901 -0.000000   \n",
      "n                         0.781250             0.049237  0.171475   \n",
      "o                         1.000000             0.023634 -0.000000   \n",
      "p                         0.573964             0.132258  0.280919   \n",
      "w                         0.527279             0.284539  0.302934   \n",
      "y                         1.000000             0.002954 -0.000000   \n",
      "\n",
      "class                   Weighted Entropy  \n",
      "stalk-color-below-ring                    \n",
      "b                              -0.000000  \n",
      "c                              -0.000000  \n",
      "e                              -0.000000  \n",
      "g                              -0.000000  \n",
      "n                               0.010807  \n",
      "o                              -0.000000  \n",
      "p                               0.064732  \n",
      "w                               0.163474  \n",
      "y                              -0.000000  \n",
      "\n",
      "class         e     p  Parition Accuracy  Weighted Accuracy  Gini Index  \\\n",
      "veil-type                                                                 \n",
      "p          4208  3916           0.517971           0.517971    0.500646   \n",
      "\n",
      "class      Weighted Gini Index  Entropy  Weighted Entropy  \n",
      "veil-type                                                  \n",
      "p                     0.500646      0.0               0.0  \n",
      "\n",
      "4\n",
      "4\n",
      "4\n",
      "4\n",
      "class          e     p  Parition Accuracy  Weighted Accuracy  Gini Index  \\\n",
      "veil-color                                                                 \n",
      "n             96     0           1.000000           0.011817    1.000000   \n",
      "o             96     0           1.000000           0.011817    1.000000   \n",
      "w           4016  3908           0.506815           0.494338    0.500093   \n",
      "y              0     8           1.000000           0.000985    1.000000   \n",
      "\n",
      "class       Weighted Gini Index   Entropy  Weighted Entropy  \n",
      "veil-color                                                   \n",
      "n                      0.011817 -0.000000         -0.000000  \n",
      "o                      0.011817 -0.000000         -0.000000  \n",
      "w                      0.487781  0.499933          0.487625  \n",
      "y                      0.000985 -0.000000         -0.000000  \n",
      "\n",
      "3\n",
      "3\n",
      "3\n",
      "class           e     p  Parition Accuracy  Weighted Accuracy  Gini Index  \\\n",
      "ring-number                                                                 \n",
      "n               0    36           1.000000           0.004431    1.000000   \n",
      "o            3680  3808           0.508547           0.468735    0.500146   \n",
      "t             528    72           0.880000           0.064993    0.788800   \n",
      "\n",
      "class        Weighted Gini Index   Entropy  Weighted Entropy  \n",
      "ring-number                                                   \n",
      "n                       0.004431 -0.000000         -0.000000  \n",
      "o                       0.460991  0.630797          0.581414  \n",
      "t                       0.058257  0.333990          0.024667  \n",
      "\n",
      "5\n",
      "5\n",
      "5\n",
      "5\n",
      "5\n",
      "class         e     p  Parition Accuracy  Weighted Accuracy  Gini Index  \\\n",
      "ring-type                                                                 \n",
      "e          1008  1768           0.636888           0.217627    0.537476   \n",
      "f            48     0           1.000000           0.005908    1.000000   \n",
      "l             0  1296           1.000000           0.159527    1.000000   \n",
      "n             0    36           1.000000           0.004431    1.000000   \n",
      "p          3152   816           0.794355           0.387986    0.673290   \n",
      "\n",
      "class      Weighted Gini Index   Entropy  Weighted Entropy  \n",
      "ring-type                                                   \n",
      "e                     0.183658  0.407091          0.139105  \n",
      "f                     0.005908 -0.000000         -0.000000  \n",
      "l                     0.159527 -0.000000         -0.000000  \n",
      "n                     0.004431 -0.000000         -0.000000  \n",
      "p                     0.328854  0.315719          0.154206  \n",
      "\n"
     ]
    },
    {
     "name": "stdout",
     "output_type": "stream",
     "text": [
      "9\n",
      "9\n",
      "9\n",
      "9\n",
      "9\n",
      "9\n",
      "9\n",
      "9\n",
      "9\n",
      "class                 e     p  Parition Accuracy  Weighted Accuracy  \\\n",
      "spore-print-color                                                     \n",
      "b                    48     0           1.000000           0.005908   \n",
      "h                    48  1584           0.970588           0.194978   \n",
      "k                  1648   224           0.880342           0.202856   \n",
      "n                  1744   224           0.886179           0.214673   \n",
      "o                    48     0           1.000000           0.005908   \n",
      "r                     0    72           1.000000           0.008863   \n",
      "u                    48     0           1.000000           0.005908   \n",
      "w                   576  1812           0.758794           0.223043   \n",
      "y                    48     0           1.000000           0.005908   \n",
      "\n",
      "class              Gini Index  Weighted Gini Index   Entropy  Weighted Entropy  \n",
      "spore-print-color                                                               \n",
      "b                    1.000000             0.005908 -0.000000         -0.000000  \n",
      "h                    0.942907             0.189417  0.060390          0.012132  \n",
      "k                    0.789320             0.181882  0.166684          0.038409  \n",
      "n                    0.798268             0.193377  0.161308          0.039076  \n",
      "o                    1.000000             0.005908 -0.000000         -0.000000  \n",
      "r                    1.000000             0.008863 -0.000000         -0.000000  \n",
      "u                    1.000000             0.005908 -0.000000         -0.000000  \n",
      "w                    0.633949             0.186345  0.251438          0.073909  \n",
      "y                    1.000000             0.005908 -0.000000         -0.000000  \n",
      "\n",
      "6\n",
      "6\n",
      "6\n",
      "6\n",
      "6\n",
      "6\n",
      "class          e     p  Parition Accuracy  Weighted Accuracy  Gini Index  \\\n",
      "population                                                                 \n",
      "a            384     0           1.000000           0.047267    1.000000   \n",
      "c            288    52           0.847059           0.035451    0.740900   \n",
      "n            400     0           1.000000           0.049237    1.000000   \n",
      "s            880   368           0.705128           0.108321    0.584155   \n",
      "v           1192  2848           0.704950           0.350566    0.584009   \n",
      "y           1064   648           0.621495           0.130970    0.529522   \n",
      "\n",
      "class       Weighted Gini Index   Entropy  Weighted Entropy  \n",
      "population                                                   \n",
      "a                      0.047267 -0.000000         -0.000000  \n",
      "c                      0.031008  0.238747          0.009992  \n",
      "n                      0.049237 -0.000000         -0.000000  \n",
      "s                      0.089737  0.338470          0.051995  \n",
      "v                      0.290423  0.338556          0.168361  \n",
      "y                      0.111588  0.370210          0.078016  \n",
      "\n",
      "7\n",
      "7\n",
      "7\n",
      "7\n",
      "7\n",
      "7\n",
      "7\n",
      "class       e     p  Parition Accuracy  Weighted Accuracy  Gini Index  \\\n",
      "habitat                                                                 \n",
      "d        1880  1268           0.597205           0.231413    0.518897   \n",
      "g        1408   740           0.655493           0.173314    0.548356   \n",
      "l         240   592           0.711538           0.072871    0.589497   \n",
      "m         256    36           0.876712           0.031512    0.783824   \n",
      "p         136  1008           0.881119           0.124077    0.790503   \n",
      "u          96   272           0.739130           0.033481    0.614367   \n",
      "w         192     0           1.000000           0.023634    1.000000   \n",
      "\n",
      "class    Weighted Gini Index   Entropy  Weighted Entropy  \n",
      "habitat                                                   \n",
      "d                   0.201070  0.346434          0.134241  \n",
      "g                   0.144986  0.330940          0.087501  \n",
      "l                   0.060372  0.308734          0.031618  \n",
      "m                   0.028173  0.191902          0.006898  \n",
      "p                   0.111317  0.187413          0.026391  \n",
      "u                   0.027830  0.294959          0.013361  \n",
      "w                   0.023634 -0.000000         -0.000000  \n",
      "\n"
     ]
    },
    {
     "data": {
      "text/html": [
       "<div>\n",
       "<style scoped>\n",
       "    .dataframe tbody tr th:only-of-type {\n",
       "        vertical-align: middle;\n",
       "    }\n",
       "\n",
       "    .dataframe tbody tr th {\n",
       "        vertical-align: top;\n",
       "    }\n",
       "\n",
       "    .dataframe thead th {\n",
       "        text-align: right;\n",
       "    }\n",
       "</style>\n",
       "<table border=\"1\" class=\"dataframe\">\n",
       "  <thead>\n",
       "    <tr style=\"text-align: right;\">\n",
       "      <th></th>\n",
       "      <th>Feature</th>\n",
       "      <th>Accuracy</th>\n",
       "      <th>Gini</th>\n",
       "      <th>1-Entropy</th>\n",
       "    </tr>\n",
       "  </thead>\n",
       "  <tbody>\n",
       "    <tr>\n",
       "      <td>0</td>\n",
       "      <td>cap-shape</td>\n",
       "      <td>0.5643</td>\n",
       "      <td>0.5308</td>\n",
       "      <td>0.6324</td>\n",
       "    </tr>\n",
       "    <tr>\n",
       "      <td>1</td>\n",
       "      <td>cap-surface</td>\n",
       "      <td>0.5805</td>\n",
       "      <td>0.5200</td>\n",
       "      <td>0.5148</td>\n",
       "    </tr>\n",
       "    <tr>\n",
       "      <td>2</td>\n",
       "      <td>cap-color</td>\n",
       "      <td>0.5953</td>\n",
       "      <td>0.5245</td>\n",
       "      <td>0.7101</td>\n",
       "    </tr>\n",
       "    <tr>\n",
       "      <td>3</td>\n",
       "      <td>bruises</td>\n",
       "      <td>0.7440</td>\n",
       "      <td>0.6262</td>\n",
       "      <td>0.1933</td>\n",
       "    </tr>\n",
       "    <tr>\n",
       "      <td>4</td>\n",
       "      <td>odor</td>\n",
       "      <td>0.9852</td>\n",
       "      <td>0.9715</td>\n",
       "      <td>0.9707</td>\n",
       "    </tr>\n",
       "  </tbody>\n",
       "</table>\n",
       "</div>"
      ],
      "text/plain": [
       "       Feature  Accuracy    Gini  1-Entropy\n",
       "0    cap-shape    0.5643  0.5308     0.6324\n",
       "1  cap-surface    0.5805  0.5200     0.5148\n",
       "2    cap-color    0.5953  0.5245     0.7101\n",
       "3      bruises    0.7440  0.6262     0.1933\n",
       "4         odor    0.9852  0.9715     0.9707"
      ]
     },
     "execution_count": 14,
     "metadata": {},
     "output_type": "execute_result"
    }
   ],
   "source": [
    "#No. of rows\n",
    "total_rows_data = mushroom.shape[0]\n",
    "\n",
    "for column in col_names[1:] :\n",
    "    df_feature_subset = mushroom[[column,'class']]\n",
    "    feature_partition = df_feature_subset.groupby([column,'class']).size().unstack(fill_value=0)\n",
    "    \n",
    "    #Ref : https://towardsdatascience.com/gini-index-vs-information-entropy-7a7e4fed3fcb\n",
    "    for index, row in feature_partition.iterrows():\n",
    "        partition_total_sum = row['e'] + row['p']\n",
    "        prob_e_class = row['e']/partition_total_sum\n",
    "        prob_p_class = row['p']/partition_total_sum\n",
    "\n",
    "        # calculate accuracy for each partition\n",
    "        if(row['e'] > row['p']) :\n",
    "            feature_partition.at[index,'Parition Accuracy'] = prob_e_class\n",
    "        else :\n",
    "            feature_partition.at[index,'Parition Accuracy'] = prob_p_class\n",
    "        feature_partition.at[index,'Weighted Accuracy'] = partition_total_sum*feature_partition.loc[index,'Parition Accuracy']/total_rows_data\n",
    "\n",
    "        #calculate gini index for each partition\n",
    "        feature_partition.at[index,'Gini Index'] = prob_e_class**2 + prob_p_class**2\n",
    "        feature_partition.at[index,'Weighted Gini Index'] = partition_total_sum*feature_partition.loc[index,'Gini Index']/total_rows_data\n",
    "\n",
    "        #calculate entropy for each partition\n",
    "        entropy = 0\n",
    "        num_of_partitions = feature_partition.shape[0]\n",
    "        if(num_of_partitions > 1) :\n",
    "            print(num_of_partitions)\n",
    "            if(prob_e_class > 0) :\n",
    "                entropy += prob_e_class*math.log(prob_e_class, num_of_partitions)\n",
    "            if(prob_p_class > 0) :\n",
    "                entropy += prob_p_class*math.log(prob_p_class, num_of_partitions)\n",
    "        feature_partition.at[index,'Entropy'] = -1*entropy\n",
    "        feature_partition.at[index,'Weighted Entropy'] = partition_total_sum*feature_partition.loc[index,'Entropy']/total_rows_data\n",
    "    print()\n",
    "    \n",
    "    result_set = result_set.append({'Feature' : column, \n",
    "                       'Accuracy': feature_partition[['Weighted Accuracy']].sum()[0].round(4),\n",
    "                       'Gini' : feature_partition[['Weighted Gini Index']].sum()[0].round(4),\n",
    "                       '1-Entropy': 1-feature_partition[['Weighted Entropy']].sum()[0].round(4)}, ignore_index=True)\n",
    "    \n",
    "result_set.head()"
   ]
  },
  {
   "cell_type": "code",
   "execution_count": 15,
   "metadata": {},
   "outputs": [
    {
     "data": {
      "text/html": [
       "<div>\n",
       "<style scoped>\n",
       "    .dataframe tbody tr th:only-of-type {\n",
       "        vertical-align: middle;\n",
       "    }\n",
       "\n",
       "    .dataframe tbody tr th {\n",
       "        vertical-align: top;\n",
       "    }\n",
       "\n",
       "    .dataframe thead th {\n",
       "        text-align: right;\n",
       "    }\n",
       "</style>\n",
       "<table border=\"1\" class=\"dataframe\">\n",
       "  <thead>\n",
       "    <tr style=\"text-align: right;\">\n",
       "      <th></th>\n",
       "      <th>Feature</th>\n",
       "      <th>Accuracy</th>\n",
       "      <th>Gini</th>\n",
       "      <th>1-Entropy</th>\n",
       "    </tr>\n",
       "  </thead>\n",
       "  <tbody>\n",
       "    <tr>\n",
       "      <td>17</td>\n",
       "      <td>ring-number</td>\n",
       "      <td>0.5382</td>\n",
       "      <td>0.5237</td>\n",
       "      <td>0.3939</td>\n",
       "    </tr>\n",
       "    <tr>\n",
       "      <td>18</td>\n",
       "      <td>ring-type</td>\n",
       "      <td>0.7755</td>\n",
       "      <td>0.6824</td>\n",
       "      <td>0.7067</td>\n",
       "    </tr>\n",
       "    <tr>\n",
       "      <td>19</td>\n",
       "      <td>spore-print-color</td>\n",
       "      <td>0.8680</td>\n",
       "      <td>0.7835</td>\n",
       "      <td>0.8365</td>\n",
       "    </tr>\n",
       "    <tr>\n",
       "      <td>20</td>\n",
       "      <td>population</td>\n",
       "      <td>0.7218</td>\n",
       "      <td>0.6193</td>\n",
       "      <td>0.6916</td>\n",
       "    </tr>\n",
       "    <tr>\n",
       "      <td>21</td>\n",
       "      <td>habitat</td>\n",
       "      <td>0.6903</td>\n",
       "      <td>0.5974</td>\n",
       "      <td>0.7000</td>\n",
       "    </tr>\n",
       "  </tbody>\n",
       "</table>\n",
       "</div>"
      ],
      "text/plain": [
       "              Feature  Accuracy    Gini  1-Entropy\n",
       "17        ring-number    0.5382  0.5237     0.3939\n",
       "18          ring-type    0.7755  0.6824     0.7067\n",
       "19  spore-print-color    0.8680  0.7835     0.8365\n",
       "20         population    0.7218  0.6193     0.6916\n",
       "21            habitat    0.6903  0.5974     0.7000"
      ]
     },
     "execution_count": 15,
     "metadata": {},
     "output_type": "execute_result"
    }
   ],
   "source": [
    "result_set.tail()"
   ]
  },
  {
   "cell_type": "markdown",
   "metadata": {},
   "source": [
    "### Plot accuracy vs. 1-Entropy scatter plot where each point is a feature.\n",
    "\n",
    "We can see that Accuracy and '1-Entropy' are curvi linear, as Accuracy increases '1-Entropy' also increases for that feature, however there are 5 features which are outlier to this trend"
   ]
  },
  {
   "cell_type": "code",
   "execution_count": 16,
   "metadata": {},
   "outputs": [
    {
     "data": {
      "image/png": "[encoded data removed]",
      "text/plain": [
       "<Figure size 1440x720 with 1 Axes>"
      ]
     },
     "metadata": {
      "needs_background": "light"
     },
     "output_type": "display_data"
    }
   ],
   "source": [
    "fig, ax = plt.subplots(figsize=(20,10))\n",
    "ax = sns.scatterplot(x='Accuracy', y='1-Entropy', hue='Feature', data=result_set)"
   ]
  },
  {
   "cell_type": "markdown",
   "metadata": {},
   "source": [
    "### veil-type, odor, gill-color, spore-print-color are top features which alone can define the whole data"
   ]
  },
  {
   "cell_type": "code",
   "execution_count": 17,
   "metadata": {},
   "outputs": [
    {
     "data": {
      "text/html": [
       "<div>\n",
       "<style scoped>\n",
       "    .dataframe tbody tr th:only-of-type {\n",
       "        vertical-align: middle;\n",
       "    }\n",
       "\n",
       "    .dataframe tbody tr th {\n",
       "        vertical-align: top;\n",
       "    }\n",
       "\n",
       "    .dataframe thead th {\n",
       "        text-align: right;\n",
       "    }\n",
       "</style>\n",
       "<table border=\"1\" class=\"dataframe\">\n",
       "  <thead>\n",
       "    <tr style=\"text-align: right;\">\n",
       "      <th></th>\n",
       "      <th>Feature</th>\n",
       "      <th>Accuracy</th>\n",
       "      <th>Gini</th>\n",
       "      <th>1-Entropy</th>\n",
       "    </tr>\n",
       "  </thead>\n",
       "  <tbody>\n",
       "    <tr>\n",
       "      <td>15</td>\n",
       "      <td>veil-type</td>\n",
       "      <td>0.5180</td>\n",
       "      <td>0.5006</td>\n",
       "      <td>1.0000</td>\n",
       "    </tr>\n",
       "    <tr>\n",
       "      <td>4</td>\n",
       "      <td>odor</td>\n",
       "      <td>0.9852</td>\n",
       "      <td>0.9715</td>\n",
       "      <td>0.9707</td>\n",
       "    </tr>\n",
       "    <tr>\n",
       "      <td>8</td>\n",
       "      <td>gill-color</td>\n",
       "      <td>0.8050</td>\n",
       "      <td>0.7321</td>\n",
       "      <td>0.8376</td>\n",
       "    </tr>\n",
       "    <tr>\n",
       "      <td>19</td>\n",
       "      <td>spore-print-color</td>\n",
       "      <td>0.8680</td>\n",
       "      <td>0.7835</td>\n",
       "      <td>0.8365</td>\n",
       "    </tr>\n",
       "    <tr>\n",
       "      <td>13</td>\n",
       "      <td>stalk-color-above-ring</td>\n",
       "      <td>0.7164</td>\n",
       "      <td>0.6382</td>\n",
       "      <td>0.7649</td>\n",
       "    </tr>\n",
       "    <tr>\n",
       "      <td>14</td>\n",
       "      <td>stalk-color-below-ring</td>\n",
       "      <td>0.7144</td>\n",
       "      <td>0.6329</td>\n",
       "      <td>0.7610</td>\n",
       "    </tr>\n",
       "    <tr>\n",
       "      <td>2</td>\n",
       "      <td>cap-color</td>\n",
       "      <td>0.5953</td>\n",
       "      <td>0.5245</td>\n",
       "      <td>0.7101</td>\n",
       "    </tr>\n",
       "    <tr>\n",
       "      <td>18</td>\n",
       "      <td>ring-type</td>\n",
       "      <td>0.7755</td>\n",
       "      <td>0.6824</td>\n",
       "      <td>0.7067</td>\n",
       "    </tr>\n",
       "    <tr>\n",
       "      <td>21</td>\n",
       "      <td>habitat</td>\n",
       "      <td>0.6903</td>\n",
       "      <td>0.5974</td>\n",
       "      <td>0.7000</td>\n",
       "    </tr>\n",
       "    <tr>\n",
       "      <td>20</td>\n",
       "      <td>population</td>\n",
       "      <td>0.7218</td>\n",
       "      <td>0.6193</td>\n",
       "      <td>0.6916</td>\n",
       "    </tr>\n",
       "    <tr>\n",
       "      <td>11</td>\n",
       "      <td>stalk-surface-above-ring</td>\n",
       "      <td>0.7745</td>\n",
       "      <td>0.6733</td>\n",
       "      <td>0.6428</td>\n",
       "    </tr>\n",
       "    <tr>\n",
       "      <td>12</td>\n",
       "      <td>stalk-surface-below-ring</td>\n",
       "      <td>0.7661</td>\n",
       "      <td>0.6657</td>\n",
       "      <td>0.6364</td>\n",
       "    </tr>\n",
       "    <tr>\n",
       "      <td>0</td>\n",
       "      <td>cap-shape</td>\n",
       "      <td>0.5643</td>\n",
       "      <td>0.5308</td>\n",
       "      <td>0.6324</td>\n",
       "    </tr>\n",
       "    <tr>\n",
       "      <td>10</td>\n",
       "      <td>stalk-root</td>\n",
       "      <td>0.6460</td>\n",
       "      <td>0.5833</td>\n",
       "      <td>0.6278</td>\n",
       "    </tr>\n",
       "    <tr>\n",
       "      <td>1</td>\n",
       "      <td>cap-surface</td>\n",
       "      <td>0.5805</td>\n",
       "      <td>0.5200</td>\n",
       "      <td>0.5148</td>\n",
       "    </tr>\n",
       "    <tr>\n",
       "      <td>16</td>\n",
       "      <td>veil-color</td>\n",
       "      <td>0.5190</td>\n",
       "      <td>0.5124</td>\n",
       "      <td>0.5124</td>\n",
       "    </tr>\n",
       "    <tr>\n",
       "      <td>17</td>\n",
       "      <td>ring-number</td>\n",
       "      <td>0.5382</td>\n",
       "      <td>0.5237</td>\n",
       "      <td>0.3939</td>\n",
       "    </tr>\n",
       "    <tr>\n",
       "      <td>7</td>\n",
       "      <td>gill-size</td>\n",
       "      <td>0.7563</td>\n",
       "      <td>0.6463</td>\n",
       "      <td>0.2311</td>\n",
       "    </tr>\n",
       "    <tr>\n",
       "      <td>3</td>\n",
       "      <td>bruises</td>\n",
       "      <td>0.7440</td>\n",
       "      <td>0.6262</td>\n",
       "      <td>0.1933</td>\n",
       "    </tr>\n",
       "    <tr>\n",
       "      <td>6</td>\n",
       "      <td>gill-spacing</td>\n",
       "      <td>0.6160</td>\n",
       "      <td>0.5613</td>\n",
       "      <td>0.1018</td>\n",
       "    </tr>\n",
       "    <tr>\n",
       "      <td>5</td>\n",
       "      <td>gill-attachment</td>\n",
       "      <td>0.5180</td>\n",
       "      <td>0.5090</td>\n",
       "      <td>0.0151</td>\n",
       "    </tr>\n",
       "    <tr>\n",
       "      <td>9</td>\n",
       "      <td>stalk-shape</td>\n",
       "      <td>0.5529</td>\n",
       "      <td>0.5058</td>\n",
       "      <td>0.0084</td>\n",
       "    </tr>\n",
       "  </tbody>\n",
       "</table>\n",
       "</div>"
      ],
      "text/plain": [
       "                     Feature  Accuracy    Gini  1-Entropy\n",
       "15                 veil-type    0.5180  0.5006     1.0000\n",
       "4                       odor    0.9852  0.9715     0.9707\n",
       "8                 gill-color    0.8050  0.7321     0.8376\n",
       "19         spore-print-color    0.8680  0.7835     0.8365\n",
       "13    stalk-color-above-ring    0.7164  0.6382     0.7649\n",
       "14    stalk-color-below-ring    0.7144  0.6329     0.7610\n",
       "2                  cap-color    0.5953  0.5245     0.7101\n",
       "18                 ring-type    0.7755  0.6824     0.7067\n",
       "21                   habitat    0.6903  0.5974     0.7000\n",
       "20                population    0.7218  0.6193     0.6916\n",
       "11  stalk-surface-above-ring    0.7745  0.6733     0.6428\n",
       "12  stalk-surface-below-ring    0.7661  0.6657     0.6364\n",
       "0                  cap-shape    0.5643  0.5308     0.6324\n",
       "10                stalk-root    0.6460  0.5833     0.6278\n",
       "1                cap-surface    0.5805  0.5200     0.5148\n",
       "16                veil-color    0.5190  0.5124     0.5124\n",
       "17               ring-number    0.5382  0.5237     0.3939\n",
       "7                  gill-size    0.7563  0.6463     0.2311\n",
       "3                    bruises    0.7440  0.6262     0.1933\n",
       "6               gill-spacing    0.6160  0.5613     0.1018\n",
       "5            gill-attachment    0.5180  0.5090     0.0151\n",
       "9                stalk-shape    0.5529  0.5058     0.0084"
      ]
     },
     "execution_count": 17,
     "metadata": {},
     "output_type": "execute_result"
    }
   ],
   "source": [
    "result_set.sort_values(by='1-Entropy', ascending=False)"
   ]
  },
  {
   "cell_type": "markdown",
   "metadata": {},
   "source": [
    "<h2> P3 : MUSHROOM NB/DT </h2>"
   ]
  },
  {
   "cell_type": "code",
   "execution_count": 18,
   "metadata": {},
   "outputs": [],
   "source": [
    "col_names = ['class',\n",
    "             'cap-shape',\n",
    "             'cap-surface',\n",
    "             'cap-color',\n",
    "             'bruises',\n",
    "             'odor',\n",
    "             'gill-attachment',\n",
    "             'gill-spacing',\n",
    "             'gill-size',\n",
    "             'gill-color',\n",
    "             'stalk-shape',\n",
    "             'stalk-root',\n",
    "             'stalk-surface-above-ring',\n",
    "             'stalk-surface-below-ring',\n",
    "             'stalk-color-above-ring',\n",
    "             'stalk-color-below-ring',\n",
    "             'veil-type',\n",
    "             'veil-color',\n",
    "             'ring-number',\n",
    "             'ring-type',\n",
    "             'spore-print-color',\n",
    "             'population',\n",
    "             'habitat']\n",
    "mushroom = pd.read_csv('DMG-2 Assignment Data Files/Mushroom/agaricus-lepiota.data',\n",
    "                       index_col=None,\n",
    "                       header=None,\n",
    "                       names=col_names)\n",
    "mushroom.head()\n",
    "\n",
    "X = mushroom.loc[:, mushroom.columns != 'class']\n",
    "X = pd.get_dummies(X)\n",
    "y = mushroom.loc[:, mushroom.columns == 'class']"
   ]
  },
  {
   "cell_type": "markdown",
   "metadata": {},
   "source": [
    "### Build Naive Bayes and Decision Tree classifiers on the MUSHROOM training dataset."
   ]
  },
  {
   "cell_type": "code",
   "execution_count": 19,
   "metadata": {},
   "outputs": [
    {
     "name": "stderr",
     "output_type": "stream",
     "text": [
      "/Users/anmol/opt/anaconda3/lib/python3.7/site-packages/sklearn/naive_bayes.py:485: UserWarning: alpha too small will result in numeric errors, setting alpha = 1.0e-10\n",
      "  'setting alpha = %.1e' % _ALPHA_MIN)\n"
     ]
    },
    {
     "name": "stdout",
     "output_type": "stream",
     "text": [
      "0 0.994899753781217 0.9938474159146842\n",
      "1 0.9416109743228983 0.9364232977850697\n",
      "2 0.9354555047485051 0.9306808859721083\n",
      "3 0.9319380935631375 0.9265791632485644\n",
      "4 0.9287724234963067 0.9249384741591469\n",
      "5 0.9268378473443546 0.9228876127973749\n",
      "6 0.9266619767850862 0.9204265791632485\n",
      "7 0.925606753429476 0.9196062346185397\n",
      "8 0.9243756595145972 0.918785890073831\n",
      "9 0.923320436158987 0.9183757178014766\n",
      "10 0.9226169539219135 0.916735028712059\n",
      "11 0.9212099894477664 0.9150943396226415\n",
      "12 0.9206823777699613 0.9146841673502871\n",
      "13 0.9196271544143511 0.9142739950779327\n",
      "14 0.9187478016180092 0.9138638228055783\n",
      "15 0.918220189940204 0.9134536505332239\n",
      "16 0.9171649665845938 0.9126333059885152\n",
      "17 0.9169890960253254 0.911402789171452\n",
      "18 0.9161097432289834 0.911402789171452\n",
      "19 0.9157580021104467 0.911402789171452\n",
      "20 0.9152303904326415 0.9101722723543888\n",
      "21 0.9143510376362997 0.9101722723543888\n",
      "22 0.9134716848399578 0.9093519278096801\n",
      "23 0.9134716848399578 0.9089417555373257\n",
      "24 0.913119943721421 0.9081214109926169\n",
      "25 0.9127682026028843 0.9077112387202625\n",
      "26 0.9127682026028843 0.9068908941755537\n",
      "27 0.9125923320436159 0.9068908941755537\n",
      "28 0.9120647203658108 0.9064807219031994\n",
      "29 0.911712979247274 0.9056603773584906\n",
      "30 0.9111853675694689 0.9056603773584906\n",
      "31 0.9110094970102005 0.9056603773584906\n",
      "32 0.9104818853323954 0.9052502050861362\n",
      "33 0.9099542736545903 0.9052502050861362\n",
      "34 0.9097784030953219 0.9052502050861362\n",
      "35 0.9094266619767851 0.9048400328137818\n",
      "36 0.9092507914175167 0.9044298605414274\n",
      "37 0.90889905029898 0.904019688269073\n",
      "38 0.9081955680619065 0.904019688269073\n",
      "39 0.9078438269433696 0.904019688269073\n",
      "40 0.9076679563841012 0.9036095159967186\n",
      "41 0.9074920858248329 0.9031993437243643\n",
      "42 0.9071403447062961 0.9031993437243643\n",
      "43 0.9071403447062961 0.9031993437243643\n",
      "44 0.9071403447062961 0.9031993437243643\n",
      "45 0.906612733028491 0.9027891714520099\n",
      "46 0.9064368624692226 0.9027891714520099\n",
      "47 0.906612733028491 0.9027891714520099\n",
      "48 0.906612733028491 0.9027891714520099\n",
      "49 0.9064368624692226 0.9027891714520099\n",
      "50 0.9059092507914175 0.9027891714520099\n"
     ]
    }
   ],
   "source": [
    "#use a classic 70:30 split ratio\n",
    "X_train, X_test, y_train, y_test = train_test_split(X, y, test_size=0.3)\n",
    "\n",
    "df = pd.DataFrame(columns=['lambda','accuracy', 'type'])\n",
    "for i in range(0,51) :\n",
    "    nbc = BernoulliNB(alpha=i)\n",
    "    nbc.fit(X_train, y_train.values.ravel())\n",
    "    train_score = accuracy_score(y_train, nbc.predict(X_train))\n",
    "    test_score = accuracy_score(y_test, nbc.predict(X_test))\n",
    "    df = df.append({'lambda' : i,'accuracy':train_score, 'type': 'Train'}, ignore_index=True)\n",
    "    df = df.append({'lambda' : i,'accuracy':test_score, 'type': 'Test'}, ignore_index=True)\n",
    "    print(i, train_score, test_score)"
   ]
  },
  {
   "cell_type": "markdown",
   "metadata": {},
   "source": [
    "### In Naïve Bayes classifier plot the value of lambda (x axis) for Laplacian smoothing against training and test set accuracy."
   ]
  },
  {
   "cell_type": "code",
   "execution_count": 20,
   "metadata": {},
   "outputs": [
    {
     "data": {
      "image/png": "[encoded data removed]",
      "text/plain": [
       "<Figure size 432x288 with 1 Axes>"
      ]
     },
     "metadata": {
      "needs_background": "light"
     },
     "output_type": "display_data"
    }
   ],
   "source": [
    "x = sns.scatterplot(x=\"lambda\", y='accuracy', hue='type', data=df)"
   ]
  },
  {
   "cell_type": "markdown",
   "metadata": {},
   "source": [
    "### For decision tree classifier plot the Size Threshold (x axis) against training and test set accuracy."
   ]
  },
  {
   "cell_type": "code",
   "execution_count": 21,
   "metadata": {},
   "outputs": [
    {
     "name": "stdout",
     "output_type": "stream",
     "text": [
      "4 1.0 1.0\n",
      "8 1.0 1.0\n",
      "12 1.0 1.0\n",
      "16 1.0 1.0\n",
      "20 1.0 1.0\n",
      "24 1.0 1.0\n",
      "28 1.0 1.0\n",
      "32 1.0 1.0\n",
      "36 1.0 1.0\n",
      "40 0.9984171649665846 0.9971287940935193\n",
      "44 0.9984171649665846 0.9971287940935193\n",
      "48 0.9984171649665846 0.9971287940935193\n",
      "52 0.9984171649665846 0.9971287940935193\n",
      "56 0.9984171649665846 0.9971287940935193\n",
      "60 0.9984171649665846 0.9971287940935193\n",
      "64 0.9984171649665846 0.9971287940935193\n"
     ]
    }
   ],
   "source": [
    "df = pd.DataFrame(columns=['size threshold','accuracy', 'type'])\n",
    "for i in range(4,65,4) :\n",
    "    dtc = DecisionTreeClassifier(min_samples_split=i)\n",
    "    dtc.fit(X_train, y_train)\n",
    "    train_score = accuracy_score(y_train, dtc.predict(X_train))\n",
    "    test_score = accuracy_score(y_test, dtc.predict(X_test))\n",
    "    df = df.append({'size threshold' : i,'accuracy':train_score, 'type': 'Train'}, ignore_index=True)\n",
    "    df = df.append({'size threshold' : i,'accuracy':test_score, 'type': 'Test'}, ignore_index=True)\n",
    "    print(i, train_score, test_score)"
   ]
  },
  {
   "cell_type": "code",
   "execution_count": 22,
   "metadata": {},
   "outputs": [
    {
     "data": {
      "image/png": "[encoded data removed]",
      "text/plain": [
       "<Figure size 432x288 with 1 Axes>"
      ]
     },
     "metadata": {
      "needs_background": "light"
     },
     "output_type": "display_data"
    }
   ],
   "source": [
    "ax = sns.scatterplot(x=\"size threshold\", y='accuracy', hue='type', data=df)\n",
    "#ax.set_xticks(range(0,68,4))"
   ]
  },
  {
   "cell_type": "markdown",
   "metadata": {},
   "source": [
    "### Find the best values of lambda and SizeThreshold where the test set accuracies starts to decrease."
   ]
  },
  {
   "cell_type": "code",
   "execution_count": 23,
   "metadata": {},
   "outputs": [
    {
     "data": {
      "text/plain": [
       "6"
      ]
     },
     "execution_count": 23,
     "metadata": {},
     "output_type": "execute_result"
    }
   ],
   "source": [
    "#Get summary of best tree at threshold of 36\n",
    "dtc = DecisionTreeClassifier(min_samples_split=36)\n",
    "dtc.fit(X_train, y_train)\n",
    "dtc.get_depth()"
   ]
  },
  {
   "cell_type": "markdown",
   "metadata": {},
   "source": [
    "Looking at plots above, we can say -\n",
    "\n",
    "- Naive Bayes - Even with very small lambda value for smoothening we are getting best accuracy, ie lambda- 1.0e-10, since 0 is numerically not possible. The next best is lambda = 1\n",
    "- Decision Tree Classifier - Best size threshold : 36\n",
    "    \n",
    "Comparision -\n",
    "- Naive bayes classifier are surprisingly giving better result on set set as lambda increases, compared to train set which creates doubt.\n",
    "- Decision Tree Classifier are performing better than Naive Bayes with a test set accuracy of 1 at size threshold of 36, just a depth of 8."
   ]
  },
  {
   "cell_type": "markdown",
   "metadata": {},
   "source": [
    "<H2> P4 : MNIST Bayesian </H2>\n",
    "\n",
    "### Take the MNIST dataset. Lets call it D0 dataset"
   ]
  },
  {
   "cell_type": "code",
   "execution_count": 24,
   "metadata": {},
   "outputs": [],
   "source": [
    "mnist = pd.read_csv('DMG-2 Assignment Data Files/MNIST/train.csv')\n",
    "mnist.head()\n",
    "\n",
    "mnist_data = mnist.loc[:, mnist.columns != 'label']\n",
    "mnist_label = mnist.loc[:, mnist.columns == 'label']"
   ]
  },
  {
   "cell_type": "code",
   "execution_count": 25,
   "metadata": {},
   "outputs": [
    {
     "name": "stdout",
     "output_type": "stream",
     "text": [
      "0    1\n",
      "1    0\n",
      "2    4\n",
      "3    7\n",
      "4    3\n",
      "5    5\n",
      "6    8\n",
      "7    9\n",
      "8    2\n",
      "9    6\n",
      "dtype: object\n"
     ]
    }
   ],
   "source": [
    "target_names = pd.Series(mnist.label.unique()).apply(str)\n",
    "print(target_names)\n",
    "n_components = 9"
   ]
  },
  {
   "cell_type": "markdown",
   "metadata": {},
   "source": [
    "### Do a 9 dimensional PCA projection . Lets call it D1 dataset"
   ]
  },
  {
   "cell_type": "code",
   "execution_count": 26,
   "metadata": {},
   "outputs": [],
   "source": [
    "pca = decomposition.PCA()\n",
    "pca.n_components = n_components\n",
    "pca_data = pca.fit_transform(mnist_data)"
   ]
  },
  {
   "cell_type": "markdown",
   "metadata": {},
   "source": [
    "### Do a 9 dimensional FISHER projection . Lets call it D2 dataset"
   ]
  },
  {
   "cell_type": "code",
   "execution_count": 27,
   "metadata": {},
   "outputs": [
    {
     "name": "stderr",
     "output_type": "stream",
     "text": [
      "/Users/anmol/opt/anaconda3/lib/python3.7/site-packages/sklearn/discriminant_analysis.py:388: UserWarning: Variables are collinear.\n",
      "  warnings.warn(\"Variables are collinear.\")\n"
     ]
    }
   ],
   "source": [
    "model = LinearDiscriminantAnalysis(n_components=n_components)\n",
    "model.fit(mnist_data, mnist_label.values.ravel())\n",
    "mnist_fisher_proj_data = model.transform(mnist_data)"
   ]
  },
  {
   "cell_type": "markdown",
   "metadata": {},
   "source": [
    "### Build a Bayesian classifier on D1 (single Gaussian per class)\n",
    "- Diagonal Covariance matrix ( i.e.set non diagonals to zero)\n",
    "- Full Covariance matrix\n",
    "\n",
    "Ref :\n",
    "#Book - Machine Learning: a Probabilistic Perspective\n",
    "#Quoted - https://stats.stackexchange.com/questions/105140/gaussian-naive-bayes-really-equivalent-to-gmm-with-diagonal-covariance-matrices\n",
    "#A naive Bayes model with Gaussian 𝑃(𝑋𝑖|𝐶) is equivalent to a mixture of Gaussians with diagonal covariance matrices (Dempster et al., 1977).\n",
    "#https://scikit-learn.org/stable/modules/mixture.html#bgmm\n",
    "#https://www.programcreek.com/python/example/99731/sklearn.mixture.BayesianGaussianMixture\n"
   ]
  },
  {
   "cell_type": "code",
   "execution_count": 28,
   "metadata": {},
   "outputs": [],
   "source": [
    "def build_classifier(X_train, X_test, y_train, y_test, n_gaussians, target_names) :\n",
    "    \n",
    "    #Build bayesian classifier with diagnonal covariance matrix on fisher projection data\n",
    "    gnb_model = GaussianNB()\n",
    "    gnb_model.fit(X_train, y_train)\n",
    "    y_pred = gnb_model.predict(X_test)\n",
    "    nb_diag_acc = accuracy_score(y_test, y_pred)\n",
    "    print(\"Gaussian Naive Bayes diagonal matrix : \")\n",
    "    print(\"Train set accuracy score : \", accuracy_score(y_test, y_pred))\n",
    "    print(\"Test set accuracy score : \", nb_diag_acc)\n",
    "    print(\"Classification report : \")\n",
    "    print(classification_report(y_test, y_pred, target_names=target_names))\n",
    "\n",
    "    #Build bayesian classifier with full covariance matrix on fisher projection data\n",
    "    bgm = BayesianGaussianMixture(\n",
    "                n_components = n_gaussians,\n",
    "                covariance_type='full')\n",
    "    bgm.fit(X_train, y_train)\n",
    "    y_pred = bgm.predict(X_test)\n",
    "    #print(y_pred)\n",
    "    #print(y_test)\n",
    "    b_full_acc = accuracy_score(y_test, y_pred)\n",
    "    print(\"\\nBayesian Gaussian mixture full covariance matrix : \")\n",
    "    print(\"Train set accuracy : \", accuracy_score(y_test, y_pred))\n",
    "    print(\"Test set accuracy : \", b_full_acc)\n",
    "    print(\"Classification report : \")\n",
    "    print(classification_report(y_test, y_pred, target_names=target_names))\n",
    "    \n",
    "    #return test accuracies of both model\n",
    "    return nb_diag_acc, b_full_acc"
   ]
  },
  {
   "cell_type": "code",
   "execution_count": 29,
   "metadata": {},
   "outputs": [
    {
     "name": "stdout",
     "output_type": "stream",
     "text": [
      "Gaussian Naive Bayes diagonal matrix : \n",
      "Train set accuracy score :  0.768095238095238\n",
      "Test set accuracy score :  0.768095238095238\n",
      "Classification report : \n",
      "              precision    recall  f1-score   support\n",
      "\n",
      "           1       0.88      0.85      0.86       823\n",
      "           0       0.84      0.95      0.89       925\n",
      "           4       0.84      0.76      0.80       866\n",
      "           7       0.73      0.72      0.73       864\n",
      "           3       0.66      0.74      0.70       799\n",
      "           5       0.61      0.67      0.64       750\n",
      "           8       0.84      0.83      0.84       811\n",
      "           9       0.89      0.82      0.85       892\n",
      "           2       0.73      0.73      0.73       826\n",
      "           6       0.65      0.58      0.61       844\n",
      "\n",
      "    accuracy                           0.77      8400\n",
      "   macro avg       0.77      0.77      0.76      8400\n",
      "weighted avg       0.77      0.77      0.77      8400\n",
      "\n",
      "\n",
      "Bayesian Gaussian mixture full covariance matrix : \n",
      "Train set accuracy :  0.027142857142857142\n",
      "Test set accuracy :  0.027142857142857142\n",
      "Classification report : \n",
      "              precision    recall  f1-score   support\n",
      "\n",
      "           1       0.00      0.00      0.00       823\n",
      "           0       0.00      0.00      0.00       925\n",
      "           4       0.00      0.00      0.00       866\n",
      "           7       0.00      0.00      0.00       864\n",
      "           3       0.00      0.00      0.00       799\n",
      "           5       0.18      0.21      0.19       750\n",
      "           8       0.00      0.00      0.00       811\n",
      "           9       0.05      0.07      0.06       892\n",
      "           2       0.01      0.01      0.01       826\n",
      "           6       0.00      0.00      0.00       844\n",
      "\n",
      "    accuracy                           0.03      8400\n",
      "   macro avg       0.02      0.03      0.03      8400\n",
      "weighted avg       0.02      0.03      0.02      8400\n",
      "\n",
      "(0.768095238095238, 0.027142857142857142)\n"
     ]
    },
    {
     "name": "stderr",
     "output_type": "stream",
     "text": [
      "/Users/anmol/opt/anaconda3/lib/python3.7/site-packages/sklearn/mixture/base.py:265: ConvergenceWarning: Initialization 1 did not converge. Try different init parameters, or increase max_iter, tol or check for degenerate data.\n",
      "  % (init + 1), ConvergenceWarning)\n"
     ]
    }
   ],
   "source": [
    "X_train, X_test, y_train, y_test = train_test_split(pca_data, mnist['label'], test_size=0.2)\n",
    "print(build_classifier(X_train, X_test, y_train, y_test, 10, target_names))"
   ]
  },
  {
   "cell_type": "markdown",
   "metadata": {},
   "source": [
    "### Build a Bayesian classifier on D2 (single Gaussian per class)\n",
    "- Diagonal Covariance matrix ( i.e.set non diagonals to zero)\n",
    "- Full Covariance matrix"
   ]
  },
  {
   "cell_type": "code",
   "execution_count": 30,
   "metadata": {},
   "outputs": [
    {
     "name": "stdout",
     "output_type": "stream",
     "text": [
      "Gaussian Naive Bayes diagonal matrix : \n",
      "Train set accuracy score :  0.8860714285714286\n",
      "Test set accuracy score :  0.8860714285714286\n",
      "Classification report : \n",
      "              precision    recall  f1-score   support\n",
      "\n",
      "           1       0.95      0.94      0.95       823\n",
      "           0       0.95      0.93      0.94       921\n",
      "           4       0.88      0.87      0.88       861\n",
      "           7       0.87      0.85      0.86       814\n",
      "           3       0.89      0.90      0.90       828\n",
      "           5       0.84      0.86      0.85       827\n",
      "           8       0.92      0.93      0.92       817\n",
      "           9       0.92      0.89      0.90       857\n",
      "           2       0.79      0.83      0.81       800\n",
      "           6       0.85      0.85      0.85       852\n",
      "\n",
      "    accuracy                           0.89      8400\n",
      "   macro avg       0.89      0.89      0.89      8400\n",
      "weighted avg       0.89      0.89      0.89      8400\n",
      "\n",
      "\n",
      "Bayesian Gaussian mixture full covariance matrix : \n",
      "Train set accuracy :  0.07202380952380952\n",
      "Test set accuracy :  0.07202380952380952\n",
      "Classification report : \n",
      "              precision    recall  f1-score   support\n",
      "\n",
      "           1       0.00      0.00      0.00       823\n",
      "           0       0.00      0.00      0.00       921\n",
      "           4       0.01      0.01      0.01       861\n",
      "           7       0.01      0.01      0.01       814\n",
      "           3       0.06      0.05      0.05       828\n",
      "           5       0.01      0.01      0.01       827\n",
      "           8       0.01      0.01      0.01       817\n",
      "           9       0.00      0.00      0.00       857\n",
      "           2       0.67      0.66      0.67       800\n",
      "           6       0.01      0.01      0.01       852\n",
      "\n",
      "    accuracy                           0.07      8400\n",
      "   macro avg       0.08      0.08      0.08      8400\n",
      "weighted avg       0.07      0.07      0.07      8400\n",
      "\n",
      "(0.8860714285714286, 0.07202380952380952)\n"
     ]
    },
    {
     "name": "stderr",
     "output_type": "stream",
     "text": [
      "/Users/anmol/opt/anaconda3/lib/python3.7/site-packages/sklearn/mixture/base.py:265: ConvergenceWarning: Initialization 1 did not converge. Try different init parameters, or increase max_iter, tol or check for degenerate data.\n",
      "  % (init + 1), ConvergenceWarning)\n"
     ]
    }
   ],
   "source": [
    "X_train, X_test, y_train, y_test = train_test_split(mnist_fisher_proj_data, mnist['label'], test_size=0.2)\n",
    "print(build_classifier(X_train, X_test, y_train, y_test, 10, target_names))"
   ]
  },
  {
   "cell_type": "markdown",
   "metadata": {},
   "source": [
    "### Compare the test accuracies of the four classifiers and comment.\n",
    "\n",
    "diagonal covariance matrix - \n",
    "- PCA projection - test set accuracy is 0.76\n",
    "- Fisher projection - test set accuracy is 0.88\n",
    "\n",
    "If we look at classification matrix for test set, we see that on PCA data, digits 7,3,5 are performing poorly which improves with flscore of 0.83-0.9 range when doing classification modeling on fisher projection data\n",
    "\n",
    "\n",
    "full covariance matrix - \n",
    "- PCA projection - test set accuracy is 0.019\n",
    "- Fisher projection - test set accuracy is 0.108"
   ]
  },
  {
   "cell_type": "markdown",
   "metadata": {},
   "source": [
    "## P5 : MNIST KNN / Parzen window"
   ]
  },
  {
   "cell_type": "markdown",
   "metadata": {},
   "source": [
    "### Take the two datasets D1 and D2 from P4."
   ]
  },
  {
   "cell_type": "markdown",
   "metadata": {},
   "source": [
    "Build k Nearest neighbors classifier with:\n",
    "- K = 1, 3, 5, 7, 9, 11, 13, 15, 17\n",
    "- Plot training and test accuracy with these values of k on x axis"
   ]
  },
  {
   "cell_type": "code",
   "execution_count": 31,
   "metadata": {},
   "outputs": [],
   "source": [
    "X_train, X_test, y_train, y_test = train_test_split(pca_data, mnist['label'], test_size=0.2)"
   ]
  },
  {
   "cell_type": "code",
   "execution_count": 32,
   "metadata": {},
   "outputs": [
    {
     "name": "stdout",
     "output_type": "stream",
     "text": [
      "1 1.0 0.8943\n",
      "3 0.948 0.9077\n",
      "5 0.9367 0.9125\n",
      "7 0.9315 0.9115\n",
      "9 0.9289 0.9142\n",
      "11 0.9251 0.9137\n",
      "13 0.9217 0.9123\n",
      "15 0.9193 0.913\n",
      "17 0.9176 0.9118\n"
     ]
    }
   ],
   "source": [
    "df = pd.DataFrame(columns=['k','accuracy', 'type'])\n",
    "for i in range(1,18,2) :\n",
    "    knn_model = KNeighborsClassifier(n_neighbors=i)\n",
    "    knn_model.fit(X_train, y_train)\n",
    "    train_score = round(accuracy_score(y_train, knn_model.predict(X_train)),4)\n",
    "    test_score = round(accuracy_score(y_test, knn_model.predict(X_test)),4)\n",
    "    df = df.append({'k' : i,'accuracy':train_score, 'type': 'Train'}, ignore_index=True)\n",
    "    df = df.append({'k' : i,'accuracy':test_score, 'type': 'Test'}, ignore_index=True)\n",
    "    print(i, train_score, test_score)"
   ]
  },
  {
   "cell_type": "code",
   "execution_count": 33,
   "metadata": {},
   "outputs": [
    {
     "data": {
      "text/plain": [
       "<matplotlib.axes._subplots.AxesSubplot at 0x1a2827bc90>"
      ]
     },
     "execution_count": 33,
     "metadata": {},
     "output_type": "execute_result"
    },
    {
     "data": {
      "image/png": "[encoded data removed]",
      "text/plain": [
       "<Figure size 432x288 with 1 Axes>"
      ]
     },
     "metadata": {
      "needs_background": "light"
     },
     "output_type": "display_data"
    }
   ],
   "source": [
    "sns.scatterplot(x=\"k\", y='accuracy', hue='type', data=df)"
   ]
  },
  {
   "cell_type": "code",
   "execution_count": 34,
   "metadata": {},
   "outputs": [
    {
     "ename": "AttributeError",
     "evalue": "'KernelDensity' object has no attribute 'predict'",
     "output_type": "error",
     "traceback": [
      "\u001b[0;31m---------------------------------------------------------------------------\u001b[0m",
      "\u001b[0;31mAttributeError\u001b[0m                            Traceback (most recent call last)",
      "\u001b[0;32m<ipython-input-34-62529419f902>\u001b[0m in \u001b[0;36m<module>\u001b[0;34m\u001b[0m\n\u001b[1;32m      7\u001b[0m     \u001b[0mkde_model\u001b[0m \u001b[0;34m=\u001b[0m \u001b[0mKernelDensity\u001b[0m\u001b[0;34m(\u001b[0m\u001b[0mbandwidth\u001b[0m\u001b[0;34m=\u001b[0m\u001b[0mi\u001b[0m\u001b[0;34m,\u001b[0m \u001b[0mkernel\u001b[0m\u001b[0;34m=\u001b[0m\u001b[0;34m'gaussian'\u001b[0m\u001b[0;34m)\u001b[0m\u001b[0;34m\u001b[0m\u001b[0;34m\u001b[0m\u001b[0m\n\u001b[1;32m      8\u001b[0m     \u001b[0mkde_model\u001b[0m\u001b[0;34m.\u001b[0m\u001b[0mfit\u001b[0m\u001b[0;34m(\u001b[0m\u001b[0mX_train\u001b[0m\u001b[0;34m)\u001b[0m\u001b[0;34m\u001b[0m\u001b[0;34m\u001b[0m\u001b[0m\n\u001b[0;32m----> 9\u001b[0;31m     \u001b[0mtrain_score\u001b[0m \u001b[0;34m=\u001b[0m \u001b[0mround\u001b[0m\u001b[0;34m(\u001b[0m\u001b[0maccuracy_score\u001b[0m\u001b[0;34m(\u001b[0m\u001b[0my_train\u001b[0m\u001b[0;34m,\u001b[0m \u001b[0mkde_model\u001b[0m\u001b[0;34m.\u001b[0m\u001b[0mpredict\u001b[0m\u001b[0;34m(\u001b[0m\u001b[0mX_train\u001b[0m\u001b[0;34m)\u001b[0m\u001b[0;34m)\u001b[0m\u001b[0;34m,\u001b[0m\u001b[0;36m4\u001b[0m\u001b[0;34m)\u001b[0m\u001b[0;34m\u001b[0m\u001b[0;34m\u001b[0m\u001b[0m\n\u001b[0m\u001b[1;32m     10\u001b[0m     \u001b[0mtest_score\u001b[0m \u001b[0;34m=\u001b[0m \u001b[0mround\u001b[0m\u001b[0;34m(\u001b[0m\u001b[0maccuracy_score\u001b[0m\u001b[0;34m(\u001b[0m\u001b[0my_test\u001b[0m\u001b[0;34m,\u001b[0m \u001b[0mkde_model\u001b[0m\u001b[0;34m.\u001b[0m\u001b[0mpredict\u001b[0m\u001b[0;34m(\u001b[0m\u001b[0mX_test\u001b[0m\u001b[0;34m)\u001b[0m\u001b[0;34m)\u001b[0m\u001b[0;34m,\u001b[0m\u001b[0;36m4\u001b[0m\u001b[0;34m)\u001b[0m\u001b[0;34m\u001b[0m\u001b[0;34m\u001b[0m\u001b[0m\n\u001b[1;32m     11\u001b[0m     \u001b[0mdf\u001b[0m \u001b[0;34m=\u001b[0m \u001b[0mdf\u001b[0m\u001b[0;34m.\u001b[0m\u001b[0mappend\u001b[0m\u001b[0;34m(\u001b[0m\u001b[0;34m{\u001b[0m\u001b[0;34m'sigma'\u001b[0m \u001b[0;34m:\u001b[0m \u001b[0mi\u001b[0m\u001b[0;34m,\u001b[0m\u001b[0;34m'accuracy'\u001b[0m\u001b[0;34m:\u001b[0m\u001b[0mtrain_score\u001b[0m\u001b[0;34m,\u001b[0m \u001b[0;34m'type'\u001b[0m\u001b[0;34m:\u001b[0m \u001b[0;34m'Train'\u001b[0m\u001b[0;34m}\u001b[0m\u001b[0;34m,\u001b[0m \u001b[0mignore_index\u001b[0m\u001b[0;34m=\u001b[0m\u001b[0;32mTrue\u001b[0m\u001b[0;34m)\u001b[0m\u001b[0;34m\u001b[0m\u001b[0;34m\u001b[0m\u001b[0m\n",
      "\u001b[0;31mAttributeError\u001b[0m: 'KernelDensity' object has no attribute 'predict'"
     ]
    }
   ],
   "source": [
    "df = pd.DataFrame(columns=['sigma','accuracy', 'type'])\n",
    "sigma_list = []\n",
    "for i in np.arange(0.1, 3.1, 0.1) :\n",
    "    sigma_list.append(round(i,1))\n",
    "sigma_list\n",
    "for i in sigma_list :\n",
    "    kde_model = KernelDensity(bandwidth=i, kernel='gaussian')\n",
    "    kde_model.fit(X_train)\n",
    "    train_score = round(accuracy_score(y_train, kde_model.predict(X_train)),4)\n",
    "    test_score = round(accuracy_score(y_test, kde_model.predict(X_test)),4)\n",
    "    df = df.append({'sigma' : i,'accuracy':train_score, 'type': 'Train'}, ignore_index=True)\n",
    "    df = df.append({'sigma' : i,'accuracy':test_score, 'type': 'Test'}, ignore_index=True)\n",
    "    print(i, train_score, test_score)"
   ]
  },
  {
   "cell_type": "code",
   "execution_count": 37,
   "metadata": {},
   "outputs": [
    {
     "data": {
      "text/plain": [
       "(33600,)"
      ]
     },
     "execution_count": 37,
     "metadata": {},
     "output_type": "execute_result"
    }
   ],
   "source": [
    "kde_model = KernelDensity(bandwidth=0.9, kernel='gaussian')\n",
    "kde_model.fit(X_train)\n",
    "\n",
    "log_prob = kde_model.score_samples(X_train)\n",
    "prob_X_train = np.exp(log_prob) \n",
    "prob_X_train.\n",
    "#kde_model.sample(44, random_state=0)"
   ]
  },
  {
   "cell_type": "code",
   "execution_count": 40,
   "metadata": {},
   "outputs": [
    {
     "data": {
      "text/plain": [
       "(33600,)"
      ]
     },
     "execution_count": 40,
     "metadata": {},
     "output_type": "execute_result"
    }
   ],
   "source": [
    "prob_X_train.shape"
   ]
  },
  {
   "cell_type": "code",
   "execution_count": null,
   "metadata": {},
   "outputs": [],
   "source": [
    "#https://scikit-learn.org/stable/modules/generated/sklearn.neighbors.KernelDensity.html#sklearn.neighbors.KernelDensity\n",
    "\n",
    "\n",
    "import numpy as np\n",
    "import matplotlib.pyplot as plt\n",
    "\n",
    "from sklearn.datasets import load_digits\n",
    "\n",
    "from sklearn.decomposition import PCA\n",
    "from sklearn.model_selection import GridSearchCV\n",
    "\n",
    "# load the data\n",
    "digits = load_digits()\n",
    "\n",
    "# project the 64-dimensional data to a lower dimension\n",
    "pca = PCA(n_components=15, whiten=False)\n",
    "data = pca.fit_transform(digits.data)\n",
    "\n",
    "# use grid search cross-validation to optimize the bandwidth\n",
    "params = {'bandwidth': np.logspace(-1, 1, 20)}\n",
    "grid = GridSearchCV(KernelDensity(), params)\n",
    "grid.fit(data)\n",
    "\n",
    "print(\"best bandwidth: {0}\".format(grid.best_estimator_.bandwidth))\n",
    "\n",
    "# use the best estimator to compute the kernel density estimate\n",
    "kde = grid.best_estimator_\n",
    "\n",
    "# sample 44 new points from the data\n",
    "new_data = kde.sample(44, random_state=0)\n",
    "new_data = pca.inverse_transform(new_data)\n",
    "\n",
    "# turn data into a 4x11 grid\n",
    "new_data = new_data.reshape((4, 11, -1))\n",
    "real_data = digits.data[:44].reshape((4, 11, -1))\n",
    "\n",
    "# plot real digits and resampled digits\n",
    "fig, ax = plt.subplots(9, 11, subplot_kw=dict(xticks=[], yticks=[]))\n",
    "for j in range(11):\n",
    "    ax[4, j].set_visible(False)\n",
    "    for i in range(4):\n",
    "        im = ax[i, j].imshow(real_data[i, j].reshape((8, 8)),\n",
    "                             cmap=plt.cm.binary, interpolation='nearest')\n",
    "        im.set_clim(0, 16)\n",
    "        im = ax[i + 5, j].imshow(new_data[i, j].reshape((8, 8)),\n",
    "                                 cmap=plt.cm.binary, interpolation='nearest')\n",
    "        im.set_clim(0, 16)\n",
    "\n",
    "ax[0, 5].set_title('Selection from the input data')\n",
    "ax[5, 5].set_title('\"New\" digits drawn from the kernel density model')\n",
    "\n",
    "plt.show()"
   ]
  },
  {
   "cell_type": "code",
   "execution_count": null,
   "metadata": {},
   "outputs": [],
   "source": []
  },
  {
   "cell_type": "code",
   "execution_count": null,
   "metadata": {},
   "outputs": [],
   "source": []
  },
  {
   "cell_type": "markdown",
   "metadata": {},
   "source": [
    "Build Parzen window classifier with:\n",
    "- Sigma = 0.1, 0.2, 0.3, …, 3.0\n",
    "- Plot training and test accuracies with these values of sigma."
   ]
  },
  {
   "cell_type": "markdown",
   "metadata": {},
   "source": [
    "<h2> P6 : News group Text Classifier </h2>"
   ]
  },
  {
   "cell_type": "code",
   "execution_count": null,
   "metadata": {},
   "outputs": [],
   "source": [
    "#https://www.analyticsvidhya.com/blog/2018/10/stepwise-guide-topic-modeling-latent-semantic-analysis/\n",
    "#https://medium.com/@dobko_m/nlp-text-data-cleaning-and-preprocessing-ea3ffe0406c1\n",
    "\n",
    "from sklearn.datasets import fetch_20newsgroups\n",
    "\n",
    "dataset = fetch_20newsgroups(remove=('headers', 'footers', 'quotes'))\n",
    "documents = dataset.data"
   ]
  },
  {
   "cell_type": "code",
   "execution_count": null,
   "metadata": {},
   "outputs": [],
   "source": [
    "news_group_dataset = documents"
   ]
  },
  {
   "cell_type": "code",
   "execution_count": null,
   "metadata": {},
   "outputs": [],
   "source": [
    "news_group_dataset = re.sub(\"[!@#$+%*:()'-]\", ' ', news_group_dataset)\n",
    "news_group_dataset"
   ]
  },
  {
   "cell_type": "code",
   "execution_count": null,
   "metadata": {},
   "outputs": [],
   "source": [
    "# removing everything except alphabets`\n",
    "\n",
    "text = re.sub(\"[!@#$+%*:()'-]\", ' ', text)\n",
    "news_group_dataset = news_group_dataset.str.replace(\"[^a-zA-Z#]\", \" \")\n",
    "\n",
    "# removing short words\n",
    "news_df['clean_doc'] = news_df['clean_doc'].apply(lambda x: ' '.join([w for w in x.split() if len(w)>3]))\n",
    "\n",
    "# make all text lowercase\n",
    "news_df['clean_doc'] = news_df['clean_doc'].apply(lambda x: x.lower())"
   ]
  },
  {
   "cell_type": "code",
   "execution_count": null,
   "metadata": {},
   "outputs": [],
   "source": []
  }
 ],
 "metadata": {
  "kernelspec": {
   "display_name": "Python 3",
   "language": "python",
   "name": "python3"
  },
  "language_info": {
   "codemirror_mode": {
    "name": "ipython",
    "version": 3
   },
   "file_extension": ".py",
   "mimetype": "text/x-python",
   "name": "python",
   "nbconvert_exporter": "python",
   "pygments_lexer": "ipython3",
   "version": "3.7.4"
  }
 },
 "nbformat": 4,
 "nbformat_minor": 2
}
