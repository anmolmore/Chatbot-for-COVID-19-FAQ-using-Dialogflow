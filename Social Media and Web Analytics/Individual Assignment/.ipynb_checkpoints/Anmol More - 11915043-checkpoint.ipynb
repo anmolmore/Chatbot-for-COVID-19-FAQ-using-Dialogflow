{
 "cells": [
  {
   "cell_type": "code",
   "execution_count": 45,
   "metadata": {},
   "outputs": [],
   "source": [
    "#import necessary libraries\n",
    "import pandas as pd\n",
    "import numpy as np\n",
    "import seaborn as sns"
   ]
  },
  {
   "cell_type": "code",
   "execution_count": 11,
   "metadata": {},
   "outputs": [],
   "source": [
    "data = pd.read_excel('Dataset.xls')"
   ]
  },
  {
   "cell_type": "code",
   "execution_count": 12,
   "metadata": {},
   "outputs": [
    {
     "data": {
      "text/html": [
       "<div>\n",
       "<style scoped>\n",
       "    .dataframe tbody tr th:only-of-type {\n",
       "        vertical-align: middle;\n",
       "    }\n",
       "\n",
       "    .dataframe tbody tr th {\n",
       "        vertical-align: top;\n",
       "    }\n",
       "\n",
       "    .dataframe thead th {\n",
       "        text-align: right;\n",
       "    }\n",
       "</style>\n",
       "<table border=\"1\" class=\"dataframe\">\n",
       "  <thead>\n",
       "    <tr style=\"text-align: right;\">\n",
       "      <th></th>\n",
       "      <th>id</th>\n",
       "      <th>purchase</th>\n",
       "      <th>test</th>\n",
       "      <th>imp_1</th>\n",
       "      <th>imp_2</th>\n",
       "      <th>imp_3</th>\n",
       "      <th>imp_4</th>\n",
       "      <th>imp_5</th>\n",
       "      <th>imp_6</th>\n",
       "    </tr>\n",
       "  </thead>\n",
       "  <tbody>\n",
       "    <tr>\n",
       "      <td>0</td>\n",
       "      <td>545716</td>\n",
       "      <td>1</td>\n",
       "      <td>1</td>\n",
       "      <td>0</td>\n",
       "      <td>1</td>\n",
       "      <td>0</td>\n",
       "      <td>0</td>\n",
       "      <td>0</td>\n",
       "      <td>0</td>\n",
       "    </tr>\n",
       "    <tr>\n",
       "      <td>1</td>\n",
       "      <td>893524</td>\n",
       "      <td>1</td>\n",
       "      <td>1</td>\n",
       "      <td>1</td>\n",
       "      <td>0</td>\n",
       "      <td>0</td>\n",
       "      <td>17</td>\n",
       "      <td>0</td>\n",
       "      <td>1</td>\n",
       "    </tr>\n",
       "    <tr>\n",
       "      <td>2</td>\n",
       "      <td>1372718</td>\n",
       "      <td>1</td>\n",
       "      <td>1</td>\n",
       "      <td>0</td>\n",
       "      <td>0</td>\n",
       "      <td>0</td>\n",
       "      <td>10</td>\n",
       "      <td>0</td>\n",
       "      <td>0</td>\n",
       "    </tr>\n",
       "    <tr>\n",
       "      <td>3</td>\n",
       "      <td>971359</td>\n",
       "      <td>1</td>\n",
       "      <td>1</td>\n",
       "      <td>14</td>\n",
       "      <td>37</td>\n",
       "      <td>1</td>\n",
       "      <td>7</td>\n",
       "      <td>0</td>\n",
       "      <td>7</td>\n",
       "    </tr>\n",
       "    <tr>\n",
       "      <td>4</td>\n",
       "      <td>59999</td>\n",
       "      <td>1</td>\n",
       "      <td>1</td>\n",
       "      <td>0</td>\n",
       "      <td>0</td>\n",
       "      <td>0</td>\n",
       "      <td>13</td>\n",
       "      <td>0</td>\n",
       "      <td>0</td>\n",
       "    </tr>\n",
       "  </tbody>\n",
       "</table>\n",
       "</div>"
      ],
      "text/plain": [
       "        id  purchase  test  imp_1  imp_2  imp_3  imp_4  imp_5  imp_6\n",
       "0   545716         1     1      0      1      0      0      0      0\n",
       "1   893524         1     1      1      0      0     17      0      1\n",
       "2  1372718         1     1      0      0      0     10      0      0\n",
       "3   971359         1     1     14     37      1      7      0      7\n",
       "4    59999         1     1      0      0      0     13      0      0"
      ]
     },
     "execution_count": 12,
     "metadata": {},
     "output_type": "execute_result"
    }
   ],
   "source": [
    "data.head()"
   ]
  },
  {
   "cell_type": "markdown",
   "metadata": {},
   "source": [
    "<h3> data is highly skewed as seen below </h3>"
   ]
  },
  {
   "cell_type": "code",
   "execution_count": 43,
   "metadata": {},
   "outputs": [
    {
     "data": {
      "text/html": [
       "<div>\n",
       "<style scoped>\n",
       "    .dataframe tbody tr th:only-of-type {\n",
       "        vertical-align: middle;\n",
       "    }\n",
       "\n",
       "    .dataframe tbody tr th {\n",
       "        vertical-align: top;\n",
       "    }\n",
       "\n",
       "    .dataframe thead th {\n",
       "        text-align: right;\n",
       "    }\n",
       "</style>\n",
       "<table border=\"1\" class=\"dataframe\">\n",
       "  <thead>\n",
       "    <tr style=\"text-align: right;\">\n",
       "      <th></th>\n",
       "      <th>id</th>\n",
       "      <th>purchase</th>\n",
       "      <th>test</th>\n",
       "      <th>imp_1</th>\n",
       "      <th>imp_2</th>\n",
       "      <th>imp_3</th>\n",
       "      <th>imp_4</th>\n",
       "      <th>imp_5</th>\n",
       "      <th>imp_6</th>\n",
       "    </tr>\n",
       "  </thead>\n",
       "  <tbody>\n",
       "    <tr>\n",
       "      <td>count</td>\n",
       "      <td>2.530300e+04</td>\n",
       "      <td>25303.000000</td>\n",
       "      <td>25303.000000</td>\n",
       "      <td>25303.000000</td>\n",
       "      <td>25303.000000</td>\n",
       "      <td>25303.000000</td>\n",
       "      <td>25303.000000</td>\n",
       "      <td>25303.000000</td>\n",
       "      <td>25303.000000</td>\n",
       "    </tr>\n",
       "    <tr>\n",
       "      <td>mean</td>\n",
       "      <td>7.089534e+05</td>\n",
       "      <td>0.502865</td>\n",
       "      <td>0.895032</td>\n",
       "      <td>0.930917</td>\n",
       "      <td>3.427775</td>\n",
       "      <td>0.094771</td>\n",
       "      <td>1.589495</td>\n",
       "      <td>0.048967</td>\n",
       "      <td>1.783464</td>\n",
       "    </tr>\n",
       "    <tr>\n",
       "      <td>std</td>\n",
       "      <td>4.084545e+05</td>\n",
       "      <td>0.500002</td>\n",
       "      <td>0.306518</td>\n",
       "      <td>5.629510</td>\n",
       "      <td>13.755455</td>\n",
       "      <td>1.505434</td>\n",
       "      <td>6.683091</td>\n",
       "      <td>0.570752</td>\n",
       "      <td>7.010298</td>\n",
       "    </tr>\n",
       "    <tr>\n",
       "      <td>min</td>\n",
       "      <td>2.700000e+01</td>\n",
       "      <td>0.000000</td>\n",
       "      <td>0.000000</td>\n",
       "      <td>0.000000</td>\n",
       "      <td>0.000000</td>\n",
       "      <td>0.000000</td>\n",
       "      <td>0.000000</td>\n",
       "      <td>0.000000</td>\n",
       "      <td>0.000000</td>\n",
       "    </tr>\n",
       "    <tr>\n",
       "      <td>25%</td>\n",
       "      <td>3.538805e+05</td>\n",
       "      <td>0.000000</td>\n",
       "      <td>1.000000</td>\n",
       "      <td>0.000000</td>\n",
       "      <td>0.000000</td>\n",
       "      <td>0.000000</td>\n",
       "      <td>0.000000</td>\n",
       "      <td>0.000000</td>\n",
       "      <td>0.000000</td>\n",
       "    </tr>\n",
       "    <tr>\n",
       "      <td>50%</td>\n",
       "      <td>7.083440e+05</td>\n",
       "      <td>1.000000</td>\n",
       "      <td>1.000000</td>\n",
       "      <td>0.000000</td>\n",
       "      <td>0.000000</td>\n",
       "      <td>0.000000</td>\n",
       "      <td>0.000000</td>\n",
       "      <td>0.000000</td>\n",
       "      <td>1.000000</td>\n",
       "    </tr>\n",
       "    <tr>\n",
       "      <td>75%</td>\n",
       "      <td>1.062738e+06</td>\n",
       "      <td>1.000000</td>\n",
       "      <td>1.000000</td>\n",
       "      <td>0.000000</td>\n",
       "      <td>2.000000</td>\n",
       "      <td>0.000000</td>\n",
       "      <td>0.000000</td>\n",
       "      <td>0.000000</td>\n",
       "      <td>2.000000</td>\n",
       "    </tr>\n",
       "    <tr>\n",
       "      <td>max</td>\n",
       "      <td>1.413367e+06</td>\n",
       "      <td>1.000000</td>\n",
       "      <td>1.000000</td>\n",
       "      <td>296.000000</td>\n",
       "      <td>373.000000</td>\n",
       "      <td>148.000000</td>\n",
       "      <td>225.000000</td>\n",
       "      <td>51.000000</td>\n",
       "      <td>404.000000</td>\n",
       "    </tr>\n",
       "  </tbody>\n",
       "</table>\n",
       "</div>"
      ],
      "text/plain": [
       "                 id      purchase          test         imp_1         imp_2  \\\n",
       "count  2.530300e+04  25303.000000  25303.000000  25303.000000  25303.000000   \n",
       "mean   7.089534e+05      0.502865      0.895032      0.930917      3.427775   \n",
       "std    4.084545e+05      0.500002      0.306518      5.629510     13.755455   \n",
       "min    2.700000e+01      0.000000      0.000000      0.000000      0.000000   \n",
       "25%    3.538805e+05      0.000000      1.000000      0.000000      0.000000   \n",
       "50%    7.083440e+05      1.000000      1.000000      0.000000      0.000000   \n",
       "75%    1.062738e+06      1.000000      1.000000      0.000000      2.000000   \n",
       "max    1.413367e+06      1.000000      1.000000    296.000000    373.000000   \n",
       "\n",
       "              imp_3         imp_4         imp_5         imp_6  \n",
       "count  25303.000000  25303.000000  25303.000000  25303.000000  \n",
       "mean       0.094771      1.589495      0.048967      1.783464  \n",
       "std        1.505434      6.683091      0.570752      7.010298  \n",
       "min        0.000000      0.000000      0.000000      0.000000  \n",
       "25%        0.000000      0.000000      0.000000      0.000000  \n",
       "50%        0.000000      0.000000      0.000000      1.000000  \n",
       "75%        0.000000      0.000000      0.000000      2.000000  \n",
       "max      148.000000    225.000000     51.000000    404.000000  "
      ]
     },
     "execution_count": 43,
     "metadata": {},
     "output_type": "execute_result"
    }
   ],
   "source": [
    "data.describe()"
   ]
  },
  {
   "cell_type": "code",
   "execution_count": 27,
   "metadata": {},
   "outputs": [
    {
     "data": {
      "text/plain": [
       "<matplotlib.axes._subplots.AxesSubplot at 0x117c1e050>"
      ]
     },
     "execution_count": 27,
     "metadata": {},
     "output_type": "execute_result"
    },
    {
     "data": {
      "image/png": "[encoded data removed]",
      "text/plain": [
       "<Figure size 432x288 with 1 Axes>"
      ]
     },
     "metadata": {
      "needs_background": "light"
     },
     "output_type": "display_data"
    }
   ],
   "source": [
    "data.boxplot(column=['imp_1','imp_2', 'imp_3', 'imp_4', 'imp_5', 'imp_6'])"
   ]
  },
  {
   "cell_type": "markdown",
   "metadata": {},
   "source": [
    "<h3> Even after taking log the outliers couldn't be removed completely </h3>"
   ]
  },
  {
   "cell_type": "code",
   "execution_count": 55,
   "metadata": {},
   "outputs": [
    {
     "name": "stdout",
     "output_type": "stream",
     "text": [
      "          imp_1     imp_2     imp_3     imp_4    imp_5     imp_6\n",
      "0.100  0.000000  0.000000  0.000000  0.000000  0.00000  0.000000\n",
      "0.200  0.000000  0.000000  0.000000  0.000000  0.00000  0.000000\n",
      "0.800  0.000000  1.098612  0.000000  0.000000  0.00000  0.693147\n",
      "0.900  0.000000  1.791759  0.000000  1.386294  0.00000  1.386294\n",
      "0.950  1.386294  2.639057  0.000000  2.197225  0.00000  1.791759\n",
      "0.990  2.890372  4.043051  0.693147  3.401197  0.00000  2.995732\n",
      "0.999  4.391616  5.208298  2.795414  4.418841  1.94591  4.427200\n"
     ]
    },
    {
     "data": {
      "text/plain": [
       "array([[<matplotlib.axes._subplots.AxesSubplot object at 0x11c04f590>,\n",
       "        <matplotlib.axes._subplots.AxesSubplot object at 0x11bfbfe50>],\n",
       "       [<matplotlib.axes._subplots.AxesSubplot object at 0x11c1a6690>,\n",
       "        <matplotlib.axes._subplots.AxesSubplot object at 0x11c1d8d10>],\n",
       "       [<matplotlib.axes._subplots.AxesSubplot object at 0x11c21b550>,\n",
       "        <matplotlib.axes._subplots.AxesSubplot object at 0x11c24ed50>]],\n",
       "      dtype=object)"
      ]
     },
     "execution_count": 55,
     "metadata": {},
     "output_type": "execute_result"
    },
    {
     "data": {
      "image/png": "[encoded data removed]",
      "text/plain": [
       "<Figure size 432x288 with 1 Axes>"
      ]
     },
     "metadata": {
      "needs_background": "light"
     },
     "output_type": "display_data"
    },
    {
     "data": {
      "image/png": "[encoded data removed]",
      "text/plain": [
       "<Figure size 432x288 with 6 Axes>"
      ]
     },
     "metadata": {
      "needs_background": "light"
     },
     "output_type": "display_data"
    }
   ],
   "source": [
    "df = np.log(data[['imp_1','imp_2', 'imp_3', 'imp_4', 'imp_5', 'imp_6']].replace(0, np.nan)).replace(np.nan,0)\n",
    "print(df[['imp_1','imp_2', 'imp_3', 'imp_4', 'imp_5', 'imp_6']].quantile([0.1,0.2,0.8,0.9,0.95,0.99,0.999]))\n",
    "df.boxplot(column=['imp_1','imp_2', 'imp_3', 'imp_4', 'imp_5', 'imp_6'])\n",
    "df.hist()"
   ]
  },
  {
   "cell_type": "markdown",
   "metadata": {},
   "source": [
    "## check percentile ranges for each columns"
   ]
  },
  {
   "cell_type": "code",
   "execution_count": 42,
   "metadata": {},
   "outputs": [
    {
     "data": {
      "text/html": [
       "<div>\n",
       "<style scoped>\n",
       "    .dataframe tbody tr th:only-of-type {\n",
       "        vertical-align: middle;\n",
       "    }\n",
       "\n",
       "    .dataframe tbody tr th {\n",
       "        vertical-align: top;\n",
       "    }\n",
       "\n",
       "    .dataframe thead th {\n",
       "        text-align: right;\n",
       "    }\n",
       "</style>\n",
       "<table border=\"1\" class=\"dataframe\">\n",
       "  <thead>\n",
       "    <tr style=\"text-align: right;\">\n",
       "      <th></th>\n",
       "      <th>imp_1</th>\n",
       "      <th>imp_2</th>\n",
       "      <th>imp_3</th>\n",
       "      <th>imp_4</th>\n",
       "      <th>imp_5</th>\n",
       "      <th>imp_6</th>\n",
       "    </tr>\n",
       "  </thead>\n",
       "  <tbody>\n",
       "    <tr>\n",
       "      <td>0.100</td>\n",
       "      <td>0.000</td>\n",
       "      <td>0.000</td>\n",
       "      <td>0.000</td>\n",
       "      <td>0.0</td>\n",
       "      <td>0.0</td>\n",
       "      <td>0.000</td>\n",
       "    </tr>\n",
       "    <tr>\n",
       "      <td>0.200</td>\n",
       "      <td>0.000</td>\n",
       "      <td>0.000</td>\n",
       "      <td>0.000</td>\n",
       "      <td>0.0</td>\n",
       "      <td>0.0</td>\n",
       "      <td>0.000</td>\n",
       "    </tr>\n",
       "    <tr>\n",
       "      <td>0.800</td>\n",
       "      <td>0.000</td>\n",
       "      <td>3.000</td>\n",
       "      <td>0.000</td>\n",
       "      <td>0.0</td>\n",
       "      <td>0.0</td>\n",
       "      <td>2.000</td>\n",
       "    </tr>\n",
       "    <tr>\n",
       "      <td>0.900</td>\n",
       "      <td>1.000</td>\n",
       "      <td>6.000</td>\n",
       "      <td>0.000</td>\n",
       "      <td>4.0</td>\n",
       "      <td>0.0</td>\n",
       "      <td>4.000</td>\n",
       "    </tr>\n",
       "    <tr>\n",
       "      <td>0.950</td>\n",
       "      <td>4.000</td>\n",
       "      <td>14.000</td>\n",
       "      <td>0.000</td>\n",
       "      <td>9.0</td>\n",
       "      <td>0.0</td>\n",
       "      <td>6.000</td>\n",
       "    </tr>\n",
       "    <tr>\n",
       "      <td>0.990</td>\n",
       "      <td>18.000</td>\n",
       "      <td>57.000</td>\n",
       "      <td>2.000</td>\n",
       "      <td>30.0</td>\n",
       "      <td>1.0</td>\n",
       "      <td>20.000</td>\n",
       "    </tr>\n",
       "    <tr>\n",
       "      <td>0.999</td>\n",
       "      <td>80.792</td>\n",
       "      <td>182.792</td>\n",
       "      <td>16.396</td>\n",
       "      <td>83.0</td>\n",
       "      <td>7.0</td>\n",
       "      <td>83.698</td>\n",
       "    </tr>\n",
       "  </tbody>\n",
       "</table>\n",
       "</div>"
      ],
      "text/plain": [
       "        imp_1    imp_2   imp_3  imp_4  imp_5   imp_6\n",
       "0.100   0.000    0.000   0.000    0.0    0.0   0.000\n",
       "0.200   0.000    0.000   0.000    0.0    0.0   0.000\n",
       "0.800   0.000    3.000   0.000    0.0    0.0   2.000\n",
       "0.900   1.000    6.000   0.000    4.0    0.0   4.000\n",
       "0.950   4.000   14.000   0.000    9.0    0.0   6.000\n",
       "0.990  18.000   57.000   2.000   30.0    1.0  20.000\n",
       "0.999  80.792  182.792  16.396   83.0    7.0  83.698"
      ]
     },
     "execution_count": 42,
     "metadata": {},
     "output_type": "execute_result"
    }
   ],
   "source": [
    "data[['imp_1','imp_2', 'imp_3', 'imp_4', 'imp_5', 'imp_6']].quantile([0.1,0.2,0.8,0.9,0.95,0.99,0.999])"
   ]
  },
  {
   "cell_type": "code",
   "execution_count": null,
   "metadata": {},
   "outputs": [],
   "source": []
  }
 ],
 "metadata": {
  "kernelspec": {
   "display_name": "Python 3",
   "language": "python",
   "name": "python3"
  },
  "language_info": {
   "codemirror_mode": {
    "name": "ipython",
    "version": 3
   },
   "file_extension": ".py",
   "mimetype": "text/x-python",
   "name": "python",
   "nbconvert_exporter": "python",
   "pygments_lexer": "ipython3",
   "version": "3.7.4"
  }
 },
 "nbformat": 4,
 "nbformat_minor": 2
}
